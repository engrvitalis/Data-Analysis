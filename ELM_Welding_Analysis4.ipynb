{
  "nbformat": 4,
  "nbformat_minor": 0,
  "metadata": {
    "colab": {
      "name": "ELM_Welding Analysis4",
      "provenance": [],
      "collapsed_sections": [],
      "authorship_tag": "ABX9TyOMYE3t5c0bcfzKIJ72lyqm",
      "include_colab_link": true
    },
    "kernelspec": {
      "name": "python3",
      "display_name": "Python 3.8.5 32-bit"
    },
    "language_info": {
      "name": "python",
      "version": "3.8.5"
    },
    "interpreter": {
      "hash": "1c72832a108eb0837c5c37e8e00e2391395febd5aef1dcb35f2d105938702949"
    }
  },
  "cells": [
    {
      "cell_type": "code",
      "metadata": {
        "id": "Gc3npuPEvizW"
      },
      "source": [
        "\"\"\"Import the required modules\"\"\"\n",
        "from sklearn.neural_network import MLPRegressor\n",
        "from sklearn.model_selection import train_test_split\n",
        "from sklearn.metrics import r2_score, mean_squared_error, mean_absolute_error\n",
        "from sklearn.preprocessing import StandardScaler\n",
        "from scipy.linalg import pinv2\n",
        "import matplotlib.pyplot as plt\n",
        "import pandas as pd\n",
        "import numpy as np\n",
        "import timeit"
      ],
      "execution_count": 1,
      "outputs": []
    },
    {
      "cell_type": "markdown",
      "metadata": {
        "id": "FbVon2IRHqUR"
      },
      "source": [
        "Analyzing welding data by welding types"
      ]
    },
    {
      "cell_type": "code",
      "metadata": {
        "id": "rI_WusHbqMt3",
        "colab": {
          "base_uri": "https://localhost:8080/",
          "height": 224
        },
        "outputId": "ed6f5f16-dbeb-417e-dc80-a01c63377bb3"
      },
      "source": [
        "df2 = pd.read_csv('welding_data_by_welding_types.csv')\n",
        "df2 = pd.get_dummies(df2).drop('welding_type_GMAW', axis=1)\n",
        "df2 = df2[['current', 'voltage', 'welding_speed', 'plate_thickness',\t'welding_type_SAW',\t'welding_type_SMAW',\t              'welding_type_GTAW', 'flexural_strength', 'hardness_value', 'residual_stress',\n",
        "           'tensile_strength']]\n",
        "df2.head()"
      ],
      "execution_count": 2,
      "outputs": [
        {
          "output_type": "execute_result",
          "data": {
            "text/plain": [
              "   current  voltage  welding_speed  plate_thickness  welding_type_SAW  \\\n",
              "0      160       32            120                6                 0   \n",
              "1      130       32             90                8                 0   \n",
              "2      100       28            120                8                 0   \n",
              "3      160       28             90               10                 0   \n",
              "4      100       28            120                8                 1   \n",
              "\n",
              "   welding_type_SMAW  welding_type_GTAW  flexural_strength  hardness_value  \\\n",
              "0                  0                  1              236.2           102.5   \n",
              "1                  1                  0              270.2            96.4   \n",
              "2                  0                  1              360.8            86.4   \n",
              "3                  0                  1              230.0           105.0   \n",
              "4                  0                  0              276.5           128.4   \n",
              "\n",
              "   residual_stress  tensile_strength  \n",
              "0            152.0             432.6  \n",
              "1            270.2             332.8  \n",
              "2             90.5             382.4  \n",
              "3            165.4             422.8  \n",
              "4            186.6             385.5  "
            ],
            "text/html": "<div>\n<style scoped>\n    .dataframe tbody tr th:only-of-type {\n        vertical-align: middle;\n    }\n\n    .dataframe tbody tr th {\n        vertical-align: top;\n    }\n\n    .dataframe thead th {\n        text-align: right;\n    }\n</style>\n<table border=\"1\" class=\"dataframe\">\n  <thead>\n    <tr style=\"text-align: right;\">\n      <th></th>\n      <th>current</th>\n      <th>voltage</th>\n      <th>welding_speed</th>\n      <th>plate_thickness</th>\n      <th>welding_type_SAW</th>\n      <th>welding_type_SMAW</th>\n      <th>welding_type_GTAW</th>\n      <th>flexural_strength</th>\n      <th>hardness_value</th>\n      <th>residual_stress</th>\n      <th>tensile_strength</th>\n    </tr>\n  </thead>\n  <tbody>\n    <tr>\n      <th>0</th>\n      <td>160</td>\n      <td>32</td>\n      <td>120</td>\n      <td>6</td>\n      <td>0</td>\n      <td>0</td>\n      <td>1</td>\n      <td>236.2</td>\n      <td>102.5</td>\n      <td>152.0</td>\n      <td>432.6</td>\n    </tr>\n    <tr>\n      <th>1</th>\n      <td>130</td>\n      <td>32</td>\n      <td>90</td>\n      <td>8</td>\n      <td>0</td>\n      <td>1</td>\n      <td>0</td>\n      <td>270.2</td>\n      <td>96.4</td>\n      <td>270.2</td>\n      <td>332.8</td>\n    </tr>\n    <tr>\n      <th>2</th>\n      <td>100</td>\n      <td>28</td>\n      <td>120</td>\n      <td>8</td>\n      <td>0</td>\n      <td>0</td>\n      <td>1</td>\n      <td>360.8</td>\n      <td>86.4</td>\n      <td>90.5</td>\n      <td>382.4</td>\n    </tr>\n    <tr>\n      <th>3</th>\n      <td>160</td>\n      <td>28</td>\n      <td>90</td>\n      <td>10</td>\n      <td>0</td>\n      <td>0</td>\n      <td>1</td>\n      <td>230.0</td>\n      <td>105.0</td>\n      <td>165.4</td>\n      <td>422.8</td>\n    </tr>\n    <tr>\n      <th>4</th>\n      <td>100</td>\n      <td>28</td>\n      <td>120</td>\n      <td>8</td>\n      <td>1</td>\n      <td>0</td>\n      <td>0</td>\n      <td>276.5</td>\n      <td>128.4</td>\n      <td>186.6</td>\n      <td>385.5</td>\n    </tr>\n  </tbody>\n</table>\n</div>"
          },
          "metadata": {},
          "execution_count": 2
        }
      ]
    },
    {
      "cell_type": "markdown",
      "metadata": {
        "id": "ZAtlsi2eKenn"
      },
      "source": [
        "Exploratory data analysis"
      ]
    },
    {
      "cell_type": "code",
      "metadata": {
        "colab": {
          "base_uri": "https://localhost:8080/",
          "height": 1000
        },
        "id": "xkbPkPWsKTr0",
        "outputId": "9db7b6a4-3109-483a-f26a-98cf90d68914"
      },
      "source": [
        "# pos = 1\n",
        "# for i in range(4):\n",
        "#   print(f'\\t{df2.columns[i].capitalize()} vs Response values')\n",
        "#   plt.figure()\n",
        "#   for j in range(8, 11):\n",
        "#     plt.subplot(1, 3, pos)\n",
        "#     plt.scatter(df2.iloc[:, i], df2.iloc[:, j])\n",
        "#     plt.ylabel(df2.columns[j])\n",
        "#     plt.xlabel(df2.columns[i])\n",
        "#     pos += 1\n",
        "#   plt.tight_layout()\n",
        "#   plt.show()\n",
        "#   print('\\n')\n",
        "#   pos = 1"
      ],
      "execution_count": 3,
      "outputs": []
    },
    {
      "cell_type": "markdown",
      "metadata": {
        "id": "BhrnuO7_MB2t"
      },
      "source": [
        "Generate the necessary variables for modeling"
      ]
    },
    {
      "cell_type": "code",
      "metadata": {
        "id": "u4vNOq2TL7bI"
      },
      "source": [
        "X1 = df2.iloc[:, :7]\n",
        "X = X1.to_numpy()\n",
        "y1 = df2.iloc[:, -4:]\n",
        "y = y1.to_numpy()"
      ],
      "execution_count": 4,
      "outputs": []
    },
    {
      "cell_type": "code",
      "metadata": {
        "id": "jbUSR_NT6N8d"
      },
      "source": [
        "def relu(x):\n",
        "   return np.maximum(x, 0, x)"
      ],
      "execution_count": 5,
      "outputs": []
    },
    {
      "cell_type": "code",
      "metadata": {
        "id": "0r5yMnU36RUq"
      },
      "source": [
        "def hidden_nodes(X):\n",
        "    G = np.dot(X, input_weights)\n",
        "    G = G + biases\n",
        "    H = relu(G)\n",
        "    return H"
      ],
      "execution_count": 6,
      "outputs": []
    },
    {
      "cell_type": "code",
      "metadata": {
        "id": "Z11b7skL6Uuk"
      },
      "source": [
        "def predict(X):\n",
        "    out = hidden_nodes(X)\n",
        "    out = np.dot(out, output_weights)\n",
        "    return out"
      ],
      "execution_count": 7,
      "outputs": []
    },
    {
      "cell_type": "code",
      "execution_count": 8,
      "metadata": {},
      "outputs": [],
      "source": [
        "def MAD(y, y_pred):\r\n",
        "    '''Calculates the Mean Absolute Deviation of two arrays of numbers\r\n",
        "    Input: y(array), y_pred(array)\r\n",
        "    Output: float\r\n",
        "    '''\r\n",
        "    import numpy as np\r\n",
        "\r\n",
        "    return np.average(np.abs(y - y_pred))"
      ]
    },
    {
      "cell_type": "code",
      "execution_count": 9,
      "metadata": {},
      "outputs": [],
      "source": [
        "def MAPE(y, y_pred):\n",
        "    '''\n",
        "    Calculates the relationship between the average prediction error\n",
        "    and the average expected target error for several consecutive periods.\n",
        "\n",
        "    Input: y(array), y_pred(array)\n",
        "    Output: float\n",
        "    '''\n",
        "    import numpy as np\n",
        "\n",
        "    # Calculate prediction error\n",
        "    error = y - y_pred\n",
        "\n",
        "    return np.average((np.abs(error)/y) * 100)"
      ]
    },
    {
      "cell_type": "code",
      "execution_count": 10,
      "metadata": {},
      "outputs": [],
      "source": [
        "def TS(y, y_pred):\n",
        "    '''\n",
        "    This index is used to track the accuracy of the model\n",
        "\n",
        "    Input: y(array), y_pred(array)\n",
        "    Output: float\n",
        "    '''\n",
        "    import numpy as np\n",
        "\n",
        "    def MAD(y, y_pred):\n",
        "        '''Calculates the Mean Absolute Deviation of two arrays of numbers\n",
        "        Input: y(array), y_pred(array)\n",
        "        Output: float\n",
        "        '''\n",
        "        return np.average(np.abs(y - y_pred))\n",
        "\n",
        "    return np.sum(y - y_pred) / MAD(y, y_pred)"
      ]
    },
    {
      "source": [
        "# Split data in readiness for training.\n",
        "X_train, X_test, y_train, y_test = train_test_split(X, y, random_state=1, test_size=0.2)\n",
        "\n",
        "# Convert test data to dataframe and print it.\n",
        "y_test_df = pd.DataFrame(y_test, columns=['flexural_strength',\t'hardness_value',\t'residual_stress',\t'tensile_strength'])"
      ],
      "cell_type": "code",
      "metadata": {
        "id": "ZTw51LdTTZoi"
      },
      "execution_count": 11,
      "outputs": []
    },
    {
      "source": [
        "Predicting individual response separately to optimize prediction"
      ],
      "cell_type": "markdown",
      "metadata": {}
    },
    {
      "cell_type": "code",
      "execution_count": 13,
      "metadata": {},
      "outputs": [
        {
          "output_type": "stream",
          "name": "stdout",
          "text": [
            "\nflexural_strength: 5 Nodes\n"
          ]
        },
        {
          "output_type": "display_data",
          "data": {
            "text/plain": "   Expected   Predicted\n0     218.4  215.735352\n1     238.4  231.543031\n2     336.8  302.096197\n3     230.0  295.654812\n4     196.0  194.347920\n5     260.0  265.364599\n6     345.0  309.861432\n7     394.4  356.518980",
            "text/html": "<div>\n<style scoped>\n    .dataframe tbody tr th:only-of-type {\n        vertical-align: middle;\n    }\n\n    .dataframe tbody tr th {\n        vertical-align: top;\n    }\n\n    .dataframe thead th {\n        text-align: right;\n    }\n</style>\n<table border=\"1\" class=\"dataframe\">\n  <thead>\n    <tr style=\"text-align: right;\">\n      <th></th>\n      <th>Expected</th>\n      <th>Predicted</th>\n    </tr>\n  </thead>\n  <tbody>\n    <tr>\n      <th>0</th>\n      <td>218.4</td>\n      <td>215.735352</td>\n    </tr>\n    <tr>\n      <th>1</th>\n      <td>238.4</td>\n      <td>231.543031</td>\n    </tr>\n    <tr>\n      <th>2</th>\n      <td>336.8</td>\n      <td>302.096197</td>\n    </tr>\n    <tr>\n      <th>3</th>\n      <td>230.0</td>\n      <td>295.654812</td>\n    </tr>\n    <tr>\n      <th>4</th>\n      <td>196.0</td>\n      <td>194.347920</td>\n    </tr>\n    <tr>\n      <th>5</th>\n      <td>260.0</td>\n      <td>265.364599</td>\n    </tr>\n    <tr>\n      <th>6</th>\n      <td>345.0</td>\n      <td>309.861432</td>\n    </tr>\n    <tr>\n      <th>7</th>\n      <td>394.4</td>\n      <td>356.518980</td>\n    </tr>\n  </tbody>\n</table>\n</div>"
          },
          "metadata": {}
        },
        {
          "output_type": "stream",
          "name": "stdout",
          "text": [
            "\nhardness_value: 5 Nodes\n"
          ]
        },
        {
          "output_type": "display_data",
          "data": {
            "text/plain": "   Expected   Predicted\n0     132.5  140.618443\n1     116.2  114.319214\n2      90.6   78.068746\n3     105.0   97.660440\n4     142.2  143.689653\n5     110.0  115.546214\n6      80.5   88.495978\n7      65.0   77.354106",
            "text/html": "<div>\n<style scoped>\n    .dataframe tbody tr th:only-of-type {\n        vertical-align: middle;\n    }\n\n    .dataframe tbody tr th {\n        vertical-align: top;\n    }\n\n    .dataframe thead th {\n        text-align: right;\n    }\n</style>\n<table border=\"1\" class=\"dataframe\">\n  <thead>\n    <tr style=\"text-align: right;\">\n      <th></th>\n      <th>Expected</th>\n      <th>Predicted</th>\n    </tr>\n  </thead>\n  <tbody>\n    <tr>\n      <th>0</th>\n      <td>132.5</td>\n      <td>140.618443</td>\n    </tr>\n    <tr>\n      <th>1</th>\n      <td>116.2</td>\n      <td>114.319214</td>\n    </tr>\n    <tr>\n      <th>2</th>\n      <td>90.6</td>\n      <td>78.068746</td>\n    </tr>\n    <tr>\n      <th>3</th>\n      <td>105.0</td>\n      <td>97.660440</td>\n    </tr>\n    <tr>\n      <th>4</th>\n      <td>142.2</td>\n      <td>143.689653</td>\n    </tr>\n    <tr>\n      <th>5</th>\n      <td>110.0</td>\n      <td>115.546214</td>\n    </tr>\n    <tr>\n      <th>6</th>\n      <td>80.5</td>\n      <td>88.495978</td>\n    </tr>\n    <tr>\n      <th>7</th>\n      <td>65.0</td>\n      <td>77.354106</td>\n    </tr>\n  </tbody>\n</table>\n</div>"
          },
          "metadata": {}
        },
        {
          "output_type": "stream",
          "name": "stdout",
          "text": [
            "\nresidual_stress: 5 Nodes\n"
          ]
        },
        {
          "output_type": "display_data",
          "data": {
            "text/plain": "   Expected   Predicted\n0     188.6  179.565416\n1     216.8  223.247806\n2     125.8  116.950646\n3     165.4  208.819612\n4     164.0  167.796762\n5     264.6  268.797701\n6     108.6  110.263894\n7      82.0   87.199460",
            "text/html": "<div>\n<style scoped>\n    .dataframe tbody tr th:only-of-type {\n        vertical-align: middle;\n    }\n\n    .dataframe tbody tr th {\n        vertical-align: top;\n    }\n\n    .dataframe thead th {\n        text-align: right;\n    }\n</style>\n<table border=\"1\" class=\"dataframe\">\n  <thead>\n    <tr style=\"text-align: right;\">\n      <th></th>\n      <th>Expected</th>\n      <th>Predicted</th>\n    </tr>\n  </thead>\n  <tbody>\n    <tr>\n      <th>0</th>\n      <td>188.6</td>\n      <td>179.565416</td>\n    </tr>\n    <tr>\n      <th>1</th>\n      <td>216.8</td>\n      <td>223.247806</td>\n    </tr>\n    <tr>\n      <th>2</th>\n      <td>125.8</td>\n      <td>116.950646</td>\n    </tr>\n    <tr>\n      <th>3</th>\n      <td>165.4</td>\n      <td>208.819612</td>\n    </tr>\n    <tr>\n      <th>4</th>\n      <td>164.0</td>\n      <td>167.796762</td>\n    </tr>\n    <tr>\n      <th>5</th>\n      <td>264.6</td>\n      <td>268.797701</td>\n    </tr>\n    <tr>\n      <th>6</th>\n      <td>108.6</td>\n      <td>110.263894</td>\n    </tr>\n    <tr>\n      <th>7</th>\n      <td>82.0</td>\n      <td>87.199460</td>\n    </tr>\n  </tbody>\n</table>\n</div>"
          },
          "metadata": {}
        },
        {
          "output_type": "stream",
          "name": "stdout",
          "text": [
            "\ntensile_strength: 5 Nodes\n"
          ]
        },
        {
          "output_type": "display_data",
          "data": {
            "text/plain": "   Expected   Predicted\n0     312.8  305.728639\n1     442.6  455.541296\n2     396.5  510.336056\n3     422.8  375.903863\n4     280.2  296.381868\n5     304.2  342.997890\n6     394.6  448.185695\n7     378.5  376.002980",
            "text/html": "<div>\n<style scoped>\n    .dataframe tbody tr th:only-of-type {\n        vertical-align: middle;\n    }\n\n    .dataframe tbody tr th {\n        vertical-align: top;\n    }\n\n    .dataframe thead th {\n        text-align: right;\n    }\n</style>\n<table border=\"1\" class=\"dataframe\">\n  <thead>\n    <tr style=\"text-align: right;\">\n      <th></th>\n      <th>Expected</th>\n      <th>Predicted</th>\n    </tr>\n  </thead>\n  <tbody>\n    <tr>\n      <th>0</th>\n      <td>312.8</td>\n      <td>305.728639</td>\n    </tr>\n    <tr>\n      <th>1</th>\n      <td>442.6</td>\n      <td>455.541296</td>\n    </tr>\n    <tr>\n      <th>2</th>\n      <td>396.5</td>\n      <td>510.336056</td>\n    </tr>\n    <tr>\n      <th>3</th>\n      <td>422.8</td>\n      <td>375.903863</td>\n    </tr>\n    <tr>\n      <th>4</th>\n      <td>280.2</td>\n      <td>296.381868</td>\n    </tr>\n    <tr>\n      <th>5</th>\n      <td>304.2</td>\n      <td>342.997890</td>\n    </tr>\n    <tr>\n      <th>6</th>\n      <td>394.6</td>\n      <td>448.185695</td>\n    </tr>\n    <tr>\n      <th>7</th>\n      <td>378.5</td>\n      <td>376.002980</td>\n    </tr>\n  </tbody>\n</table>\n</div>"
          },
          "metadata": {}
        },
        {
          "output_type": "stream",
          "name": "stdout",
          "text": [
            "\nflexural_strength: 10 Nodes\n"
          ]
        },
        {
          "output_type": "display_data",
          "data": {
            "text/plain": "   Expected   Predicted\n0     218.4  210.621690\n1     238.4  236.072827\n2     336.8  286.758019\n3     230.0  301.329734\n4     196.0  204.116173\n5     260.0  267.642926\n6     345.0  292.795508\n7     394.4  354.611410",
            "text/html": "<div>\n<style scoped>\n    .dataframe tbody tr th:only-of-type {\n        vertical-align: middle;\n    }\n\n    .dataframe tbody tr th {\n        vertical-align: top;\n    }\n\n    .dataframe thead th {\n        text-align: right;\n    }\n</style>\n<table border=\"1\" class=\"dataframe\">\n  <thead>\n    <tr style=\"text-align: right;\">\n      <th></th>\n      <th>Expected</th>\n      <th>Predicted</th>\n    </tr>\n  </thead>\n  <tbody>\n    <tr>\n      <th>0</th>\n      <td>218.4</td>\n      <td>210.621690</td>\n    </tr>\n    <tr>\n      <th>1</th>\n      <td>238.4</td>\n      <td>236.072827</td>\n    </tr>\n    <tr>\n      <th>2</th>\n      <td>336.8</td>\n      <td>286.758019</td>\n    </tr>\n    <tr>\n      <th>3</th>\n      <td>230.0</td>\n      <td>301.329734</td>\n    </tr>\n    <tr>\n      <th>4</th>\n      <td>196.0</td>\n      <td>204.116173</td>\n    </tr>\n    <tr>\n      <th>5</th>\n      <td>260.0</td>\n      <td>267.642926</td>\n    </tr>\n    <tr>\n      <th>6</th>\n      <td>345.0</td>\n      <td>292.795508</td>\n    </tr>\n    <tr>\n      <th>7</th>\n      <td>394.4</td>\n      <td>354.611410</td>\n    </tr>\n  </tbody>\n</table>\n</div>"
          },
          "metadata": {}
        },
        {
          "output_type": "stream",
          "name": "stdout",
          "text": [
            "\nhardness_value: 10 Nodes\n"
          ]
        },
        {
          "output_type": "display_data",
          "data": {
            "text/plain": "   Expected   Predicted\n0     132.5  135.001935\n1     116.2  112.540298\n2      90.6   86.597345\n3     105.0   90.777092\n4     142.2  137.256957\n5     110.0  109.946807\n6      80.5   84.580386\n7      65.0   91.355695",
            "text/html": "<div>\n<style scoped>\n    .dataframe tbody tr th:only-of-type {\n        vertical-align: middle;\n    }\n\n    .dataframe tbody tr th {\n        vertical-align: top;\n    }\n\n    .dataframe thead th {\n        text-align: right;\n    }\n</style>\n<table border=\"1\" class=\"dataframe\">\n  <thead>\n    <tr style=\"text-align: right;\">\n      <th></th>\n      <th>Expected</th>\n      <th>Predicted</th>\n    </tr>\n  </thead>\n  <tbody>\n    <tr>\n      <th>0</th>\n      <td>132.5</td>\n      <td>135.001935</td>\n    </tr>\n    <tr>\n      <th>1</th>\n      <td>116.2</td>\n      <td>112.540298</td>\n    </tr>\n    <tr>\n      <th>2</th>\n      <td>90.6</td>\n      <td>86.597345</td>\n    </tr>\n    <tr>\n      <th>3</th>\n      <td>105.0</td>\n      <td>90.777092</td>\n    </tr>\n    <tr>\n      <th>4</th>\n      <td>142.2</td>\n      <td>137.256957</td>\n    </tr>\n    <tr>\n      <th>5</th>\n      <td>110.0</td>\n      <td>109.946807</td>\n    </tr>\n    <tr>\n      <th>6</th>\n      <td>80.5</td>\n      <td>84.580386</td>\n    </tr>\n    <tr>\n      <th>7</th>\n      <td>65.0</td>\n      <td>91.355695</td>\n    </tr>\n  </tbody>\n</table>\n</div>"
          },
          "metadata": {}
        },
        {
          "output_type": "stream",
          "name": "stdout",
          "text": [
            "\nresidual_stress: 10 Nodes\n"
          ]
        },
        {
          "output_type": "display_data",
          "data": {
            "text/plain": "   Expected   Predicted\n0     188.6  177.211916\n1     216.8  226.144360\n2     125.8  113.358904\n3     165.4  192.648120\n4     164.0  163.651551\n5     264.6  268.034177\n6     108.6  102.611775\n7      82.0   92.815141",
            "text/html": "<div>\n<style scoped>\n    .dataframe tbody tr th:only-of-type {\n        vertical-align: middle;\n    }\n\n    .dataframe tbody tr th {\n        vertical-align: top;\n    }\n\n    .dataframe thead th {\n        text-align: right;\n    }\n</style>\n<table border=\"1\" class=\"dataframe\">\n  <thead>\n    <tr style=\"text-align: right;\">\n      <th></th>\n      <th>Expected</th>\n      <th>Predicted</th>\n    </tr>\n  </thead>\n  <tbody>\n    <tr>\n      <th>0</th>\n      <td>188.6</td>\n      <td>177.211916</td>\n    </tr>\n    <tr>\n      <th>1</th>\n      <td>216.8</td>\n      <td>226.144360</td>\n    </tr>\n    <tr>\n      <th>2</th>\n      <td>125.8</td>\n      <td>113.358904</td>\n    </tr>\n    <tr>\n      <th>3</th>\n      <td>165.4</td>\n      <td>192.648120</td>\n    </tr>\n    <tr>\n      <th>4</th>\n      <td>164.0</td>\n      <td>163.651551</td>\n    </tr>\n    <tr>\n      <th>5</th>\n      <td>264.6</td>\n      <td>268.034177</td>\n    </tr>\n    <tr>\n      <th>6</th>\n      <td>108.6</td>\n      <td>102.611775</td>\n    </tr>\n    <tr>\n      <th>7</th>\n      <td>82.0</td>\n      <td>92.815141</td>\n    </tr>\n  </tbody>\n</table>\n</div>"
          },
          "metadata": {}
        },
        {
          "output_type": "stream",
          "name": "stdout",
          "text": [
            "\ntensile_strength: 10 Nodes\n"
          ]
        },
        {
          "output_type": "display_data",
          "data": {
            "text/plain": "   Expected   Predicted\n0     312.8  318.214907\n1     442.6  451.252370\n2     396.5  479.629049\n3     422.8  378.723470\n4     280.2  278.719668\n5     304.2  333.875992\n6     394.6  426.092254\n7     378.5  354.823353",
            "text/html": "<div>\n<style scoped>\n    .dataframe tbody tr th:only-of-type {\n        vertical-align: middle;\n    }\n\n    .dataframe tbody tr th {\n        vertical-align: top;\n    }\n\n    .dataframe thead th {\n        text-align: right;\n    }\n</style>\n<table border=\"1\" class=\"dataframe\">\n  <thead>\n    <tr style=\"text-align: right;\">\n      <th></th>\n      <th>Expected</th>\n      <th>Predicted</th>\n    </tr>\n  </thead>\n  <tbody>\n    <tr>\n      <th>0</th>\n      <td>312.8</td>\n      <td>318.214907</td>\n    </tr>\n    <tr>\n      <th>1</th>\n      <td>442.6</td>\n      <td>451.252370</td>\n    </tr>\n    <tr>\n      <th>2</th>\n      <td>396.5</td>\n      <td>479.629049</td>\n    </tr>\n    <tr>\n      <th>3</th>\n      <td>422.8</td>\n      <td>378.723470</td>\n    </tr>\n    <tr>\n      <th>4</th>\n      <td>280.2</td>\n      <td>278.719668</td>\n    </tr>\n    <tr>\n      <th>5</th>\n      <td>304.2</td>\n      <td>333.875992</td>\n    </tr>\n    <tr>\n      <th>6</th>\n      <td>394.6</td>\n      <td>426.092254</td>\n    </tr>\n    <tr>\n      <th>7</th>\n      <td>378.5</td>\n      <td>354.823353</td>\n    </tr>\n  </tbody>\n</table>\n</div>"
          },
          "metadata": {}
        },
        {
          "output_type": "stream",
          "name": "stdout",
          "text": [
            "\nflexural_strength: 15 Nodes\n"
          ]
        },
        {
          "output_type": "display_data",
          "data": {
            "text/plain": "   Expected   Predicted\n0     218.4  216.805080\n1     238.4  246.395768\n2     336.8  303.626130\n3     230.0  303.516605\n4     196.0  202.103220\n5     260.0  282.701227\n6     345.0  301.741140\n7     394.4  351.398681",
            "text/html": "<div>\n<style scoped>\n    .dataframe tbody tr th:only-of-type {\n        vertical-align: middle;\n    }\n\n    .dataframe tbody tr th {\n        vertical-align: top;\n    }\n\n    .dataframe thead th {\n        text-align: right;\n    }\n</style>\n<table border=\"1\" class=\"dataframe\">\n  <thead>\n    <tr style=\"text-align: right;\">\n      <th></th>\n      <th>Expected</th>\n      <th>Predicted</th>\n    </tr>\n  </thead>\n  <tbody>\n    <tr>\n      <th>0</th>\n      <td>218.4</td>\n      <td>216.805080</td>\n    </tr>\n    <tr>\n      <th>1</th>\n      <td>238.4</td>\n      <td>246.395768</td>\n    </tr>\n    <tr>\n      <th>2</th>\n      <td>336.8</td>\n      <td>303.626130</td>\n    </tr>\n    <tr>\n      <th>3</th>\n      <td>230.0</td>\n      <td>303.516605</td>\n    </tr>\n    <tr>\n      <th>4</th>\n      <td>196.0</td>\n      <td>202.103220</td>\n    </tr>\n    <tr>\n      <th>5</th>\n      <td>260.0</td>\n      <td>282.701227</td>\n    </tr>\n    <tr>\n      <th>6</th>\n      <td>345.0</td>\n      <td>301.741140</td>\n    </tr>\n    <tr>\n      <th>7</th>\n      <td>394.4</td>\n      <td>351.398681</td>\n    </tr>\n  </tbody>\n</table>\n</div>"
          },
          "metadata": {}
        },
        {
          "output_type": "stream",
          "name": "stdout",
          "text": [
            "\nhardness_value: 15 Nodes\n"
          ]
        },
        {
          "output_type": "display_data",
          "data": {
            "text/plain": "   Expected   Predicted\n0     132.5  131.907899\n1     116.2  112.952790\n2      90.6   80.957004\n3     105.0   97.036638\n4     142.2  143.772281\n5     110.0  111.260678\n6      80.5   93.950334\n7      65.0   87.070723",
            "text/html": "<div>\n<style scoped>\n    .dataframe tbody tr th:only-of-type {\n        vertical-align: middle;\n    }\n\n    .dataframe tbody tr th {\n        vertical-align: top;\n    }\n\n    .dataframe thead th {\n        text-align: right;\n    }\n</style>\n<table border=\"1\" class=\"dataframe\">\n  <thead>\n    <tr style=\"text-align: right;\">\n      <th></th>\n      <th>Expected</th>\n      <th>Predicted</th>\n    </tr>\n  </thead>\n  <tbody>\n    <tr>\n      <th>0</th>\n      <td>132.5</td>\n      <td>131.907899</td>\n    </tr>\n    <tr>\n      <th>1</th>\n      <td>116.2</td>\n      <td>112.952790</td>\n    </tr>\n    <tr>\n      <th>2</th>\n      <td>90.6</td>\n      <td>80.957004</td>\n    </tr>\n    <tr>\n      <th>3</th>\n      <td>105.0</td>\n      <td>97.036638</td>\n    </tr>\n    <tr>\n      <th>4</th>\n      <td>142.2</td>\n      <td>143.772281</td>\n    </tr>\n    <tr>\n      <th>5</th>\n      <td>110.0</td>\n      <td>111.260678</td>\n    </tr>\n    <tr>\n      <th>6</th>\n      <td>80.5</td>\n      <td>93.950334</td>\n    </tr>\n    <tr>\n      <th>7</th>\n      <td>65.0</td>\n      <td>87.070723</td>\n    </tr>\n  </tbody>\n</table>\n</div>"
          },
          "metadata": {}
        },
        {
          "output_type": "stream",
          "name": "stdout",
          "text": [
            "\nresidual_stress: 15 Nodes\n"
          ]
        },
        {
          "output_type": "display_data",
          "data": {
            "text/plain": "   Expected   Predicted\n0     188.6  179.846237\n1     216.8  221.913557\n2     125.8  116.350570\n3     165.4  182.843851\n4     164.0  169.795620\n5     264.6  266.065170\n6     108.6  106.230508\n7      82.0   94.746257",
            "text/html": "<div>\n<style scoped>\n    .dataframe tbody tr th:only-of-type {\n        vertical-align: middle;\n    }\n\n    .dataframe tbody tr th {\n        vertical-align: top;\n    }\n\n    .dataframe thead th {\n        text-align: right;\n    }\n</style>\n<table border=\"1\" class=\"dataframe\">\n  <thead>\n    <tr style=\"text-align: right;\">\n      <th></th>\n      <th>Expected</th>\n      <th>Predicted</th>\n    </tr>\n  </thead>\n  <tbody>\n    <tr>\n      <th>0</th>\n      <td>188.6</td>\n      <td>179.846237</td>\n    </tr>\n    <tr>\n      <th>1</th>\n      <td>216.8</td>\n      <td>221.913557</td>\n    </tr>\n    <tr>\n      <th>2</th>\n      <td>125.8</td>\n      <td>116.350570</td>\n    </tr>\n    <tr>\n      <th>3</th>\n      <td>165.4</td>\n      <td>182.843851</td>\n    </tr>\n    <tr>\n      <th>4</th>\n      <td>164.0</td>\n      <td>169.795620</td>\n    </tr>\n    <tr>\n      <th>5</th>\n      <td>264.6</td>\n      <td>266.065170</td>\n    </tr>\n    <tr>\n      <th>6</th>\n      <td>108.6</td>\n      <td>106.230508</td>\n    </tr>\n    <tr>\n      <th>7</th>\n      <td>82.0</td>\n      <td>94.746257</td>\n    </tr>\n  </tbody>\n</table>\n</div>"
          },
          "metadata": {}
        },
        {
          "output_type": "stream",
          "name": "stdout",
          "text": [
            "\ntensile_strength: 15 Nodes\n"
          ]
        },
        {
          "output_type": "display_data",
          "data": {
            "text/plain": "   Expected   Predicted\n0     312.8  310.952834\n1     442.6  450.120596\n2     396.5  473.101604\n3     422.8  371.494524\n4     280.2  287.380572\n5     304.2  331.573054\n6     394.6  436.732036\n7     378.5  359.496015",
            "text/html": "<div>\n<style scoped>\n    .dataframe tbody tr th:only-of-type {\n        vertical-align: middle;\n    }\n\n    .dataframe tbody tr th {\n        vertical-align: top;\n    }\n\n    .dataframe thead th {\n        text-align: right;\n    }\n</style>\n<table border=\"1\" class=\"dataframe\">\n  <thead>\n    <tr style=\"text-align: right;\">\n      <th></th>\n      <th>Expected</th>\n      <th>Predicted</th>\n    </tr>\n  </thead>\n  <tbody>\n    <tr>\n      <th>0</th>\n      <td>312.8</td>\n      <td>310.952834</td>\n    </tr>\n    <tr>\n      <th>1</th>\n      <td>442.6</td>\n      <td>450.120596</td>\n    </tr>\n    <tr>\n      <th>2</th>\n      <td>396.5</td>\n      <td>473.101604</td>\n    </tr>\n    <tr>\n      <th>3</th>\n      <td>422.8</td>\n      <td>371.494524</td>\n    </tr>\n    <tr>\n      <th>4</th>\n      <td>280.2</td>\n      <td>287.380572</td>\n    </tr>\n    <tr>\n      <th>5</th>\n      <td>304.2</td>\n      <td>331.573054</td>\n    </tr>\n    <tr>\n      <th>6</th>\n      <td>394.6</td>\n      <td>436.732036</td>\n    </tr>\n    <tr>\n      <th>7</th>\n      <td>378.5</td>\n      <td>359.496015</td>\n    </tr>\n  </tbody>\n</table>\n</div>"
          },
          "metadata": {}
        },
        {
          "output_type": "stream",
          "name": "stdout",
          "text": [
            "\nflexural_strength: 20 Nodes\n"
          ]
        },
        {
          "output_type": "display_data",
          "data": {
            "text/plain": "   Expected   Predicted\n0     218.4  211.023861\n1     238.4  245.693396\n2     336.8  286.772387\n3     230.0  313.329169\n4     196.0  200.872731\n5     260.0  264.989677\n6     345.0  278.258770\n7     394.4  361.980849",
            "text/html": "<div>\n<style scoped>\n    .dataframe tbody tr th:only-of-type {\n        vertical-align: middle;\n    }\n\n    .dataframe tbody tr th {\n        vertical-align: top;\n    }\n\n    .dataframe thead th {\n        text-align: right;\n    }\n</style>\n<table border=\"1\" class=\"dataframe\">\n  <thead>\n    <tr style=\"text-align: right;\">\n      <th></th>\n      <th>Expected</th>\n      <th>Predicted</th>\n    </tr>\n  </thead>\n  <tbody>\n    <tr>\n      <th>0</th>\n      <td>218.4</td>\n      <td>211.023861</td>\n    </tr>\n    <tr>\n      <th>1</th>\n      <td>238.4</td>\n      <td>245.693396</td>\n    </tr>\n    <tr>\n      <th>2</th>\n      <td>336.8</td>\n      <td>286.772387</td>\n    </tr>\n    <tr>\n      <th>3</th>\n      <td>230.0</td>\n      <td>313.329169</td>\n    </tr>\n    <tr>\n      <th>4</th>\n      <td>196.0</td>\n      <td>200.872731</td>\n    </tr>\n    <tr>\n      <th>5</th>\n      <td>260.0</td>\n      <td>264.989677</td>\n    </tr>\n    <tr>\n      <th>6</th>\n      <td>345.0</td>\n      <td>278.258770</td>\n    </tr>\n    <tr>\n      <th>7</th>\n      <td>394.4</td>\n      <td>361.980849</td>\n    </tr>\n  </tbody>\n</table>\n</div>"
          },
          "metadata": {}
        },
        {
          "output_type": "stream",
          "name": "stdout",
          "text": [
            "\nhardness_value: 20 Nodes\n"
          ]
        },
        {
          "output_type": "display_data",
          "data": {
            "text/plain": "   Expected   Predicted\n0     132.5  135.532390\n1     116.2  122.499847\n2      90.6   84.121727\n3     105.0  100.967156\n4     142.2  140.898094\n5     110.0  109.182784\n6      80.5   91.713818\n7      65.0   79.617617",
            "text/html": "<div>\n<style scoped>\n    .dataframe tbody tr th:only-of-type {\n        vertical-align: middle;\n    }\n\n    .dataframe tbody tr th {\n        vertical-align: top;\n    }\n\n    .dataframe thead th {\n        text-align: right;\n    }\n</style>\n<table border=\"1\" class=\"dataframe\">\n  <thead>\n    <tr style=\"text-align: right;\">\n      <th></th>\n      <th>Expected</th>\n      <th>Predicted</th>\n    </tr>\n  </thead>\n  <tbody>\n    <tr>\n      <th>0</th>\n      <td>132.5</td>\n      <td>135.532390</td>\n    </tr>\n    <tr>\n      <th>1</th>\n      <td>116.2</td>\n      <td>122.499847</td>\n    </tr>\n    <tr>\n      <th>2</th>\n      <td>90.6</td>\n      <td>84.121727</td>\n    </tr>\n    <tr>\n      <th>3</th>\n      <td>105.0</td>\n      <td>100.967156</td>\n    </tr>\n    <tr>\n      <th>4</th>\n      <td>142.2</td>\n      <td>140.898094</td>\n    </tr>\n    <tr>\n      <th>5</th>\n      <td>110.0</td>\n      <td>109.182784</td>\n    </tr>\n    <tr>\n      <th>6</th>\n      <td>80.5</td>\n      <td>91.713818</td>\n    </tr>\n    <tr>\n      <th>7</th>\n      <td>65.0</td>\n      <td>79.617617</td>\n    </tr>\n  </tbody>\n</table>\n</div>"
          },
          "metadata": {}
        },
        {
          "output_type": "stream",
          "name": "stdout",
          "text": [
            "\nresidual_stress: 20 Nodes\n"
          ]
        },
        {
          "output_type": "display_data",
          "data": {
            "text/plain": "   Expected   Predicted\n0     188.6  183.442649\n1     216.8  220.207827\n2     125.8  117.456639\n3     165.4  193.813008\n4     164.0  167.418638\n5     264.6  265.845365\n6     108.6  107.279382\n7      82.0   91.729547",
            "text/html": "<div>\n<style scoped>\n    .dataframe tbody tr th:only-of-type {\n        vertical-align: middle;\n    }\n\n    .dataframe tbody tr th {\n        vertical-align: top;\n    }\n\n    .dataframe thead th {\n        text-align: right;\n    }\n</style>\n<table border=\"1\" class=\"dataframe\">\n  <thead>\n    <tr style=\"text-align: right;\">\n      <th></th>\n      <th>Expected</th>\n      <th>Predicted</th>\n    </tr>\n  </thead>\n  <tbody>\n    <tr>\n      <th>0</th>\n      <td>188.6</td>\n      <td>183.442649</td>\n    </tr>\n    <tr>\n      <th>1</th>\n      <td>216.8</td>\n      <td>220.207827</td>\n    </tr>\n    <tr>\n      <th>2</th>\n      <td>125.8</td>\n      <td>117.456639</td>\n    </tr>\n    <tr>\n      <th>3</th>\n      <td>165.4</td>\n      <td>193.813008</td>\n    </tr>\n    <tr>\n      <th>4</th>\n      <td>164.0</td>\n      <td>167.418638</td>\n    </tr>\n    <tr>\n      <th>5</th>\n      <td>264.6</td>\n      <td>265.845365</td>\n    </tr>\n    <tr>\n      <th>6</th>\n      <td>108.6</td>\n      <td>107.279382</td>\n    </tr>\n    <tr>\n      <th>7</th>\n      <td>82.0</td>\n      <td>91.729547</td>\n    </tr>\n  </tbody>\n</table>\n</div>"
          },
          "metadata": {}
        },
        {
          "output_type": "stream",
          "name": "stdout",
          "text": [
            "\ntensile_strength: 20 Nodes\n"
          ]
        },
        {
          "output_type": "display_data",
          "data": {
            "text/plain": "   Expected   Predicted\n0     312.8  308.964580\n1     442.6  446.761978\n2     396.5  475.194909\n3     422.8  383.924754\n4     280.2  284.561025\n5     304.2  324.330670\n6     394.6  420.442094\n7     378.5  358.700353",
            "text/html": "<div>\n<style scoped>\n    .dataframe tbody tr th:only-of-type {\n        vertical-align: middle;\n    }\n\n    .dataframe tbody tr th {\n        vertical-align: top;\n    }\n\n    .dataframe thead th {\n        text-align: right;\n    }\n</style>\n<table border=\"1\" class=\"dataframe\">\n  <thead>\n    <tr style=\"text-align: right;\">\n      <th></th>\n      <th>Expected</th>\n      <th>Predicted</th>\n    </tr>\n  </thead>\n  <tbody>\n    <tr>\n      <th>0</th>\n      <td>312.8</td>\n      <td>308.964580</td>\n    </tr>\n    <tr>\n      <th>1</th>\n      <td>442.6</td>\n      <td>446.761978</td>\n    </tr>\n    <tr>\n      <th>2</th>\n      <td>396.5</td>\n      <td>475.194909</td>\n    </tr>\n    <tr>\n      <th>3</th>\n      <td>422.8</td>\n      <td>383.924754</td>\n    </tr>\n    <tr>\n      <th>4</th>\n      <td>280.2</td>\n      <td>284.561025</td>\n    </tr>\n    <tr>\n      <th>5</th>\n      <td>304.2</td>\n      <td>324.330670</td>\n    </tr>\n    <tr>\n      <th>6</th>\n      <td>394.6</td>\n      <td>420.442094</td>\n    </tr>\n    <tr>\n      <th>7</th>\n      <td>378.5</td>\n      <td>358.700353</td>\n    </tr>\n  </tbody>\n</table>\n</div>"
          },
          "metadata": {}
        },
        {
          "output_type": "stream",
          "name": "stdout",
          "text": [
            "\nflexural_strength: 25 Nodes\n"
          ]
        },
        {
          "output_type": "display_data",
          "data": {
            "text/plain": "   Expected   Predicted\n0     218.4  212.252953\n1     238.4  240.099383\n2     336.8  290.733501\n3     230.0  307.940856\n4     196.0  198.412254\n5     260.0  261.628712\n6     345.0  292.174562\n7     394.4  358.845938",
            "text/html": "<div>\n<style scoped>\n    .dataframe tbody tr th:only-of-type {\n        vertical-align: middle;\n    }\n\n    .dataframe tbody tr th {\n        vertical-align: top;\n    }\n\n    .dataframe thead th {\n        text-align: right;\n    }\n</style>\n<table border=\"1\" class=\"dataframe\">\n  <thead>\n    <tr style=\"text-align: right;\">\n      <th></th>\n      <th>Expected</th>\n      <th>Predicted</th>\n    </tr>\n  </thead>\n  <tbody>\n    <tr>\n      <th>0</th>\n      <td>218.4</td>\n      <td>212.252953</td>\n    </tr>\n    <tr>\n      <th>1</th>\n      <td>238.4</td>\n      <td>240.099383</td>\n    </tr>\n    <tr>\n      <th>2</th>\n      <td>336.8</td>\n      <td>290.733501</td>\n    </tr>\n    <tr>\n      <th>3</th>\n      <td>230.0</td>\n      <td>307.940856</td>\n    </tr>\n    <tr>\n      <th>4</th>\n      <td>196.0</td>\n      <td>198.412254</td>\n    </tr>\n    <tr>\n      <th>5</th>\n      <td>260.0</td>\n      <td>261.628712</td>\n    </tr>\n    <tr>\n      <th>6</th>\n      <td>345.0</td>\n      <td>292.174562</td>\n    </tr>\n    <tr>\n      <th>7</th>\n      <td>394.4</td>\n      <td>358.845938</td>\n    </tr>\n  </tbody>\n</table>\n</div>"
          },
          "metadata": {}
        },
        {
          "output_type": "stream",
          "name": "stdout",
          "text": [
            "\nhardness_value: 25 Nodes\n"
          ]
        },
        {
          "output_type": "display_data",
          "data": {
            "text/plain": "   Expected   Predicted\n0     132.5  139.652760\n1     116.2  117.675318\n2      90.6   92.919515\n3     105.0  100.760383\n4     142.2  133.394418\n5     110.0  108.492237\n6      80.5   88.503813\n7      65.0   84.865220",
            "text/html": "<div>\n<style scoped>\n    .dataframe tbody tr th:only-of-type {\n        vertical-align: middle;\n    }\n\n    .dataframe tbody tr th {\n        vertical-align: top;\n    }\n\n    .dataframe thead th {\n        text-align: right;\n    }\n</style>\n<table border=\"1\" class=\"dataframe\">\n  <thead>\n    <tr style=\"text-align: right;\">\n      <th></th>\n      <th>Expected</th>\n      <th>Predicted</th>\n    </tr>\n  </thead>\n  <tbody>\n    <tr>\n      <th>0</th>\n      <td>132.5</td>\n      <td>139.652760</td>\n    </tr>\n    <tr>\n      <th>1</th>\n      <td>116.2</td>\n      <td>117.675318</td>\n    </tr>\n    <tr>\n      <th>2</th>\n      <td>90.6</td>\n      <td>92.919515</td>\n    </tr>\n    <tr>\n      <th>3</th>\n      <td>105.0</td>\n      <td>100.760383</td>\n    </tr>\n    <tr>\n      <th>4</th>\n      <td>142.2</td>\n      <td>133.394418</td>\n    </tr>\n    <tr>\n      <th>5</th>\n      <td>110.0</td>\n      <td>108.492237</td>\n    </tr>\n    <tr>\n      <th>6</th>\n      <td>80.5</td>\n      <td>88.503813</td>\n    </tr>\n    <tr>\n      <th>7</th>\n      <td>65.0</td>\n      <td>84.865220</td>\n    </tr>\n  </tbody>\n</table>\n</div>"
          },
          "metadata": {}
        },
        {
          "output_type": "stream",
          "name": "stdout",
          "text": [
            "\nresidual_stress: 25 Nodes\n"
          ]
        },
        {
          "output_type": "display_data",
          "data": {
            "text/plain": "   Expected   Predicted\n0     188.6  182.824185\n1     216.8  221.293141\n2     125.8  119.835545\n3     165.4  193.931787\n4     164.0  169.514498\n5     264.6  265.229506\n6     108.6  109.874548\n7      82.0   84.960747",
            "text/html": "<div>\n<style scoped>\n    .dataframe tbody tr th:only-of-type {\n        vertical-align: middle;\n    }\n\n    .dataframe tbody tr th {\n        vertical-align: top;\n    }\n\n    .dataframe thead th {\n        text-align: right;\n    }\n</style>\n<table border=\"1\" class=\"dataframe\">\n  <thead>\n    <tr style=\"text-align: right;\">\n      <th></th>\n      <th>Expected</th>\n      <th>Predicted</th>\n    </tr>\n  </thead>\n  <tbody>\n    <tr>\n      <th>0</th>\n      <td>188.6</td>\n      <td>182.824185</td>\n    </tr>\n    <tr>\n      <th>1</th>\n      <td>216.8</td>\n      <td>221.293141</td>\n    </tr>\n    <tr>\n      <th>2</th>\n      <td>125.8</td>\n      <td>119.835545</td>\n    </tr>\n    <tr>\n      <th>3</th>\n      <td>165.4</td>\n      <td>193.931787</td>\n    </tr>\n    <tr>\n      <th>4</th>\n      <td>164.0</td>\n      <td>169.514498</td>\n    </tr>\n    <tr>\n      <th>5</th>\n      <td>264.6</td>\n      <td>265.229506</td>\n    </tr>\n    <tr>\n      <th>6</th>\n      <td>108.6</td>\n      <td>109.874548</td>\n    </tr>\n    <tr>\n      <th>7</th>\n      <td>82.0</td>\n      <td>84.960747</td>\n    </tr>\n  </tbody>\n</table>\n</div>"
          },
          "metadata": {}
        },
        {
          "output_type": "stream",
          "name": "stdout",
          "text": [
            "\n",
            "tensile_strength: 25 Nodes\n"
          ]
        },
        {
          "output_type": "display_data",
          "data": {
            "text/plain": "   Expected   Predicted\n0     312.8  316.727422\n1     442.6  432.609466\n2     396.5  486.130157\n3     422.8  366.045316\n4     280.2  271.976599\n5     304.2  341.167192\n6     394.6  428.983043\n7     378.5  364.729220",
            "text/html": "<div>\n<style scoped>\n    .dataframe tbody tr th:only-of-type {\n        vertical-align: middle;\n    }\n\n    .dataframe tbody tr th {\n        vertical-align: top;\n    }\n\n    .dataframe thead th {\n        text-align: right;\n    }\n</style>\n<table border=\"1\" class=\"dataframe\">\n  <thead>\n    <tr style=\"text-align: right;\">\n      <th></th>\n      <th>Expected</th>\n      <th>Predicted</th>\n    </tr>\n  </thead>\n  <tbody>\n    <tr>\n      <th>0</th>\n      <td>312.8</td>\n      <td>316.727422</td>\n    </tr>\n    <tr>\n      <th>1</th>\n      <td>442.6</td>\n      <td>432.609466</td>\n    </tr>\n    <tr>\n      <th>2</th>\n      <td>396.5</td>\n      <td>486.130157</td>\n    </tr>\n    <tr>\n      <th>3</th>\n      <td>422.8</td>\n      <td>366.045316</td>\n    </tr>\n    <tr>\n      <th>4</th>\n      <td>280.2</td>\n      <td>271.976599</td>\n    </tr>\n    <tr>\n      <th>5</th>\n      <td>304.2</td>\n      <td>341.167192</td>\n    </tr>\n    <tr>\n      <th>6</th>\n      <td>394.6</td>\n      <td>428.983043</td>\n    </tr>\n    <tr>\n      <th>7</th>\n      <td>378.5</td>\n      <td>364.729220</td>\n    </tr>\n  </tbody>\n</table>\n</div>"
          },
          "metadata": {}
        },
        {
          "output_type": "stream",
          "name": "stdout",
          "text": [
            "\nflexural_strength: 30 Nodes\n"
          ]
        },
        {
          "output_type": "display_data",
          "data": {
            "text/plain": "   Expected   Predicted\n0     218.4  210.781238\n1     238.4  242.207753\n2     336.8  292.744514\n3     230.0  307.577429\n4     196.0  207.864076\n5     260.0  259.388357\n6     345.0  294.801798\n7     394.4  355.522006",
            "text/html": "<div>\n<style scoped>\n    .dataframe tbody tr th:only-of-type {\n        vertical-align: middle;\n    }\n\n    .dataframe tbody tr th {\n        vertical-align: top;\n    }\n\n    .dataframe thead th {\n        text-align: right;\n    }\n</style>\n<table border=\"1\" class=\"dataframe\">\n  <thead>\n    <tr style=\"text-align: right;\">\n      <th></th>\n      <th>Expected</th>\n      <th>Predicted</th>\n    </tr>\n  </thead>\n  <tbody>\n    <tr>\n      <th>0</th>\n      <td>218.4</td>\n      <td>210.781238</td>\n    </tr>\n    <tr>\n      <th>1</th>\n      <td>238.4</td>\n      <td>242.207753</td>\n    </tr>\n    <tr>\n      <th>2</th>\n      <td>336.8</td>\n      <td>292.744514</td>\n    </tr>\n    <tr>\n      <th>3</th>\n      <td>230.0</td>\n      <td>307.577429</td>\n    </tr>\n    <tr>\n      <th>4</th>\n      <td>196.0</td>\n      <td>207.864076</td>\n    </tr>\n    <tr>\n      <th>5</th>\n      <td>260.0</td>\n      <td>259.388357</td>\n    </tr>\n    <tr>\n      <th>6</th>\n      <td>345.0</td>\n      <td>294.801798</td>\n    </tr>\n    <tr>\n      <th>7</th>\n      <td>394.4</td>\n      <td>355.522006</td>\n    </tr>\n  </tbody>\n</table>\n</div>"
          },
          "metadata": {}
        },
        {
          "output_type": "stream",
          "name": "stdout",
          "text": [
            "\nhardness_value: 30 Nodes\n"
          ]
        },
        {
          "output_type": "display_data",
          "data": {
            "text/plain": "   Expected   Predicted\n0     132.5  137.141170\n1     116.2  118.363241\n2      90.6   87.284877\n3     105.0  102.789943\n4     142.2  141.860974\n5     110.0  109.971290\n6      80.5   89.924150\n7      65.0   87.460838",
            "text/html": "<div>\n<style scoped>\n    .dataframe tbody tr th:only-of-type {\n        vertical-align: middle;\n    }\n\n    .dataframe tbody tr th {\n        vertical-align: top;\n    }\n\n    .dataframe thead th {\n        text-align: right;\n    }\n</style>\n<table border=\"1\" class=\"dataframe\">\n  <thead>\n    <tr style=\"text-align: right;\">\n      <th></th>\n      <th>Expected</th>\n      <th>Predicted</th>\n    </tr>\n  </thead>\n  <tbody>\n    <tr>\n      <th>0</th>\n      <td>132.5</td>\n      <td>137.141170</td>\n    </tr>\n    <tr>\n      <th>1</th>\n      <td>116.2</td>\n      <td>118.363241</td>\n    </tr>\n    <tr>\n      <th>2</th>\n      <td>90.6</td>\n      <td>87.284877</td>\n    </tr>\n    <tr>\n      <th>3</th>\n      <td>105.0</td>\n      <td>102.789943</td>\n    </tr>\n    <tr>\n      <th>4</th>\n      <td>142.2</td>\n      <td>141.860974</td>\n    </tr>\n    <tr>\n      <th>5</th>\n      <td>110.0</td>\n      <td>109.971290</td>\n    </tr>\n    <tr>\n      <th>6</th>\n      <td>80.5</td>\n      <td>89.924150</td>\n    </tr>\n    <tr>\n      <th>7</th>\n      <td>65.0</td>\n      <td>87.460838</td>\n    </tr>\n  </tbody>\n</table>\n</div>"
          },
          "metadata": {}
        },
        {
          "output_type": "stream",
          "name": "stdout",
          "text": [
            "\nresidual_stress: 30 Nodes\n"
          ]
        },
        {
          "output_type": "display_data",
          "data": {
            "text/plain": "   Expected   Predicted\n0     188.6  181.930902\n1     216.8  220.428586\n2     125.8  114.303468\n3     165.4  192.262353\n4     164.0  170.893519\n5     264.6  267.724403\n6     108.6  106.752147\n7      82.0   87.577242",
            "text/html": "<div>\n<style scoped>\n    .dataframe tbody tr th:only-of-type {\n        vertical-align: middle;\n    }\n\n    .dataframe tbody tr th {\n        vertical-align: top;\n    }\n\n    .dataframe thead th {\n        text-align: right;\n    }\n</style>\n<table border=\"1\" class=\"dataframe\">\n  <thead>\n    <tr style=\"text-align: right;\">\n      <th></th>\n      <th>Expected</th>\n      <th>Predicted</th>\n    </tr>\n  </thead>\n  <tbody>\n    <tr>\n      <th>0</th>\n      <td>188.6</td>\n      <td>181.930902</td>\n    </tr>\n    <tr>\n      <th>1</th>\n      <td>216.8</td>\n      <td>220.428586</td>\n    </tr>\n    <tr>\n      <th>2</th>\n      <td>125.8</td>\n      <td>114.303468</td>\n    </tr>\n    <tr>\n      <th>3</th>\n      <td>165.4</td>\n      <td>192.262353</td>\n    </tr>\n    <tr>\n      <th>4</th>\n      <td>164.0</td>\n      <td>170.893519</td>\n    </tr>\n    <tr>\n      <th>5</th>\n      <td>264.6</td>\n      <td>267.724403</td>\n    </tr>\n    <tr>\n      <th>6</th>\n      <td>108.6</td>\n      <td>106.752147</td>\n    </tr>\n    <tr>\n      <th>7</th>\n      <td>82.0</td>\n      <td>87.577242</td>\n    </tr>\n  </tbody>\n</table>\n</div>"
          },
          "metadata": {}
        },
        {
          "output_type": "stream",
          "name": "stdout",
          "text": [
            "\ntensile_strength: 30 Nodes\n"
          ]
        },
        {
          "output_type": "display_data",
          "data": {
            "text/plain": "   Expected   Predicted\n0     312.8  316.431745\n1     442.6  438.542254\n2     396.5  483.027715\n3     422.8  372.688306\n4     280.2  278.097232\n5     304.2  331.490274\n6     394.6  418.454299\n7     378.5  358.245563",
            "text/html": "<div>\n<style scoped>\n    .dataframe tbody tr th:only-of-type {\n        vertical-align: middle;\n    }\n\n    .dataframe tbody tr th {\n        vertical-align: top;\n    }\n\n    .dataframe thead th {\n        text-align: right;\n    }\n</style>\n<table border=\"1\" class=\"dataframe\">\n  <thead>\n    <tr style=\"text-align: right;\">\n      <th></th>\n      <th>Expected</th>\n      <th>Predicted</th>\n    </tr>\n  </thead>\n  <tbody>\n    <tr>\n      <th>0</th>\n      <td>312.8</td>\n      <td>316.431745</td>\n    </tr>\n    <tr>\n      <th>1</th>\n      <td>442.6</td>\n      <td>438.542254</td>\n    </tr>\n    <tr>\n      <th>2</th>\n      <td>396.5</td>\n      <td>483.027715</td>\n    </tr>\n    <tr>\n      <th>3</th>\n      <td>422.8</td>\n      <td>372.688306</td>\n    </tr>\n    <tr>\n      <th>4</th>\n      <td>280.2</td>\n      <td>278.097232</td>\n    </tr>\n    <tr>\n      <th>5</th>\n      <td>304.2</td>\n      <td>331.490274</td>\n    </tr>\n    <tr>\n      <th>6</th>\n      <td>394.6</td>\n      <td>418.454299</td>\n    </tr>\n    <tr>\n      <th>7</th>\n      <td>378.5</td>\n      <td>358.245563</td>\n    </tr>\n  </tbody>\n</table>\n</div>"
          },
          "metadata": {}
        },
        {
          "output_type": "display_data",
          "data": {
            "text/plain": "             Variable  Nodes        R2          MSE       RMSE        MAD  \\\n0   flexural_strength      5  0.604592  1033.778191  32.152421  23.739562   \n1      hardness_value      5  0.888408    66.235890   8.138543   7.156999   \n2     residual_stress      5  0.921690   268.576341  16.388299  10.326147   \n3    tensile_strength      5  0.507158  2502.520940  50.025203  36.475915   \n4   flexural_strength     10  0.326779  1511.347014  38.876047  29.903672   \n5      hardness_value     10  0.691672   121.709273  11.032193   7.477440   \n6     residual_stress     10  0.952640   159.873438  12.644107  10.125956   \n7    tensile_strength     10  0.664152  1424.070711  37.736861  28.449760   \n8   flexural_strength     15  0.389169  1355.588788  36.818321  28.918224   \n9      hardness_value     15  0.750932   104.923397  10.243212   7.474961   \n10    residual_stress     15  0.971689    87.521753   9.355306   7.892143   \n11   tensile_strength     15  0.650981  1437.141705  37.909652  29.120561   \n12  flexural_strength     20  0.227561  1888.518379  43.457087  32.131138   \n13     hardness_value     20  0.880048    56.112822   7.490849   5.974239   \n14    residual_stress     20  0.959434   128.096051  11.317953   7.629464   \n15   tensile_strength     20  0.718079  1152.538527  33.949058  24.462624   \n16  flexural_strength     25  0.374897  1537.582908  39.212025  28.034281   \n17     hardness_value     25  0.790404    76.899085   8.769212   6.671199   \n18    residual_stress     25  0.963369   118.047799  10.864980   6.893062   \n19   tensile_strength     25  0.582004  1771.990031  42.095012  31.705902   \n20  flexural_strength     30  0.325604  1525.522020  39.057932  29.326418   \n21     hardness_value     30  0.807265    79.439259   8.912870   5.572789   \n22    residual_stress     30  0.962267   125.400309  11.198228   8.262448   \n23   tensile_strength     30  0.639313  1469.541592  38.334600  27.228835   \n\n         MAPE        TS      Time  \n0    8.205236  2.016789  0.002813  \n1    7.949496 -1.921587  0.000208  \n2    6.603079 -4.536184  0.003893  \n3    9.719409 -4.904011  0.006697  \n4   10.338659  2.175375  0.000893  \n5    9.017726 -0.809972  0.011069  \n6    7.115696 -2.041876  0.000961  \n7    7.449570 -3.132928  0.001145  \n8   10.148071  0.370429  0.018514  \n9    9.298026 -2.261998  0.001295  \n10   5.858968 -2.786540  0.000378  \n11   7.625363 -3.044283  0.000589  \n12  11.186361  1.745321  0.051814  \n13   7.097336 -3.771766  0.000825  \n14   5.469195 -4.114713  0.000451  \n15   6.395325 -2.889321  0.018133  \n16   9.659507  2.030080  0.000800  \n17   7.666680 -3.637077  0.002702  \n18   4.438879 -4.593598  0.000048  \n19   8.372552 -2.402342  0.001800  \n20  10.323954  1.640597  0.002443  \n21   7.206873 -5.885111  0.010784  \n22   5.559574 -3.155556  0.000991  \n23   7.108887 -2.379000  0.006486  ",
            "text/html": "<div>\n<style scoped>\n    .dataframe tbody tr th:only-of-type {\n        vertical-align: middle;\n    }\n\n    .dataframe tbody tr th {\n        vertical-align: top;\n    }\n\n    .dataframe thead th {\n        text-align: right;\n    }\n</style>\n<table border=\"1\" class=\"dataframe\">\n  <thead>\n    <tr style=\"text-align: right;\">\n      <th></th>\n      <th>Variable</th>\n      <th>Nodes</th>\n      <th>R2</th>\n      <th>MSE</th>\n      <th>RMSE</th>\n      <th>MAD</th>\n      <th>MAPE</th>\n      <th>TS</th>\n      <th>Time</th>\n    </tr>\n  </thead>\n  <tbody>\n    <tr>\n      <th>0</th>\n      <td>flexural_strength</td>\n      <td>5</td>\n      <td>0.604592</td>\n      <td>1033.778191</td>\n      <td>32.152421</td>\n      <td>23.739562</td>\n      <td>8.205236</td>\n      <td>2.016789</td>\n      <td>0.002813</td>\n    </tr>\n    <tr>\n      <th>1</th>\n      <td>hardness_value</td>\n      <td>5</td>\n      <td>0.888408</td>\n      <td>66.235890</td>\n      <td>8.138543</td>\n      <td>7.156999</td>\n      <td>7.949496</td>\n      <td>-1.921587</td>\n      <td>0.000208</td>\n    </tr>\n    <tr>\n      <th>2</th>\n      <td>residual_stress</td>\n      <td>5</td>\n      <td>0.921690</td>\n      <td>268.576341</td>\n      <td>16.388299</td>\n      <td>10.326147</td>\n      <td>6.603079</td>\n      <td>-4.536184</td>\n      <td>0.003893</td>\n    </tr>\n    <tr>\n      <th>3</th>\n      <td>tensile_strength</td>\n      <td>5</td>\n      <td>0.507158</td>\n      <td>2502.520940</td>\n      <td>50.025203</td>\n      <td>36.475915</td>\n      <td>9.719409</td>\n      <td>-4.904011</td>\n      <td>0.006697</td>\n    </tr>\n    <tr>\n      <th>4</th>\n      <td>flexural_strength</td>\n      <td>10</td>\n      <td>0.326779</td>\n      <td>1511.347014</td>\n      <td>38.876047</td>\n      <td>29.903672</td>\n      <td>10.338659</td>\n      <td>2.175375</td>\n      <td>0.000893</td>\n    </tr>\n    <tr>\n      <th>5</th>\n      <td>hardness_value</td>\n      <td>10</td>\n      <td>0.691672</td>\n      <td>121.709273</td>\n      <td>11.032193</td>\n      <td>7.477440</td>\n      <td>9.017726</td>\n      <td>-0.809972</td>\n      <td>0.011069</td>\n    </tr>\n    <tr>\n      <th>6</th>\n      <td>residual_stress</td>\n      <td>10</td>\n      <td>0.952640</td>\n      <td>159.873438</td>\n      <td>12.644107</td>\n      <td>10.125956</td>\n      <td>7.115696</td>\n      <td>-2.041876</td>\n      <td>0.000961</td>\n    </tr>\n    <tr>\n      <th>7</th>\n      <td>tensile_strength</td>\n      <td>10</td>\n      <td>0.664152</td>\n      <td>1424.070711</td>\n      <td>37.736861</td>\n      <td>28.449760</td>\n      <td>7.449570</td>\n      <td>-3.132928</td>\n      <td>0.001145</td>\n    </tr>\n    <tr>\n      <th>8</th>\n      <td>flexural_strength</td>\n      <td>15</td>\n      <td>0.389169</td>\n      <td>1355.588788</td>\n      <td>36.818321</td>\n      <td>28.918224</td>\n      <td>10.148071</td>\n      <td>0.370429</td>\n      <td>0.018514</td>\n    </tr>\n    <tr>\n      <th>9</th>\n      <td>hardness_value</td>\n      <td>15</td>\n      <td>0.750932</td>\n      <td>104.923397</td>\n      <td>10.243212</td>\n      <td>7.474961</td>\n      <td>9.298026</td>\n      <td>-2.261998</td>\n      <td>0.001295</td>\n    </tr>\n    <tr>\n      <th>10</th>\n      <td>residual_stress</td>\n      <td>15</td>\n      <td>0.971689</td>\n      <td>87.521753</td>\n      <td>9.355306</td>\n      <td>7.892143</td>\n      <td>5.858968</td>\n      <td>-2.786540</td>\n      <td>0.000378</td>\n    </tr>\n    <tr>\n      <th>11</th>\n      <td>tensile_strength</td>\n      <td>15</td>\n      <td>0.650981</td>\n      <td>1437.141705</td>\n      <td>37.909652</td>\n      <td>29.120561</td>\n      <td>7.625363</td>\n      <td>-3.044283</td>\n      <td>0.000589</td>\n    </tr>\n    <tr>\n      <th>12</th>\n      <td>flexural_strength</td>\n      <td>20</td>\n      <td>0.227561</td>\n      <td>1888.518379</td>\n      <td>43.457087</td>\n      <td>32.131138</td>\n      <td>11.186361</td>\n      <td>1.745321</td>\n      <td>0.051814</td>\n    </tr>\n    <tr>\n      <th>13</th>\n      <td>hardness_value</td>\n      <td>20</td>\n      <td>0.880048</td>\n      <td>56.112822</td>\n      <td>7.490849</td>\n      <td>5.974239</td>\n      <td>7.097336</td>\n      <td>-3.771766</td>\n      <td>0.000825</td>\n    </tr>\n    <tr>\n      <th>14</th>\n      <td>residual_stress</td>\n      <td>20</td>\n      <td>0.959434</td>\n      <td>128.096051</td>\n      <td>11.317953</td>\n      <td>7.629464</td>\n      <td>5.469195</td>\n      <td>-4.114713</td>\n      <td>0.000451</td>\n    </tr>\n    <tr>\n      <th>15</th>\n      <td>tensile_strength</td>\n      <td>20</td>\n      <td>0.718079</td>\n      <td>1152.538527</td>\n      <td>33.949058</td>\n      <td>24.462624</td>\n      <td>6.395325</td>\n      <td>-2.889321</td>\n      <td>0.018133</td>\n    </tr>\n    <tr>\n      <th>16</th>\n      <td>flexural_strength</td>\n      <td>25</td>\n      <td>0.374897</td>\n      <td>1537.582908</td>\n      <td>39.212025</td>\n      <td>28.034281</td>\n      <td>9.659507</td>\n      <td>2.030080</td>\n      <td>0.000800</td>\n    </tr>\n    <tr>\n      <th>17</th>\n      <td>hardness_value</td>\n      <td>25</td>\n      <td>0.790404</td>\n      <td>76.899085</td>\n      <td>8.769212</td>\n      <td>6.671199</td>\n      <td>7.666680</td>\n      <td>-3.637077</td>\n      <td>0.002702</td>\n    </tr>\n    <tr>\n      <th>18</th>\n      <td>residual_stress</td>\n      <td>25</td>\n      <td>0.963369</td>\n      <td>118.047799</td>\n      <td>10.864980</td>\n      <td>6.893062</td>\n      <td>4.438879</td>\n      <td>-4.593598</td>\n      <td>0.000048</td>\n    </tr>\n    <tr>\n      <th>19</th>\n      <td>tensile_strength</td>\n      <td>25</td>\n      <td>0.582004</td>\n      <td>1771.990031</td>\n      <td>42.095012</td>\n      <td>31.705902</td>\n      <td>8.372552</td>\n      <td>-2.402342</td>\n      <td>0.001800</td>\n    </tr>\n    <tr>\n      <th>20</th>\n      <td>flexural_strength</td>\n      <td>30</td>\n      <td>0.325604</td>\n      <td>1525.522020</td>\n      <td>39.057932</td>\n      <td>29.326418</td>\n      <td>10.323954</td>\n      <td>1.640597</td>\n      <td>0.002443</td>\n    </tr>\n    <tr>\n      <th>21</th>\n      <td>hardness_value</td>\n      <td>30</td>\n      <td>0.807265</td>\n      <td>79.439259</td>\n      <td>8.912870</td>\n      <td>5.572789</td>\n      <td>7.206873</td>\n      <td>-5.885111</td>\n      <td>0.010784</td>\n    </tr>\n    <tr>\n      <th>22</th>\n      <td>residual_stress</td>\n      <td>30</td>\n      <td>0.962267</td>\n      <td>125.400309</td>\n      <td>11.198228</td>\n      <td>8.262448</td>\n      <td>5.559574</td>\n      <td>-3.155556</td>\n      <td>0.000991</td>\n    </tr>\n    <tr>\n      <th>23</th>\n      <td>tensile_strength</td>\n      <td>30</td>\n      <td>0.639313</td>\n      <td>1469.541592</td>\n      <td>38.334600</td>\n      <td>27.228835</td>\n      <td>7.108887</td>\n      <td>-2.379000</td>\n      <td>0.006486</td>\n    </tr>\n  </tbody>\n</table>\n</div>"
          },
          "metadata": {}
        }
      ],
      "source": [
        "metrics = []\n",
        "for hidden_size in range(1000, 6500, 1000):\n",
        "    # print(f'\\nELM Analysis for {hidden_size} Node(s)')\n",
        "    for i in range(y.shape[1]):\n",
        "        metric = [y1.columns[i], int(hidden_size/200)]\n",
        "        cols = y[:, i]\n",
        "        X_train, X_test, y_train, y_test = train_test_split(X, cols,random_state=1, test_size=0.2)\n",
        "\n",
        "        tic = timeit.timeit() #Start timer\n",
        "        input_size = X_train.shape[1]\n",
        "        input_weights = np.random.normal(size=[input_size,hidden_size])\n",
        "        biases = np.random.normal(size=[hidden_size])\n",
        "        output_weights = np.dot(pinv2(hidden_nodes(X_train)), y_train)\n",
        "        prediction = predict(X_test)\n",
        "        toc = timeit.timeit() #Stop timer\n",
        "\n",
        "        # Display data\n",
        "        print(f'\\n{y1.columns[i]}: {int(hidden_size/200)} Nodes')\n",
        "        a = []\n",
        "        for j in range(len(y_test)):\n",
        "            a.append([y_test[j], prediction[j]])\n",
        "        a_df = pd.DataFrame(a, columns=['Expected', 'Predicted'])\n",
        "        display(a_df)\n",
        "\n",
        "        # Calculate the necessary metrics\n",
        "        r2 = r2_score(prediction, y_test)\n",
        "        mse = mean_squared_error(y_test, prediction)\n",
        "        rmse = np.sqrt(mse)\n",
        "        mad = MAD(y_test, prediction)\n",
        "        mape = MAPE(y_test, prediction)\n",
        "        ts = TS(y_test, prediction)\n",
        "        time = abs(toc - tic)\n",
        "\n",
        "        metric.extend([r2, mse, rmse, mad, mape, ts, time])   # Update metric\n",
        "        metrics.append(metric)  # Undate metrics\n",
        "\n",
        "\n",
        "metrics_df = pd.DataFrame(metrics, columns=['Variable', 'Nodes', 'R2', 'MSE', 'RMSE', 'MAD', 'MAPE', 'TS', 'Time'])\n",
        "\n",
        "display(metrics_df)"
      ]
    },
    {
      "cell_type": "code",
      "execution_count": null,
      "metadata": {},
      "outputs": [],
      "source": []
    }
  ]
}