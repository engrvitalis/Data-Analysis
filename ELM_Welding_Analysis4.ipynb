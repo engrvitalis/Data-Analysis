{
  "nbformat": 4,
  "nbformat_minor": 0,
  "metadata": {
    "colab": {
      "name": "ELM_Welding Analysis4",
      "provenance": [],
      "collapsed_sections": [],
      "authorship_tag": "ABX9TyOMYE3t5c0bcfzKIJ72lyqm",
      "include_colab_link": true
    },
    "kernelspec": {
      "name": "python3",
      "display_name": "Python 3.8.5 32-bit"
    },
    "language_info": {
      "name": "python",
      "version": "3.8.5"
    },
    "interpreter": {
      "hash": "1c72832a108eb0837c5c37e8e00e2391395febd5aef1dcb35f2d105938702949"
    }
  },
  "cells": [
    {
      "cell_type": "code",
      "metadata": {
        "id": "Gc3npuPEvizW"
      },
      "source": [
        "\"\"\"Import the required modules\"\"\"\n",
        "from sklearn.neural_network import MLPRegressor\n",
        "from sklearn.model_selection import train_test_split\n",
        "from sklearn.metrics import r2_score, mean_squared_error, mean_absolute_error\n",
        "from sklearn.preprocessing import StandardScaler\n",
        "from scipy.linalg import pinv2\n",
        "import matplotlib.pyplot as plt\n",
        "import pandas as pd\n",
        "import numpy as np\n",
        "import time"
      ],
      "execution_count": 56,
      "outputs": []
    },
    {
      "cell_type": "markdown",
      "metadata": {
        "id": "FbVon2IRHqUR"
      },
      "source": [
        "Analyzing welding data by welding types"
      ]
    },
    {
      "cell_type": "code",
      "metadata": {
        "id": "rI_WusHbqMt3",
        "colab": {
          "base_uri": "https://localhost:8080/",
          "height": 224
        },
        "outputId": "ed6f5f16-dbeb-417e-dc80-a01c63377bb3"
      },
      "source": [
        "df2 = pd.read_csv('welding_data_by_welding_types.csv')\n",
        "df2 = pd.get_dummies(df2).drop('welding_type_GMAW', axis=1)\n",
        "df2 = df2[['current', 'voltage', 'welding_speed', 'plate_thickness',\t'welding_type_SAW',\t'welding_type_SMAW',\t              'welding_type_GTAW', 'flexural_strength', 'hardness_value', 'residual_stress',\n",
        "           'tensile_strength']]\n",
        "df2.head()"
      ],
      "execution_count": 57,
      "outputs": [
        {
          "output_type": "execute_result",
          "data": {
            "text/plain": [
              "   current  voltage  welding_speed  plate_thickness  welding_type_SAW  \\\n",
              "0      160       32            120                6                 0   \n",
              "1      130       32             90                8                 0   \n",
              "2      100       28            120                8                 0   \n",
              "3      160       28             90               10                 0   \n",
              "4      100       28            120                8                 1   \n",
              "\n",
              "   welding_type_SMAW  welding_type_GTAW  flexural_strength  hardness_value  \\\n",
              "0                  0                  1              236.2           102.5   \n",
              "1                  1                  0              270.2            96.4   \n",
              "2                  0                  1              360.8            86.4   \n",
              "3                  0                  1              230.0           105.0   \n",
              "4                  0                  0              276.5           128.4   \n",
              "\n",
              "   residual_stress  tensile_strength  \n",
              "0            152.0             432.6  \n",
              "1            270.2             332.8  \n",
              "2             90.5             382.4  \n",
              "3            165.4             422.8  \n",
              "4            186.6             385.5  "
            ],
            "text/html": "<div>\n<style scoped>\n    .dataframe tbody tr th:only-of-type {\n        vertical-align: middle;\n    }\n\n    .dataframe tbody tr th {\n        vertical-align: top;\n    }\n\n    .dataframe thead th {\n        text-align: right;\n    }\n</style>\n<table border=\"1\" class=\"dataframe\">\n  <thead>\n    <tr style=\"text-align: right;\">\n      <th></th>\n      <th>current</th>\n      <th>voltage</th>\n      <th>welding_speed</th>\n      <th>plate_thickness</th>\n      <th>welding_type_SAW</th>\n      <th>welding_type_SMAW</th>\n      <th>welding_type_GTAW</th>\n      <th>flexural_strength</th>\n      <th>hardness_value</th>\n      <th>residual_stress</th>\n      <th>tensile_strength</th>\n    </tr>\n  </thead>\n  <tbody>\n    <tr>\n      <th>0</th>\n      <td>160</td>\n      <td>32</td>\n      <td>120</td>\n      <td>6</td>\n      <td>0</td>\n      <td>0</td>\n      <td>1</td>\n      <td>236.2</td>\n      <td>102.5</td>\n      <td>152.0</td>\n      <td>432.6</td>\n    </tr>\n    <tr>\n      <th>1</th>\n      <td>130</td>\n      <td>32</td>\n      <td>90</td>\n      <td>8</td>\n      <td>0</td>\n      <td>1</td>\n      <td>0</td>\n      <td>270.2</td>\n      <td>96.4</td>\n      <td>270.2</td>\n      <td>332.8</td>\n    </tr>\n    <tr>\n      <th>2</th>\n      <td>100</td>\n      <td>28</td>\n      <td>120</td>\n      <td>8</td>\n      <td>0</td>\n      <td>0</td>\n      <td>1</td>\n      <td>360.8</td>\n      <td>86.4</td>\n      <td>90.5</td>\n      <td>382.4</td>\n    </tr>\n    <tr>\n      <th>3</th>\n      <td>160</td>\n      <td>28</td>\n      <td>90</td>\n      <td>10</td>\n      <td>0</td>\n      <td>0</td>\n      <td>1</td>\n      <td>230.0</td>\n      <td>105.0</td>\n      <td>165.4</td>\n      <td>422.8</td>\n    </tr>\n    <tr>\n      <th>4</th>\n      <td>100</td>\n      <td>28</td>\n      <td>120</td>\n      <td>8</td>\n      <td>1</td>\n      <td>0</td>\n      <td>0</td>\n      <td>276.5</td>\n      <td>128.4</td>\n      <td>186.6</td>\n      <td>385.5</td>\n    </tr>\n  </tbody>\n</table>\n</div>"
          },
          "metadata": {},
          "execution_count": 57
        }
      ]
    },
    {
      "cell_type": "markdown",
      "metadata": {
        "id": "ZAtlsi2eKenn"
      },
      "source": [
        "Exploratory data analysis"
      ]
    },
    {
      "cell_type": "code",
      "metadata": {
        "colab": {
          "base_uri": "https://localhost:8080/",
          "height": 1000
        },
        "id": "xkbPkPWsKTr0",
        "outputId": "9db7b6a4-3109-483a-f26a-98cf90d68914"
      },
      "source": [
        "# pos = 1\n",
        "# for i in range(4):\n",
        "#   print(f'\\t{df2.columns[i].capitalize()} vs Response values')\n",
        "#   plt.figure()\n",
        "#   for j in range(8, 11):\n",
        "#     plt.subplot(1, 3, pos)\n",
        "#     plt.scatter(df2.iloc[:, i], df2.iloc[:, j])\n",
        "#     plt.ylabel(df2.columns[j])\n",
        "#     plt.xlabel(df2.columns[i])\n",
        "#     pos += 1\n",
        "#   plt.tight_layout()\n",
        "#   plt.show()\n",
        "#   print('\\n')\n",
        "#   pos = 1"
      ],
      "execution_count": 58,
      "outputs": []
    },
    {
      "cell_type": "markdown",
      "metadata": {
        "id": "BhrnuO7_MB2t"
      },
      "source": [
        "Generate the necessary variables for modeling"
      ]
    },
    {
      "cell_type": "code",
      "metadata": {
        "id": "u4vNOq2TL7bI"
      },
      "source": [
        "X1 = df2.iloc[:, :7]\n",
        "X = X1.to_numpy()\n",
        "y1 = df2.iloc[:, -4:]\n",
        "y = y1.to_numpy()"
      ],
      "execution_count": 59,
      "outputs": []
    },
    {
      "cell_type": "code",
      "metadata": {
        "id": "jbUSR_NT6N8d"
      },
      "source": [
        "def relu(x):\n",
        "   return np.maximum(x, 0, x)"
      ],
      "execution_count": 60,
      "outputs": []
    },
    {
      "cell_type": "code",
      "metadata": {
        "id": "0r5yMnU36RUq"
      },
      "source": [
        "def hidden_nodes(X):\n",
        "    G = np.dot(X, input_weights)\n",
        "    G = G + biases\n",
        "    H = relu(G)\n",
        "    return H"
      ],
      "execution_count": 61,
      "outputs": []
    },
    {
      "cell_type": "code",
      "metadata": {
        "id": "Z11b7skL6Uuk"
      },
      "source": [
        "def predict(X):\n",
        "    out = hidden_nodes(X)\n",
        "    out = np.dot(out, output_weights)\n",
        "    return out"
      ],
      "execution_count": 62,
      "outputs": []
    },
    {
      "cell_type": "code",
      "execution_count": 94,
      "metadata": {},
      "outputs": [],
      "source": [
        "def MAD(y, y_pred):\n",
        "    '''Calculates the Mean Absolute Deviation of two arrays of numbers\n",
        "    Input: y(array), y_pred(array)\n",
        "    Output: float\n",
        "    '''\n",
        "    import numpy as np\n",
        "\n",
        "    return np.average(np.abs(y - y_pred))"
      ]
    },
    {
      "cell_type": "code",
      "execution_count": 98,
      "metadata": {},
      "outputs": [],
      "source": [
        "def MAPE(y, y_pred):\n",
        "    '''\n",
        "    Calculates the relationship between the average prediction error\n",
        "    and the average expected target error for several consecutive periods.\n",
        "\n",
        "    Input: y(array), y_pred(array)\n",
        "    Output: float\n",
        "    '''\n",
        "    import numpy as np\n",
        "\n",
        "    # Calculate prediction error\n",
        "    error = y - y_pred\n",
        "\n",
        "    return np.average((np.abs(error)/y) * 100)"
      ]
    },
    {
      "cell_type": "code",
      "execution_count": 64,
      "metadata": {},
      "outputs": [],
      "source": [
        "# Split data in readiness for training.\n",
        "X_train, X_test, y_train, y_test = train_test_split(X, y, random_state=1, test_size=0.2)\n",
        "\n",
        "# Convert test data to dataframe and print it.\n",
        "y_test_df = pd.DataFrame(y_test, columns=['flexural_strength',\t'hardness_value',\t'residual_stress',\t'tensile_strength'])"
      ]
    },
    {
      "cell_type": "code",
      "metadata": {
        "colab": {
          "base_uri": "https://localhost:8080/"
        },
        "id": "Q5H8SCIsT54H",
        "outputId": "f0bf8e43-bb73-4867-bf43-7238dc35bd65",
        "tags": []
      },
      "source": [
        "Predicting individual response separately to optimize prediction"
      ],
      "execution_count": 65,
      "outputs": [
        {
          "output_type": "stream",
          "name": "stdout",
          "text": [
            "For 5 nodes\n______________________\n"
          ]
        },
        {
          "output_type": "error",
          "ename": "IndexError",
          "evalue": "tuple index out of range",
          "traceback": [
            "\u001b[1;31m---------------------------------------------------------------------------\u001b[0m",
            "\u001b[1;31mIndexError\u001b[0m                                Traceback (most recent call last)",
            "\u001b[1;32m<ipython-input-65-c1090aa920a4>\u001b[0m in \u001b[0;36m<module>\u001b[1;34m\u001b[0m\n\u001b[0;32m     25\u001b[0m     \u001b[1;31m#   print(f'Prediction')\u001b[0m\u001b[1;33m\u001b[0m\u001b[1;33m\u001b[0m\u001b[1;33m\u001b[0m\u001b[0m\n\u001b[0;32m     26\u001b[0m     \u001b[0mmetrics_row\u001b[0m \u001b[1;33m=\u001b[0m \u001b[1;33m[\u001b[0m\u001b[0mhidden_size\u001b[0m\u001b[1;33m]\u001b[0m\u001b[1;33m\u001b[0m\u001b[1;33m\u001b[0m\u001b[0m\n\u001b[1;32m---> 27\u001b[1;33m     \u001b[1;32mfor\u001b[0m \u001b[0mi\u001b[0m \u001b[1;32min\u001b[0m \u001b[0mrange\u001b[0m\u001b[1;33m(\u001b[0m\u001b[0my_test\u001b[0m\u001b[1;33m.\u001b[0m\u001b[0mshape\u001b[0m\u001b[1;33m[\u001b[0m\u001b[1;36m1\u001b[0m\u001b[1;33m]\u001b[0m\u001b[1;33m)\u001b[0m\u001b[1;33m:\u001b[0m\u001b[1;33m\u001b[0m\u001b[1;33m\u001b[0m\u001b[0m\n\u001b[0m\u001b[0;32m     28\u001b[0m       \u001b[0mmetrics_row\u001b[0m\u001b[1;33m.\u001b[0m\u001b[0mappend\u001b[0m\u001b[1;33m(\u001b[0m\u001b[0mr2_score\u001b[0m\u001b[1;33m(\u001b[0m\u001b[0mprediction\u001b[0m\u001b[1;33m[\u001b[0m\u001b[1;33m:\u001b[0m\u001b[1;33m,\u001b[0m \u001b[0mi\u001b[0m\u001b[1;33m]\u001b[0m\u001b[1;33m,\u001b[0m \u001b[0my_test\u001b[0m\u001b[1;33m[\u001b[0m\u001b[1;33m:\u001b[0m\u001b[1;33m,\u001b[0m \u001b[0mi\u001b[0m\u001b[1;33m]\u001b[0m\u001b[1;33m)\u001b[0m\u001b[1;33m)\u001b[0m\u001b[1;33m\u001b[0m\u001b[1;33m\u001b[0m\u001b[0m\n\u001b[0;32m     29\u001b[0m       \u001b[1;31m# print(f'R^2 for {prediction_df.columns[i]}: {(r2_score(prediction[:, i], y_test[:, i]))}')\u001b[0m\u001b[1;33m\u001b[0m\u001b[1;33m\u001b[0m\u001b[1;33m\u001b[0m\u001b[0m\n",
            "\u001b[1;31mIndexError\u001b[0m: tuple index out of range"
          ]
        }
      ]
    },
    {
      "cell_type": "markdown",
      "metadata": {
        "id": "ZTw51LdTTZoi"
      },
      "source": [
        "# print('Expected Data')\n",
        "# print(y_test_df)\n",
        "# print('\\n')\n",
        "\n",
        "# Run ELM for 5, 10, 15, 20, 25, 30 nodes.\n",
        "metrics_table = []\n",
        "for hidden_size in range(5, 35, 5):\n",
        "  print(f'For {hidden_size} nodes')\n",
        "  print('______________________')\n",
        "  for i in range(y.shape[1]):\n",
        "    cols = y[:, i]\n",
        "    X_train, X_test, y_train, y_test = train_test_split(X, cols,random_state=1, test_size=0.2)\n",
        "    # ELM Calculations.\n",
        "    e_tic = time.perf_counter() #Start timer\n",
        "    input_size = X_train.shape[1] #Set input size to the number of columns in the X train data\n",
        "    input_weights = np.random.normal(size=[input_size,hidden_size]) #Create input weight matrix\n",
        "    biases = np.random.normal(size=[hidden_size]) #Set up biases the size of hidden layer\n",
        "    output_weights = np.dot(pinv2(hidden_nodes(X_train)), y_train)\n",
        "    prediction = predict(X_test)  #Predict\n",
        "    # Convert prediction array to dataframe\n",
        "    # prediction_df = pd.DataFrame(prediction, columns=['flexural_strength',\t'hardness_value',\t'residual_stress',\t'tensile_strength'])\n",
        "    e_toc = time.perf_counter() #Stop timer\n",
        "\n",
        "    # for i in range(y_test.shape[1]):\n",
        "    #   print(f'Prediction')\n",
        "    metrics_row = [hidden_size]\n",
        "    for i in range(y_test.shape[1]):\n",
        "      metrics_row.append(r2_score(prediction[:, i], y_test[:, i]))\n",
        "      # print(f'R^2 for {prediction_df.columns[i]}: {(r2_score(prediction[:, i], y_test[:, i]))}')\n",
        "    \n",
        "    metrics_table.append(metrics_row)\n",
        "    #   # print(metrics_row)\n",
        "\n",
        "    metrics_table_df = pd.DataFrame(metrics_table, columns=[['Nodes'] + list(prediction_df.columns)])\n",
        "\n",
        "print(metrics_table_df)\n",
        "  # display(prediction_df)\n",
        "\n",
        "  \n",
        "\n",
        "    # # ANN calculations\n",
        "    # a_tic = time.perf_counter()\n",
        "    # sc_X = StandardScaler()\n",
        "    # X_trainscaled=sc_X.fit_transform(X_train)\n",
        "    # X_testscaled=sc_X.transform(X_test)\n",
        "    # reg = MLPRegressor(hidden_layer_sizes=(h,h,h),activation=\"relu\" ,random_state=1, max_iter=1000000).fit(X_trainscaled, y_train)\n",
        "    # y_pred=reg.predict(X_testscaled)\n",
        "    # a_tic = time.perf_counter()\n",
        "\n",
        "    # print(f'Metrics for Response variable, {y1.columns[i].capitalize()}:')\n",
        "\n",
        "    # print(f'E_Exp\\t\\tE_Pre\\t\\tA_Pre')\n",
        "    # for j in range(len(y_test)):\n",
        "    #   print(f'{y_test[j]}\\t{prediction[j]}\\t{y_pred}')\n",
        "\n",
        "    # print(f'R^2: {(r2_score(prediction, y_test))}')\n",
        "    # print(f'rmse: {np.sqrt(mean_squared_error(y_test, prediction))}')\n",
        "    # print(f'mae: {(mean_absolute_error(y_test, prediction))}\\n')\n",
        "    # print(f'Time: {')"
      ]
    },
    {
      "cell_type": "code",
      "execution_count": null,
      "metadata": {},
      "outputs": [],
      "source": []
    },
    {
      "cell_type": "code",
      "execution_count": 100,
      "metadata": {},
      "outputs": [
        {
          "output_type": "stream",
          "name": "stdout",
          "text": [
            "\nELM Analysis for 5 Node(s)\nFlexural_strength:\n\tR^2: -5.505226305243115\n\trmse: 74.75868761609773\nHardness_value:\n\tR^2: -5.595702374554594\n\trmse: 29.34272984300399\nResidual_stress:\n\tR^2: -0.2459055354589379\n\trmse: 72.3554404573569\nTensile_strength:\n\tR^2: -3.195076028605933\n\trmse: 88.91082516518166\n"
          ]
        }
      ],
      "source": [
        "metrics\n",
        "for hidden_size in range(5, 6, 5):\n",
        "    metric = [hidden_size]\n",
        "    print(f'\\nELM Analysis for {hidden_size} Node(s)')\n",
        "    for i in range(y.shape[1]):\n",
        "        cols = y[:, i]\n",
        "        X_train, X_test, y_train, y_test = train_test_split(X, cols,random_state=1, test_size=0.2)\n",
        "\n",
        "        input_size = X_train.shape[1]\n",
        "        # hidden_size = 5000\n",
        "        input_weights = np.random.normal(size=[input_size,hidden_size])\n",
        "        biases = np.random.normal(size=[hidden_size])\n",
        "        output_weights = np.dot(pinv2(hidden_nodes(X_train)), y_train)\n",
        "        prediction = predict(X_test)\n",
        "\n",
        "        # Calculate the necessary metrics\n",
        "        r2 = r2_score(prediction, y_test)\n",
        "        mse = mean_squared_error(y_test, prediction)\n",
        "        rmse = np.sqrt(mse)\n",
        "        mad = MAD(y_test, prediction)\n",
        "        mape = MAPE(y_test, prediction)\n",
        "\n",
        "\n",
        "        print(f'{y1.columns[i].capitalize()}:')\n",
        "        print(f'\\tR^2: {(r2_score(prediction, y_test))}')\n",
        "        print(f'\\trmse: {np.sqrt(mean_squared_error(y_test, prediction))}')"
      ]
    },
    {
      "cell_type": "code",
      "execution_count": null,
      "metadata": {},
      "outputs": [],
      "source": [
        "def TS()"
      ]
    }
  ]
}