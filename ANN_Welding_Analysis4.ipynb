{
  "nbformat": 4,
  "nbformat_minor": 0,
  "metadata": {
    "colab": {
      "name": "ANN_Welding Analysis4",
      "provenance": [],
      "collapsed_sections": [],
      "authorship_tag": "ABX9TyN6BDWqHt0lmptFWHAFPYQs",
      "include_colab_link": true
    },
    "kernelspec": {
      "name": "python3",
      "display_name": "Python 3.8.5 32-bit"
    },
    "language_info": {
      "name": "python",
      "version": "3.8.5"
    },
    "interpreter": {
      "hash": "1c72832a108eb0837c5c37e8e00e2391395febd5aef1dcb35f2d105938702949"
    }
  },
  "cells": [
    {
      "cell_type": "code",
      "metadata": {
        "id": "Gc3npuPEvizW"
      },
      "source": [
        "\"\"\"Import the required modules\"\"\"\n",
        "from sklearn.neural_network import MLPRegressor\n",
        "from sklearn.model_selection import train_test_split\n",
        "from sklearn.preprocessing import StandardScaler\n",
        "from sklearn.metrics import r2_score, mean_squared_error, mean_absolute_error\n",
        "import matplotlib.pyplot as plt\n",
        "import pandas as pd\n",
        "import numpy as np\n",
        "import timeit"
      ],
      "execution_count": 1,
      "outputs": []
    },
    {
      "cell_type": "markdown",
      "metadata": {
        "id": "FbVon2IRHqUR"
      },
      "source": [
        "Analyzing welding data by welding types"
      ]
    },
    {
      "cell_type": "code",
      "metadata": {
        "id": "rI_WusHbqMt3",
        "colab": {
          "base_uri": "https://localhost:8080/",
          "height": 224
        },
        "outputId": "0102de2d-9e55-4c42-b6d7-db27ac845994"
      },
      "source": [
        "df2 = pd.read_csv('welding_data_by_welding_types.csv')\n",
        "df2 = pd.get_dummies(df2).drop('welding_type_SAW', axis=1)\n",
        "df2 = df2[['current',\t'voltage',\t'welding_speed',\t'plate_thickness',\n",
        "           'welding_type_GMAW',\t'welding_type_GTAW',\t'welding_type_SMAW',\n",
        "           'heat_input',\t'tensile_strength',\t'flexural_strength',\t'hardness_value']]\n",
        "df2.head()"
      ],
      "execution_count": 2,
      "outputs": [
        {
          "output_type": "execute_result",
          "data": {
            "text/plain": [
              "   current  voltage  welding_speed  plate_thickness  welding_type_GMAW  \\\n",
              "0      160       32            120                6                  0   \n",
              "1      130       32             90                8                  0   \n",
              "2      100       28            120                8                  0   \n",
              "3      160       28             90               10                  0   \n",
              "4      100       28            120                8                  0   \n",
              "\n",
              "   welding_type_GTAW  welding_type_SMAW  heat_input  tensile_strength  \\\n",
              "0                  1                  0        1536             432.6   \n",
              "1                  0                  1        2218             332.8   \n",
              "2                  1                  0         840             382.4   \n",
              "3                  1                  0        1792             422.8   \n",
              "4                  0                  0        1400             385.5   \n",
              "\n",
              "   flexural_strength  hardness_value  \n",
              "0              236.2           102.5  \n",
              "1              270.2            96.4  \n",
              "2              360.8            86.4  \n",
              "3              230.0           105.0  \n",
              "4              276.5           128.4  "
            ],
            "text/html": "<div>\n<style scoped>\n    .dataframe tbody tr th:only-of-type {\n        vertical-align: middle;\n    }\n\n    .dataframe tbody tr th {\n        vertical-align: top;\n    }\n\n    .dataframe thead th {\n        text-align: right;\n    }\n</style>\n<table border=\"1\" class=\"dataframe\">\n  <thead>\n    <tr style=\"text-align: right;\">\n      <th></th>\n      <th>current</th>\n      <th>voltage</th>\n      <th>welding_speed</th>\n      <th>plate_thickness</th>\n      <th>welding_type_GMAW</th>\n      <th>welding_type_GTAW</th>\n      <th>welding_type_SMAW</th>\n      <th>heat_input</th>\n      <th>tensile_strength</th>\n      <th>flexural_strength</th>\n      <th>hardness_value</th>\n    </tr>\n  </thead>\n  <tbody>\n    <tr>\n      <th>0</th>\n      <td>160</td>\n      <td>32</td>\n      <td>120</td>\n      <td>6</td>\n      <td>0</td>\n      <td>1</td>\n      <td>0</td>\n      <td>1536</td>\n      <td>432.6</td>\n      <td>236.2</td>\n      <td>102.5</td>\n    </tr>\n    <tr>\n      <th>1</th>\n      <td>130</td>\n      <td>32</td>\n      <td>90</td>\n      <td>8</td>\n      <td>0</td>\n      <td>0</td>\n      <td>1</td>\n      <td>2218</td>\n      <td>332.8</td>\n      <td>270.2</td>\n      <td>96.4</td>\n    </tr>\n    <tr>\n      <th>2</th>\n      <td>100</td>\n      <td>28</td>\n      <td>120</td>\n      <td>8</td>\n      <td>0</td>\n      <td>1</td>\n      <td>0</td>\n      <td>840</td>\n      <td>382.4</td>\n      <td>360.8</td>\n      <td>86.4</td>\n    </tr>\n    <tr>\n      <th>3</th>\n      <td>160</td>\n      <td>28</td>\n      <td>90</td>\n      <td>10</td>\n      <td>0</td>\n      <td>1</td>\n      <td>0</td>\n      <td>1792</td>\n      <td>422.8</td>\n      <td>230.0</td>\n      <td>105.0</td>\n    </tr>\n    <tr>\n      <th>4</th>\n      <td>100</td>\n      <td>28</td>\n      <td>120</td>\n      <td>8</td>\n      <td>0</td>\n      <td>0</td>\n      <td>0</td>\n      <td>1400</td>\n      <td>385.5</td>\n      <td>276.5</td>\n      <td>128.4</td>\n    </tr>\n  </tbody>\n</table>\n</div>"
          },
          "metadata": {},
          "execution_count": 2
        }
      ]
    },
    {
      "cell_type": "markdown",
      "metadata": {
        "id": "ZAtlsi2eKenn"
      },
      "source": [
        "Exploratory data analysis"
      ]
    },
    {
      "cell_type": "code",
      "metadata": {
        "colab": {
          "base_uri": "https://localhost:8080/",
          "height": 1000
        },
        "id": "xkbPkPWsKTr0",
        "outputId": "70a4e035-5230-4c06-83fe-b558733edb4d"
      },
      "source": [
        "# pos = 1\n",
        "# for i in range(4):\n",
        "#   print(f'\\t{df2.columns[i].capitalize()} vs Response values')\n",
        "#   plt.figure()\n",
        "#   for j in range(8, 11):\n",
        "#     plt.subplot(1, 3, pos)\n",
        "#     plt.scatter(df2.iloc[:, i], df2.iloc[:, j])\n",
        "#     plt.ylabel(df2.columns[j])\n",
        "#     plt.xlabel(df2.columns[i])\n",
        "#     pos += 1\n",
        "#   plt.tight_layout()\n",
        "#   plt.show()\n",
        "#   print('\\n')\n",
        "#   pos = 1"
      ],
      "execution_count": 3,
      "outputs": []
    },
    {
      "cell_type": "markdown",
      "metadata": {
        "id": "BhrnuO7_MB2t"
      },
      "source": [
        "Generate the necessary variables for modeling"
      ]
    },
    {
      "cell_type": "code",
      "metadata": {
        "id": "u4vNOq2TL7bI"
      },
      "source": [
        "X1 = df2.iloc[:, :7]\n",
        "X = X1.to_numpy()\n",
        "y1 = df2.iloc[:, -4:]\n",
        "y = y1.to_numpy()"
      ],
      "execution_count": 4,
      "outputs": []
    },
    {
      "cell_type": "code",
      "execution_count": 5,
      "metadata": {},
      "outputs": [],
      "source": [
        "def MAD(y, y_pred):\n",
        "    '''Calculates the Mean Absolute Deviation of two arrays of numbers\n",
        "    Input: y(array), y_pred(array)\n",
        "    Output: float\n",
        "    '''\n",
        "    import numpy as np\n",
        "\n",
        "    return np.average(np.abs(y - y_pred))"
      ]
    },
    {
      "cell_type": "code",
      "execution_count": 6,
      "metadata": {},
      "outputs": [],
      "source": [
        "def MAPE(y, y_pred):\n",
        "    '''\n",
        "    Calculates the relationship between the average prediction error\n",
        "    and the average expected target error for several consecutive periods.\n",
        "\n",
        "    Input: y(array), y_pred(array)\n",
        "    Output: float\n",
        "    '''\n",
        "    import numpy as np\n",
        "\n",
        "    # Calculate prediction error\n",
        "    error = y - y_pred\n",
        "\n",
        "    return np.average((np.abs(error)/y) * 100)"
      ]
    },
    {
      "cell_type": "code",
      "execution_count": 7,
      "metadata": {},
      "outputs": [],
      "source": [
        "def TS(y, y_pred):\n",
        "    '''\n",
        "    This index is used to track the accuracy of the model\n",
        "\n",
        "    Input: y(array), y_pred(array)\n",
        "    Output: float\n",
        "    '''\n",
        "    import numpy as np\n",
        "\n",
        "    def MAD(y, y_pred):\n",
        "        '''Calculates the Mean Absolute Deviation of two arrays of numbers\n",
        "        Input: y(array), y_pred(array)\n",
        "        Output: float\n",
        "        '''\n",
        "        return np.average(np.abs(y - y_pred))\n",
        "\n",
        "    return np.sum(y - y_pred) / MAD(y, y_pred)"
      ]
    },
    {
      "cell_type": "markdown",
      "metadata": {
        "id": "ZTw51LdTTZoi"
      },
      "source": [
        "Predicting individual response separately to optimize prediction"
      ]
    },
    {
      "cell_type": "code",
      "metadata": {
        "colab": {
          "base_uri": "https://localhost:8080/"
        },
        "id": "Q5H8SCIsT54H",
        "outputId": "6089f4a2-fc71-4418-ac7b-5c7be77bd371"
      },
      "source": [
        "metrics = []\n",
        "for h in range(5, 35, 5):\n",
        "  for i in range(y.shape[1]):\n",
        "    metric = [y1.columns[i], int(h)]\n",
        "    cols = y[:, i]\n",
        "    X_train, X_test, y_train, y_test = train_test_split(X, cols,random_state=1, test_size=0.2)\n",
        "\n",
        "    tic = timeit.timeit() #Start timer\n",
        "    sc_X = StandardScaler()\n",
        "    X_trainscaled=sc_X.fit_transform(X_train)\n",
        "    X_testscaled=sc_X.transform(X_test)\n",
        "    reg = MLPRegressor(hidden_layer_sizes=(h,h,h),activation=\"relu\" ,random_state=1, max_iter=1000000).fit(X_trainscaled, y_train)\n",
        "    y_pred=reg.predict(X_testscaled)\n",
        "    toc = timeit.timeit() #Stop timer\n",
        "\n",
        "    # Display data\n",
        "    print(f'\\n{y1.columns[i]}: {int(h)} Nodes')\n",
        "    a = []\n",
        "    for j in range(len(y_test)):\n",
        "        a.append([y_test[j], y_pred[j]])\n",
        "    a_df = pd.DataFrame(a, columns=['Expected', 'Predicted'])\n",
        "    display(a_df)\n",
        "\n",
        "    # Calculate the necessary metrics\n",
        "    r2 = r2_score(y_pred, y_test)\n",
        "    mse = mean_squared_error(y_test, y_pred)\n",
        "    rmse = np.sqrt(mse)\n",
        "    mad = MAD(y_test, y_pred)\n",
        "    mape = MAPE(y_test, y_pred)\n",
        "    ts = TS(y_test, y_pred)\n",
        "    time = abs(toc - tic) * 100\n",
        "\n",
        "    metric.extend([r2, mse, rmse, mad, mape, ts, time])   # Update metric\n",
        "    metrics.append(metric)  # Undate metrics\n",
        "\n",
        "metrics_df = pd.DataFrame(metrics, columns=['Variable', 'Nodes', 'R2', 'MSE', 'RMSE', 'MAD', 'MAPE', 'TS', 'Time'])\n",
        "\n",
        "display(metrics_df)\n",
        "\n",
        "    # print(f'R^2 for Response variable, {y1.columns[i].capitalize()}: {(r2_score(y_pred, y_test))}')\n",
        "    # print(f'Expected value: {y_test}')\n",
        "    # print(f'Predicted value: {y_pred}')"
      ],
      "execution_count": 9,
      "outputs": [
        {
          "output_type": "stream",
          "name": "stdout",
          "text": [
            "\nheat_input: 5 Nodes\n"
          ]
        },
        {
          "output_type": "display_data",
          "data": {
            "text/plain": "   Expected    Predicted\n0    1120.0  1026.489718\n1    1280.0  1407.273805\n2     960.0  1207.824686\n3    1792.0  1847.501715\n4    1024.0  1247.757103\n5    2048.0  2177.306745\n6     936.0   944.801452\n7     768.0   944.204556",
            "text/html": "<div>\n<style scoped>\n    .dataframe tbody tr th:only-of-type {\n        vertical-align: middle;\n    }\n\n    .dataframe tbody tr th {\n        vertical-align: top;\n    }\n\n    .dataframe thead th {\n        text-align: right;\n    }\n</style>\n<table border=\"1\" class=\"dataframe\">\n  <thead>\n    <tr style=\"text-align: right;\">\n      <th></th>\n      <th>Expected</th>\n      <th>Predicted</th>\n    </tr>\n  </thead>\n  <tbody>\n    <tr>\n      <th>0</th>\n      <td>1120.0</td>\n      <td>1026.489718</td>\n    </tr>\n    <tr>\n      <th>1</th>\n      <td>1280.0</td>\n      <td>1407.273805</td>\n    </tr>\n    <tr>\n      <th>2</th>\n      <td>960.0</td>\n      <td>1207.824686</td>\n    </tr>\n    <tr>\n      <th>3</th>\n      <td>1792.0</td>\n      <td>1847.501715</td>\n    </tr>\n    <tr>\n      <th>4</th>\n      <td>1024.0</td>\n      <td>1247.757103</td>\n    </tr>\n    <tr>\n      <th>5</th>\n      <td>2048.0</td>\n      <td>2177.306745</td>\n    </tr>\n    <tr>\n      <th>6</th>\n      <td>936.0</td>\n      <td>944.801452</td>\n    </tr>\n    <tr>\n      <th>7</th>\n      <td>768.0</td>\n      <td>944.204556</td>\n    </tr>\n  </tbody>\n</table>\n</div>"
          },
          "metadata": {}
        },
        {
          "output_type": "stream",
          "name": "stdout",
          "text": [
            "\ntensile_strength: 5 Nodes\n"
          ]
        },
        {
          "output_type": "display_data",
          "data": {
            "text/plain": "   Expected   Predicted\n0     312.8  341.097190\n1     442.6  341.921266\n2     396.5  450.176518\n3     422.8  342.852705\n4     280.2  350.289602\n5     304.2  219.013997\n6     394.6  337.176520\n7     378.5  337.902514",
            "text/html": "<div>\n<style scoped>\n    .dataframe tbody tr th:only-of-type {\n        vertical-align: middle;\n    }\n\n    .dataframe tbody tr th {\n        vertical-align: top;\n    }\n\n    .dataframe thead th {\n        text-align: right;\n    }\n</style>\n<table border=\"1\" class=\"dataframe\">\n  <thead>\n    <tr style=\"text-align: right;\">\n      <th></th>\n      <th>Expected</th>\n      <th>Predicted</th>\n    </tr>\n  </thead>\n  <tbody>\n    <tr>\n      <th>0</th>\n      <td>312.8</td>\n      <td>341.097190</td>\n    </tr>\n    <tr>\n      <th>1</th>\n      <td>442.6</td>\n      <td>341.921266</td>\n    </tr>\n    <tr>\n      <th>2</th>\n      <td>396.5</td>\n      <td>450.176518</td>\n    </tr>\n    <tr>\n      <th>3</th>\n      <td>422.8</td>\n      <td>342.852705</td>\n    </tr>\n    <tr>\n      <th>4</th>\n      <td>280.2</td>\n      <td>350.289602</td>\n    </tr>\n    <tr>\n      <th>5</th>\n      <td>304.2</td>\n      <td>219.013997</td>\n    </tr>\n    <tr>\n      <th>6</th>\n      <td>394.6</td>\n      <td>337.176520</td>\n    </tr>\n    <tr>\n      <th>7</th>\n      <td>378.5</td>\n      <td>337.902514</td>\n    </tr>\n  </tbody>\n</table>\n</div>"
          },
          "metadata": {}
        },
        {
          "output_type": "stream",
          "name": "stdout",
          "text": [
            "\nflexural_strength: 5 Nodes\n"
          ]
        },
        {
          "output_type": "display_data",
          "data": {
            "text/plain": "   Expected   Predicted\n0     218.4  203.508619\n1     238.4  196.992050\n2     336.8  422.719301\n3     230.0  317.950048\n4     196.0  253.300157\n5     260.0  234.998458\n6     345.0  305.275978\n7     394.4  301.691560",
            "text/html": "<div>\n<style scoped>\n    .dataframe tbody tr th:only-of-type {\n        vertical-align: middle;\n    }\n\n    .dataframe tbody tr th {\n        vertical-align: top;\n    }\n\n    .dataframe thead th {\n        text-align: right;\n    }\n</style>\n<table border=\"1\" class=\"dataframe\">\n  <thead>\n    <tr style=\"text-align: right;\">\n      <th></th>\n      <th>Expected</th>\n      <th>Predicted</th>\n    </tr>\n  </thead>\n  <tbody>\n    <tr>\n      <th>0</th>\n      <td>218.4</td>\n      <td>203.508619</td>\n    </tr>\n    <tr>\n      <th>1</th>\n      <td>238.4</td>\n      <td>196.992050</td>\n    </tr>\n    <tr>\n      <th>2</th>\n      <td>336.8</td>\n      <td>422.719301</td>\n    </tr>\n    <tr>\n      <th>3</th>\n      <td>230.0</td>\n      <td>317.950048</td>\n    </tr>\n    <tr>\n      <th>4</th>\n      <td>196.0</td>\n      <td>253.300157</td>\n    </tr>\n    <tr>\n      <th>5</th>\n      <td>260.0</td>\n      <td>234.998458</td>\n    </tr>\n    <tr>\n      <th>6</th>\n      <td>345.0</td>\n      <td>305.275978</td>\n    </tr>\n    <tr>\n      <th>7</th>\n      <td>394.4</td>\n      <td>301.691560</td>\n    </tr>\n  </tbody>\n</table>\n</div>"
          },
          "metadata": {}
        },
        {
          "output_type": "stream",
          "name": "stdout",
          "text": [
            "\nhardness_value: 5 Nodes\n"
          ]
        },
        {
          "output_type": "display_data",
          "data": {
            "text/plain": "   Expected   Predicted\n0     132.5  121.672793\n1     116.2  158.338517\n2      90.6  113.175493\n3     105.0   85.691807\n4     142.2  115.789793\n5     110.0   91.760610\n6      80.5  106.707566\n7      65.0   75.104958",
            "text/html": "<div>\n<style scoped>\n    .dataframe tbody tr th:only-of-type {\n        vertical-align: middle;\n    }\n\n    .dataframe tbody tr th {\n        vertical-align: top;\n    }\n\n    .dataframe thead th {\n        text-align: right;\n    }\n</style>\n<table border=\"1\" class=\"dataframe\">\n  <thead>\n    <tr style=\"text-align: right;\">\n      <th></th>\n      <th>Expected</th>\n      <th>Predicted</th>\n    </tr>\n  </thead>\n  <tbody>\n    <tr>\n      <th>0</th>\n      <td>132.5</td>\n      <td>121.672793</td>\n    </tr>\n    <tr>\n      <th>1</th>\n      <td>116.2</td>\n      <td>158.338517</td>\n    </tr>\n    <tr>\n      <th>2</th>\n      <td>90.6</td>\n      <td>113.175493</td>\n    </tr>\n    <tr>\n      <th>3</th>\n      <td>105.0</td>\n      <td>85.691807</td>\n    </tr>\n    <tr>\n      <th>4</th>\n      <td>142.2</td>\n      <td>115.789793</td>\n    </tr>\n    <tr>\n      <th>5</th>\n      <td>110.0</td>\n      <td>91.760610</td>\n    </tr>\n    <tr>\n      <th>6</th>\n      <td>80.5</td>\n      <td>106.707566</td>\n    </tr>\n    <tr>\n      <th>7</th>\n      <td>65.0</td>\n      <td>75.104958</td>\n    </tr>\n  </tbody>\n</table>\n</div>"
          },
          "metadata": {}
        },
        {
          "output_type": "stream",
          "name": "stdout",
          "text": [
            "\nheat_input: 10 Nodes\n"
          ]
        },
        {
          "output_type": "display_data",
          "data": {
            "text/plain": "   Expected    Predicted\n0    1120.0  1070.643490\n1    1280.0  1358.023654\n2     960.0  1021.057170\n3    1792.0  1779.965020\n4    1024.0   996.302365\n5    2048.0  2051.513192\n6     936.0   811.488974\n7     768.0   690.297934",
            "text/html": "<div>\n<style scoped>\n    .dataframe tbody tr th:only-of-type {\n        vertical-align: middle;\n    }\n\n    .dataframe tbody tr th {\n        vertical-align: top;\n    }\n\n    .dataframe thead th {\n        text-align: right;\n    }\n</style>\n<table border=\"1\" class=\"dataframe\">\n  <thead>\n    <tr style=\"text-align: right;\">\n      <th></th>\n      <th>Expected</th>\n      <th>Predicted</th>\n    </tr>\n  </thead>\n  <tbody>\n    <tr>\n      <th>0</th>\n      <td>1120.0</td>\n      <td>1070.643490</td>\n    </tr>\n    <tr>\n      <th>1</th>\n      <td>1280.0</td>\n      <td>1358.023654</td>\n    </tr>\n    <tr>\n      <th>2</th>\n      <td>960.0</td>\n      <td>1021.057170</td>\n    </tr>\n    <tr>\n      <th>3</th>\n      <td>1792.0</td>\n      <td>1779.965020</td>\n    </tr>\n    <tr>\n      <th>4</th>\n      <td>1024.0</td>\n      <td>996.302365</td>\n    </tr>\n    <tr>\n      <th>5</th>\n      <td>2048.0</td>\n      <td>2051.513192</td>\n    </tr>\n    <tr>\n      <th>6</th>\n      <td>936.0</td>\n      <td>811.488974</td>\n    </tr>\n    <tr>\n      <th>7</th>\n      <td>768.0</td>\n      <td>690.297934</td>\n    </tr>\n  </tbody>\n</table>\n</div>"
          },
          "metadata": {}
        },
        {
          "output_type": "stream",
          "name": "stdout",
          "text": [
            "\ntensile_strength: 10 Nodes\n"
          ]
        },
        {
          "output_type": "display_data",
          "data": {
            "text/plain": "   Expected   Predicted\n0     312.8  322.543970\n1     442.6  401.571062\n2     396.5  338.421039\n3     422.8  411.441676\n4     280.2  321.472370\n5     304.2  246.966918\n6     394.6  413.626449\n7     378.5  436.373777",
            "text/html": "<div>\n<style scoped>\n    .dataframe tbody tr th:only-of-type {\n        vertical-align: middle;\n    }\n\n    .dataframe tbody tr th {\n        vertical-align: top;\n    }\n\n    .dataframe thead th {\n        text-align: right;\n    }\n</style>\n<table border=\"1\" class=\"dataframe\">\n  <thead>\n    <tr style=\"text-align: right;\">\n      <th></th>\n      <th>Expected</th>\n      <th>Predicted</th>\n    </tr>\n  </thead>\n  <tbody>\n    <tr>\n      <th>0</th>\n      <td>312.8</td>\n      <td>322.543970</td>\n    </tr>\n    <tr>\n      <th>1</th>\n      <td>442.6</td>\n      <td>401.571062</td>\n    </tr>\n    <tr>\n      <th>2</th>\n      <td>396.5</td>\n      <td>338.421039</td>\n    </tr>\n    <tr>\n      <th>3</th>\n      <td>422.8</td>\n      <td>411.441676</td>\n    </tr>\n    <tr>\n      <th>4</th>\n      <td>280.2</td>\n      <td>321.472370</td>\n    </tr>\n    <tr>\n      <th>5</th>\n      <td>304.2</td>\n      <td>246.966918</td>\n    </tr>\n    <tr>\n      <th>6</th>\n      <td>394.6</td>\n      <td>413.626449</td>\n    </tr>\n    <tr>\n      <th>7</th>\n      <td>378.5</td>\n      <td>436.373777</td>\n    </tr>\n  </tbody>\n</table>\n</div>"
          },
          "metadata": {}
        },
        {
          "output_type": "stream",
          "name": "stdout",
          "text": [
            "\nflexural_strength: 10 Nodes\n"
          ]
        },
        {
          "output_type": "display_data",
          "data": {
            "text/plain": "   Expected   Predicted\n0     218.4  178.134586\n1     238.4  259.430693\n2     336.8  360.005343\n3     230.0  293.918197\n4     196.0  188.068173\n5     260.0  177.728034\n6     345.0  340.081538\n7     394.4  362.189800",
            "text/html": "<div>\n<style scoped>\n    .dataframe tbody tr th:only-of-type {\n        vertical-align: middle;\n    }\n\n    .dataframe tbody tr th {\n        vertical-align: top;\n    }\n\n    .dataframe thead th {\n        text-align: right;\n    }\n</style>\n<table border=\"1\" class=\"dataframe\">\n  <thead>\n    <tr style=\"text-align: right;\">\n      <th></th>\n      <th>Expected</th>\n      <th>Predicted</th>\n    </tr>\n  </thead>\n  <tbody>\n    <tr>\n      <th>0</th>\n      <td>218.4</td>\n      <td>178.134586</td>\n    </tr>\n    <tr>\n      <th>1</th>\n      <td>238.4</td>\n      <td>259.430693</td>\n    </tr>\n    <tr>\n      <th>2</th>\n      <td>336.8</td>\n      <td>360.005343</td>\n    </tr>\n    <tr>\n      <th>3</th>\n      <td>230.0</td>\n      <td>293.918197</td>\n    </tr>\n    <tr>\n      <th>4</th>\n      <td>196.0</td>\n      <td>188.068173</td>\n    </tr>\n    <tr>\n      <th>5</th>\n      <td>260.0</td>\n      <td>177.728034</td>\n    </tr>\n    <tr>\n      <th>6</th>\n      <td>345.0</td>\n      <td>340.081538</td>\n    </tr>\n    <tr>\n      <th>7</th>\n      <td>394.4</td>\n      <td>362.189800</td>\n    </tr>\n  </tbody>\n</table>\n</div>"
          },
          "metadata": {}
        },
        {
          "output_type": "stream",
          "name": "stdout",
          "text": [
            "\nhardness_value: 10 Nodes\n"
          ]
        },
        {
          "output_type": "display_data",
          "data": {
            "text/plain": "   Expected   Predicted\n0     132.5  114.752927\n1     116.2  179.924595\n2      90.6  102.664600\n3     105.0   75.513588\n4     142.2   88.415168\n5     110.0  100.079003\n6      80.5   89.716907\n7      65.0   90.960767",
            "text/html": "<div>\n<style scoped>\n    .dataframe tbody tr th:only-of-type {\n        vertical-align: middle;\n    }\n\n    .dataframe tbody tr th {\n        vertical-align: top;\n    }\n\n    .dataframe thead th {\n        text-align: right;\n    }\n</style>\n<table border=\"1\" class=\"dataframe\">\n  <thead>\n    <tr style=\"text-align: right;\">\n      <th></th>\n      <th>Expected</th>\n      <th>Predicted</th>\n    </tr>\n  </thead>\n  <tbody>\n    <tr>\n      <th>0</th>\n      <td>132.5</td>\n      <td>114.752927</td>\n    </tr>\n    <tr>\n      <th>1</th>\n      <td>116.2</td>\n      <td>179.924595</td>\n    </tr>\n    <tr>\n      <th>2</th>\n      <td>90.6</td>\n      <td>102.664600</td>\n    </tr>\n    <tr>\n      <th>3</th>\n      <td>105.0</td>\n      <td>75.513588</td>\n    </tr>\n    <tr>\n      <th>4</th>\n      <td>142.2</td>\n      <td>88.415168</td>\n    </tr>\n    <tr>\n      <th>5</th>\n      <td>110.0</td>\n      <td>100.079003</td>\n    </tr>\n    <tr>\n      <th>6</th>\n      <td>80.5</td>\n      <td>89.716907</td>\n    </tr>\n    <tr>\n      <th>7</th>\n      <td>65.0</td>\n      <td>90.960767</td>\n    </tr>\n  </tbody>\n</table>\n</div>"
          },
          "metadata": {}
        },
        {
          "output_type": "stream",
          "name": "stdout",
          "text": [
            "\nheat_input: 15 Nodes\n"
          ]
        },
        {
          "output_type": "display_data",
          "data": {
            "text/plain": "   Expected    Predicted\n0    1120.0  1054.179427\n1    1280.0  1336.618771\n2     960.0  1128.514659\n3    1792.0  1900.391062\n4    1024.0  1079.809356\n5    2048.0  1858.180529\n6     936.0   907.636130\n7     768.0   622.482984",
            "text/html": "<div>\n<style scoped>\n    .dataframe tbody tr th:only-of-type {\n        vertical-align: middle;\n    }\n\n    .dataframe tbody tr th {\n        vertical-align: top;\n    }\n\n    .dataframe thead th {\n        text-align: right;\n    }\n</style>\n<table border=\"1\" class=\"dataframe\">\n  <thead>\n    <tr style=\"text-align: right;\">\n      <th></th>\n      <th>Expected</th>\n      <th>Predicted</th>\n    </tr>\n  </thead>\n  <tbody>\n    <tr>\n      <th>0</th>\n      <td>1120.0</td>\n      <td>1054.179427</td>\n    </tr>\n    <tr>\n      <th>1</th>\n      <td>1280.0</td>\n      <td>1336.618771</td>\n    </tr>\n    <tr>\n      <th>2</th>\n      <td>960.0</td>\n      <td>1128.514659</td>\n    </tr>\n    <tr>\n      <th>3</th>\n      <td>1792.0</td>\n      <td>1900.391062</td>\n    </tr>\n    <tr>\n      <th>4</th>\n      <td>1024.0</td>\n      <td>1079.809356</td>\n    </tr>\n    <tr>\n      <th>5</th>\n      <td>2048.0</td>\n      <td>1858.180529</td>\n    </tr>\n    <tr>\n      <th>6</th>\n      <td>936.0</td>\n      <td>907.636130</td>\n    </tr>\n    <tr>\n      <th>7</th>\n      <td>768.0</td>\n      <td>622.482984</td>\n    </tr>\n  </tbody>\n</table>\n</div>"
          },
          "metadata": {}
        },
        {
          "output_type": "stream",
          "name": "stdout",
          "text": [
            "\ntensile_strength: 15 Nodes\n"
          ]
        },
        {
          "output_type": "display_data",
          "data": {
            "text/plain": "   Expected   Predicted\n0     312.8  315.717201\n1     442.6  355.641746\n2     396.5  481.231666\n3     422.8  261.664802\n4     280.2  312.422501\n5     304.2  268.328641\n6     394.6  319.034115\n7     378.5  316.574957",
            "text/html": "<div>\n<style scoped>\n    .dataframe tbody tr th:only-of-type {\n        vertical-align: middle;\n    }\n\n    .dataframe tbody tr th {\n        vertical-align: top;\n    }\n\n    .dataframe thead th {\n        text-align: right;\n    }\n</style>\n<table border=\"1\" class=\"dataframe\">\n  <thead>\n    <tr style=\"text-align: right;\">\n      <th></th>\n      <th>Expected</th>\n      <th>Predicted</th>\n    </tr>\n  </thead>\n  <tbody>\n    <tr>\n      <th>0</th>\n      <td>312.8</td>\n      <td>315.717201</td>\n    </tr>\n    <tr>\n      <th>1</th>\n      <td>442.6</td>\n      <td>355.641746</td>\n    </tr>\n    <tr>\n      <th>2</th>\n      <td>396.5</td>\n      <td>481.231666</td>\n    </tr>\n    <tr>\n      <th>3</th>\n      <td>422.8</td>\n      <td>261.664802</td>\n    </tr>\n    <tr>\n      <th>4</th>\n      <td>280.2</td>\n      <td>312.422501</td>\n    </tr>\n    <tr>\n      <th>5</th>\n      <td>304.2</td>\n      <td>268.328641</td>\n    </tr>\n    <tr>\n      <th>6</th>\n      <td>394.6</td>\n      <td>319.034115</td>\n    </tr>\n    <tr>\n      <th>7</th>\n      <td>378.5</td>\n      <td>316.574957</td>\n    </tr>\n  </tbody>\n</table>\n</div>"
          },
          "metadata": {}
        },
        {
          "output_type": "stream",
          "name": "stdout",
          "text": [
            "\nflexural_strength: 15 Nodes\n"
          ]
        },
        {
          "output_type": "display_data",
          "data": {
            "text/plain": "   Expected   Predicted\n0     218.4  173.895509\n1     238.4  227.824185\n2     336.8  394.339118\n3     230.0  189.170781\n4     196.0  225.561391\n5     260.0  212.809086\n6     345.0  261.539634\n7     394.4  346.466091",
            "text/html": "<div>\n<style scoped>\n    .dataframe tbody tr th:only-of-type {\n        vertical-align: middle;\n    }\n\n    .dataframe tbody tr th {\n        vertical-align: top;\n    }\n\n    .dataframe thead th {\n        text-align: right;\n    }\n</style>\n<table border=\"1\" class=\"dataframe\">\n  <thead>\n    <tr style=\"text-align: right;\">\n      <th></th>\n      <th>Expected</th>\n      <th>Predicted</th>\n    </tr>\n  </thead>\n  <tbody>\n    <tr>\n      <th>0</th>\n      <td>218.4</td>\n      <td>173.895509</td>\n    </tr>\n    <tr>\n      <th>1</th>\n      <td>238.4</td>\n      <td>227.824185</td>\n    </tr>\n    <tr>\n      <th>2</th>\n      <td>336.8</td>\n      <td>394.339118</td>\n    </tr>\n    <tr>\n      <th>3</th>\n      <td>230.0</td>\n      <td>189.170781</td>\n    </tr>\n    <tr>\n      <th>4</th>\n      <td>196.0</td>\n      <td>225.561391</td>\n    </tr>\n    <tr>\n      <th>5</th>\n      <td>260.0</td>\n      <td>212.809086</td>\n    </tr>\n    <tr>\n      <th>6</th>\n      <td>345.0</td>\n      <td>261.539634</td>\n    </tr>\n    <tr>\n      <th>7</th>\n      <td>394.4</td>\n      <td>346.466091</td>\n    </tr>\n  </tbody>\n</table>\n</div>"
          },
          "metadata": {}
        },
        {
          "output_type": "stream",
          "name": "stdout",
          "text": [
            "\nhardness_value: 15 Nodes\n"
          ]
        },
        {
          "output_type": "display_data",
          "data": {
            "text/plain": "   Expected   Predicted\n0     132.5  110.668924\n1     116.2  152.746473\n2      90.6  122.288845\n3     105.0   71.346744\n4     142.2  124.292034\n5     110.0   94.014925\n6      80.5   86.957894\n7      65.0   69.486238",
            "text/html": "<div>\n<style scoped>\n    .dataframe tbody tr th:only-of-type {\n        vertical-align: middle;\n    }\n\n    .dataframe tbody tr th {\n        vertical-align: top;\n    }\n\n    .dataframe thead th {\n        text-align: right;\n    }\n</style>\n<table border=\"1\" class=\"dataframe\">\n  <thead>\n    <tr style=\"text-align: right;\">\n      <th></th>\n      <th>Expected</th>\n      <th>Predicted</th>\n    </tr>\n  </thead>\n  <tbody>\n    <tr>\n      <th>0</th>\n      <td>132.5</td>\n      <td>110.668924</td>\n    </tr>\n    <tr>\n      <th>1</th>\n      <td>116.2</td>\n      <td>152.746473</td>\n    </tr>\n    <tr>\n      <th>2</th>\n      <td>90.6</td>\n      <td>122.288845</td>\n    </tr>\n    <tr>\n      <th>3</th>\n      <td>105.0</td>\n      <td>71.346744</td>\n    </tr>\n    <tr>\n      <th>4</th>\n      <td>142.2</td>\n      <td>124.292034</td>\n    </tr>\n    <tr>\n      <th>5</th>\n      <td>110.0</td>\n      <td>94.014925</td>\n    </tr>\n    <tr>\n      <th>6</th>\n      <td>80.5</td>\n      <td>86.957894</td>\n    </tr>\n    <tr>\n      <th>7</th>\n      <td>65.0</td>\n      <td>69.486238</td>\n    </tr>\n  </tbody>\n</table>\n</div>"
          },
          "metadata": {}
        },
        {
          "output_type": "stream",
          "name": "stdout",
          "text": [
            "\nheat_input: 20 Nodes\n"
          ]
        },
        {
          "output_type": "display_data",
          "data": {
            "text/plain": "   Expected    Predicted\n0    1120.0   998.906069\n1    1280.0  1437.431972\n2     960.0  1272.061138\n3    1792.0  2038.065500\n4    1024.0   977.356941\n5    2048.0  2057.984953\n6     936.0  1035.706952\n7     768.0   557.828785",
            "text/html": "<div>\n<style scoped>\n    .dataframe tbody tr th:only-of-type {\n        vertical-align: middle;\n    }\n\n    .dataframe tbody tr th {\n        vertical-align: top;\n    }\n\n    .dataframe thead th {\n        text-align: right;\n    }\n</style>\n<table border=\"1\" class=\"dataframe\">\n  <thead>\n    <tr style=\"text-align: right;\">\n      <th></th>\n      <th>Expected</th>\n      <th>Predicted</th>\n    </tr>\n  </thead>\n  <tbody>\n    <tr>\n      <th>0</th>\n      <td>1120.0</td>\n      <td>998.906069</td>\n    </tr>\n    <tr>\n      <th>1</th>\n      <td>1280.0</td>\n      <td>1437.431972</td>\n    </tr>\n    <tr>\n      <th>2</th>\n      <td>960.0</td>\n      <td>1272.061138</td>\n    </tr>\n    <tr>\n      <th>3</th>\n      <td>1792.0</td>\n      <td>2038.065500</td>\n    </tr>\n    <tr>\n      <th>4</th>\n      <td>1024.0</td>\n      <td>977.356941</td>\n    </tr>\n    <tr>\n      <th>5</th>\n      <td>2048.0</td>\n      <td>2057.984953</td>\n    </tr>\n    <tr>\n      <th>6</th>\n      <td>936.0</td>\n      <td>1035.706952</td>\n    </tr>\n    <tr>\n      <th>7</th>\n      <td>768.0</td>\n      <td>557.828785</td>\n    </tr>\n  </tbody>\n</table>\n</div>"
          },
          "metadata": {}
        },
        {
          "output_type": "stream",
          "name": "stdout",
          "text": [
            "\ntensile_strength: 20 Nodes\n"
          ]
        },
        {
          "output_type": "display_data",
          "data": {
            "text/plain": "   Expected   Predicted\n0     312.8  330.233319\n1     442.6  396.312337\n2     396.5  459.858142\n3     422.8  423.371980\n4     280.2  273.288342\n5     304.2  257.706863\n6     394.6  398.367803\n7     378.5  341.703435",
            "text/html": "<div>\n<style scoped>\n    .dataframe tbody tr th:only-of-type {\n        vertical-align: middle;\n    }\n\n    .dataframe tbody tr th {\n        vertical-align: top;\n    }\n\n    .dataframe thead th {\n        text-align: right;\n    }\n</style>\n<table border=\"1\" class=\"dataframe\">\n  <thead>\n    <tr style=\"text-align: right;\">\n      <th></th>\n      <th>Expected</th>\n      <th>Predicted</th>\n    </tr>\n  </thead>\n  <tbody>\n    <tr>\n      <th>0</th>\n      <td>312.8</td>\n      <td>330.233319</td>\n    </tr>\n    <tr>\n      <th>1</th>\n      <td>442.6</td>\n      <td>396.312337</td>\n    </tr>\n    <tr>\n      <th>2</th>\n      <td>396.5</td>\n      <td>459.858142</td>\n    </tr>\n    <tr>\n      <th>3</th>\n      <td>422.8</td>\n      <td>423.371980</td>\n    </tr>\n    <tr>\n      <th>4</th>\n      <td>280.2</td>\n      <td>273.288342</td>\n    </tr>\n    <tr>\n      <th>5</th>\n      <td>304.2</td>\n      <td>257.706863</td>\n    </tr>\n    <tr>\n      <th>6</th>\n      <td>394.6</td>\n      <td>398.367803</td>\n    </tr>\n    <tr>\n      <th>7</th>\n      <td>378.5</td>\n      <td>341.703435</td>\n    </tr>\n  </tbody>\n</table>\n</div>"
          },
          "metadata": {}
        },
        {
          "output_type": "stream",
          "name": "stdout",
          "text": [
            "\nflexural_strength: 20 Nodes\n"
          ]
        },
        {
          "output_type": "display_data",
          "data": {
            "text/plain": "   Expected   Predicted\n0     218.4  182.066817\n1     238.4  259.738723\n2     336.8  398.925955\n3     230.0  319.992672\n4     196.0  219.586916\n5     260.0  222.994799\n6     345.0  330.072452\n7     394.4  341.755597",
            "text/html": "<div>\n<style scoped>\n    .dataframe tbody tr th:only-of-type {\n        vertical-align: middle;\n    }\n\n    .dataframe tbody tr th {\n        vertical-align: top;\n    }\n\n    .dataframe thead th {\n        text-align: right;\n    }\n</style>\n<table border=\"1\" class=\"dataframe\">\n  <thead>\n    <tr style=\"text-align: right;\">\n      <th></th>\n      <th>Expected</th>\n      <th>Predicted</th>\n    </tr>\n  </thead>\n  <tbody>\n    <tr>\n      <th>0</th>\n      <td>218.4</td>\n      <td>182.066817</td>\n    </tr>\n    <tr>\n      <th>1</th>\n      <td>238.4</td>\n      <td>259.738723</td>\n    </tr>\n    <tr>\n      <th>2</th>\n      <td>336.8</td>\n      <td>398.925955</td>\n    </tr>\n    <tr>\n      <th>3</th>\n      <td>230.0</td>\n      <td>319.992672</td>\n    </tr>\n    <tr>\n      <th>4</th>\n      <td>196.0</td>\n      <td>219.586916</td>\n    </tr>\n    <tr>\n      <th>5</th>\n      <td>260.0</td>\n      <td>222.994799</td>\n    </tr>\n    <tr>\n      <th>6</th>\n      <td>345.0</td>\n      <td>330.072452</td>\n    </tr>\n    <tr>\n      <th>7</th>\n      <td>394.4</td>\n      <td>341.755597</td>\n    </tr>\n  </tbody>\n</table>\n</div>"
          },
          "metadata": {}
        },
        {
          "output_type": "stream",
          "name": "stdout",
          "text": [
            "\nhardness_value: 20 Nodes\n"
          ]
        },
        {
          "output_type": "display_data",
          "data": {
            "text/plain": "   Expected   Predicted\n0     132.5  117.775474\n1     116.2  164.347814\n2      90.6  124.270804\n3     105.0  101.773265\n4     142.2  119.596551\n5     110.0   87.391175\n6      80.5  117.578012\n7      65.0   61.609145",
            "text/html": "<div>\n<style scoped>\n    .dataframe tbody tr th:only-of-type {\n        vertical-align: middle;\n    }\n\n    .dataframe tbody tr th {\n        vertical-align: top;\n    }\n\n    .dataframe thead th {\n        text-align: right;\n    }\n</style>\n<table border=\"1\" class=\"dataframe\">\n  <thead>\n    <tr style=\"text-align: right;\">\n      <th></th>\n      <th>Expected</th>\n      <th>Predicted</th>\n    </tr>\n  </thead>\n  <tbody>\n    <tr>\n      <th>0</th>\n      <td>132.5</td>\n      <td>117.775474</td>\n    </tr>\n    <tr>\n      <th>1</th>\n      <td>116.2</td>\n      <td>164.347814</td>\n    </tr>\n    <tr>\n      <th>2</th>\n      <td>90.6</td>\n      <td>124.270804</td>\n    </tr>\n    <tr>\n      <th>3</th>\n      <td>105.0</td>\n      <td>101.773265</td>\n    </tr>\n    <tr>\n      <th>4</th>\n      <td>142.2</td>\n      <td>119.596551</td>\n    </tr>\n    <tr>\n      <th>5</th>\n      <td>110.0</td>\n      <td>87.391175</td>\n    </tr>\n    <tr>\n      <th>6</th>\n      <td>80.5</td>\n      <td>117.578012</td>\n    </tr>\n    <tr>\n      <th>7</th>\n      <td>65.0</td>\n      <td>61.609145</td>\n    </tr>\n  </tbody>\n</table>\n</div>"
          },
          "metadata": {}
        },
        {
          "output_type": "stream",
          "name": "stdout",
          "text": [
            "\nheat_input: 25 Nodes\n"
          ]
        },
        {
          "output_type": "display_data",
          "data": {
            "text/plain": "   Expected    Predicted\n0    1120.0  1065.468416\n1    1280.0  1275.929167\n2     960.0  1011.609061\n3    1792.0  1711.676768\n4    1024.0  1162.350803\n5    2048.0  2124.438285\n6     936.0   891.012015\n7     768.0   776.462496",
            "text/html": "<div>\n<style scoped>\n    .dataframe tbody tr th:only-of-type {\n        vertical-align: middle;\n    }\n\n    .dataframe tbody tr th {\n        vertical-align: top;\n    }\n\n    .dataframe thead th {\n        text-align: right;\n    }\n</style>\n<table border=\"1\" class=\"dataframe\">\n  <thead>\n    <tr style=\"text-align: right;\">\n      <th></th>\n      <th>Expected</th>\n      <th>Predicted</th>\n    </tr>\n  </thead>\n  <tbody>\n    <tr>\n      <th>0</th>\n      <td>1120.0</td>\n      <td>1065.468416</td>\n    </tr>\n    <tr>\n      <th>1</th>\n      <td>1280.0</td>\n      <td>1275.929167</td>\n    </tr>\n    <tr>\n      <th>2</th>\n      <td>960.0</td>\n      <td>1011.609061</td>\n    </tr>\n    <tr>\n      <th>3</th>\n      <td>1792.0</td>\n      <td>1711.676768</td>\n    </tr>\n    <tr>\n      <th>4</th>\n      <td>1024.0</td>\n      <td>1162.350803</td>\n    </tr>\n    <tr>\n      <th>5</th>\n      <td>2048.0</td>\n      <td>2124.438285</td>\n    </tr>\n    <tr>\n      <th>6</th>\n      <td>936.0</td>\n      <td>891.012015</td>\n    </tr>\n    <tr>\n      <th>7</th>\n      <td>768.0</td>\n      <td>776.462496</td>\n    </tr>\n  </tbody>\n</table>\n</div>"
          },
          "metadata": {}
        },
        {
          "output_type": "stream",
          "name": "stdout",
          "text": [
            "\ntensile_strength: 25 Nodes\n"
          ]
        },
        {
          "output_type": "display_data",
          "data": {
            "text/plain": "   Expected   Predicted\n0     312.8  376.729756\n1     442.6  397.269991\n2     396.5  486.331171\n3     422.8  323.388378\n4     280.2  305.404130\n5     304.2  297.466164\n6     394.6  363.668268\n7     378.5  332.264588",
            "text/html": "<div>\n<style scoped>\n    .dataframe tbody tr th:only-of-type {\n        vertical-align: middle;\n    }\n\n    .dataframe tbody tr th {\n        vertical-align: top;\n    }\n\n    .dataframe thead th {\n        text-align: right;\n    }\n</style>\n<table border=\"1\" class=\"dataframe\">\n  <thead>\n    <tr style=\"text-align: right;\">\n      <th></th>\n      <th>Expected</th>\n      <th>Predicted</th>\n    </tr>\n  </thead>\n  <tbody>\n    <tr>\n      <th>0</th>\n      <td>312.8</td>\n      <td>376.729756</td>\n    </tr>\n    <tr>\n      <th>1</th>\n      <td>442.6</td>\n      <td>397.269991</td>\n    </tr>\n    <tr>\n      <th>2</th>\n      <td>396.5</td>\n      <td>486.331171</td>\n    </tr>\n    <tr>\n      <th>3</th>\n      <td>422.8</td>\n      <td>323.388378</td>\n    </tr>\n    <tr>\n      <th>4</th>\n      <td>280.2</td>\n      <td>305.404130</td>\n    </tr>\n    <tr>\n      <th>5</th>\n      <td>304.2</td>\n      <td>297.466164</td>\n    </tr>\n    <tr>\n      <th>6</th>\n      <td>394.6</td>\n      <td>363.668268</td>\n    </tr>\n    <tr>\n      <th>7</th>\n      <td>378.5</td>\n      <td>332.264588</td>\n    </tr>\n  </tbody>\n</table>\n</div>"
          },
          "metadata": {}
        },
        {
          "output_type": "stream",
          "name": "stdout",
          "text": [
            "\nflexural_strength: 25 Nodes\n"
          ]
        },
        {
          "output_type": "display_data",
          "data": {
            "text/plain": "   Expected   Predicted\n0     218.4  209.247501\n1     238.4  240.131383\n2     336.8  424.675923\n3     230.0  245.726507\n4     196.0  247.043162\n5     260.0  225.566845\n6     345.0  334.060991\n7     394.4  333.658266",
            "text/html": "<div>\n<style scoped>\n    .dataframe tbody tr th:only-of-type {\n        vertical-align: middle;\n    }\n\n    .dataframe tbody tr th {\n        vertical-align: top;\n    }\n\n    .dataframe thead th {\n        text-align: right;\n    }\n</style>\n<table border=\"1\" class=\"dataframe\">\n  <thead>\n    <tr style=\"text-align: right;\">\n      <th></th>\n      <th>Expected</th>\n      <th>Predicted</th>\n    </tr>\n  </thead>\n  <tbody>\n    <tr>\n      <th>0</th>\n      <td>218.4</td>\n      <td>209.247501</td>\n    </tr>\n    <tr>\n      <th>1</th>\n      <td>238.4</td>\n      <td>240.131383</td>\n    </tr>\n    <tr>\n      <th>2</th>\n      <td>336.8</td>\n      <td>424.675923</td>\n    </tr>\n    <tr>\n      <th>3</th>\n      <td>230.0</td>\n      <td>245.726507</td>\n    </tr>\n    <tr>\n      <th>4</th>\n      <td>196.0</td>\n      <td>247.043162</td>\n    </tr>\n    <tr>\n      <th>5</th>\n      <td>260.0</td>\n      <td>225.566845</td>\n    </tr>\n    <tr>\n      <th>6</th>\n      <td>345.0</td>\n      <td>334.060991</td>\n    </tr>\n    <tr>\n      <th>7</th>\n      <td>394.4</td>\n      <td>333.658266</td>\n    </tr>\n  </tbody>\n</table>\n</div>"
          },
          "metadata": {}
        },
        {
          "output_type": "stream",
          "name": "stdout",
          "text": [
            "\nhardness_value: 25 Nodes\n"
          ]
        },
        {
          "output_type": "display_data",
          "data": {
            "text/plain": "   Expected   Predicted\n0     132.5  118.450985\n1     116.2  148.066854\n2      90.6  125.553880\n3     105.0   94.674677\n4     142.2  137.027689\n5     110.0  111.506588\n6      80.5   96.034079\n7      65.0   74.414394",
            "text/html": "<div>\n<style scoped>\n    .dataframe tbody tr th:only-of-type {\n        vertical-align: middle;\n    }\n\n    .dataframe tbody tr th {\n        vertical-align: top;\n    }\n\n    .dataframe thead th {\n        text-align: right;\n    }\n</style>\n<table border=\"1\" class=\"dataframe\">\n  <thead>\n    <tr style=\"text-align: right;\">\n      <th></th>\n      <th>Expected</th>\n      <th>Predicted</th>\n    </tr>\n  </thead>\n  <tbody>\n    <tr>\n      <th>0</th>\n      <td>132.5</td>\n      <td>118.450985</td>\n    </tr>\n    <tr>\n      <th>1</th>\n      <td>116.2</td>\n      <td>148.066854</td>\n    </tr>\n    <tr>\n      <th>2</th>\n      <td>90.6</td>\n      <td>125.553880</td>\n    </tr>\n    <tr>\n      <th>3</th>\n      <td>105.0</td>\n      <td>94.674677</td>\n    </tr>\n    <tr>\n      <th>4</th>\n      <td>142.2</td>\n      <td>137.027689</td>\n    </tr>\n    <tr>\n      <th>5</th>\n      <td>110.0</td>\n      <td>111.506588</td>\n    </tr>\n    <tr>\n      <th>6</th>\n      <td>80.5</td>\n      <td>96.034079</td>\n    </tr>\n    <tr>\n      <th>7</th>\n      <td>65.0</td>\n      <td>74.414394</td>\n    </tr>\n  </tbody>\n</table>\n</div>"
          },
          "metadata": {}
        },
        {
          "output_type": "stream",
          "name": "stdout",
          "text": [
            "\nheat_input: 30 Nodes\n"
          ]
        },
        {
          "output_type": "display_data",
          "data": {
            "text/plain": "   Expected    Predicted\n0    1120.0  1061.556571\n1    1280.0  1446.951611\n2     960.0   949.050330\n3    1792.0  1733.770197\n4    1024.0   960.037876\n5    2048.0  1882.061689\n6     936.0   930.883545\n7     768.0   800.556646",
            "text/html": "<div>\n<style scoped>\n    .dataframe tbody tr th:only-of-type {\n        vertical-align: middle;\n    }\n\n    .dataframe tbody tr th {\n        vertical-align: top;\n    }\n\n    .dataframe thead th {\n        text-align: right;\n    }\n</style>\n<table border=\"1\" class=\"dataframe\">\n  <thead>\n    <tr style=\"text-align: right;\">\n      <th></th>\n      <th>Expected</th>\n      <th>Predicted</th>\n    </tr>\n  </thead>\n  <tbody>\n    <tr>\n      <th>0</th>\n      <td>1120.0</td>\n      <td>1061.556571</td>\n    </tr>\n    <tr>\n      <th>1</th>\n      <td>1280.0</td>\n      <td>1446.951611</td>\n    </tr>\n    <tr>\n      <th>2</th>\n      <td>960.0</td>\n      <td>949.050330</td>\n    </tr>\n    <tr>\n      <th>3</th>\n      <td>1792.0</td>\n      <td>1733.770197</td>\n    </tr>\n    <tr>\n      <th>4</th>\n      <td>1024.0</td>\n      <td>960.037876</td>\n    </tr>\n    <tr>\n      <th>5</th>\n      <td>2048.0</td>\n      <td>1882.061689</td>\n    </tr>\n    <tr>\n      <th>6</th>\n      <td>936.0</td>\n      <td>930.883545</td>\n    </tr>\n    <tr>\n      <th>7</th>\n      <td>768.0</td>\n      <td>800.556646</td>\n    </tr>\n  </tbody>\n</table>\n</div>"
          },
          "metadata": {}
        },
        {
          "output_type": "stream",
          "name": "stdout",
          "text": [
            "\ntensile_strength: 30 Nodes\n"
          ]
        },
        {
          "output_type": "display_data",
          "data": {
            "text/plain": "   Expected   Predicted\n0     312.8  346.926688\n1     442.6  375.126679\n2     396.5  421.445877\n3     422.8  397.510527\n4     280.2  319.264292\n5     304.2  296.041490\n6     394.6  409.521402\n7     378.5  409.087500",
            "text/html": "<div>\n<style scoped>\n    .dataframe tbody tr th:only-of-type {\n        vertical-align: middle;\n    }\n\n    .dataframe tbody tr th {\n        vertical-align: top;\n    }\n\n    .dataframe thead th {\n        text-align: right;\n    }\n</style>\n<table border=\"1\" class=\"dataframe\">\n  <thead>\n    <tr style=\"text-align: right;\">\n      <th></th>\n      <th>Expected</th>\n      <th>Predicted</th>\n    </tr>\n  </thead>\n  <tbody>\n    <tr>\n      <th>0</th>\n      <td>312.8</td>\n      <td>346.926688</td>\n    </tr>\n    <tr>\n      <th>1</th>\n      <td>442.6</td>\n      <td>375.126679</td>\n    </tr>\n    <tr>\n      <th>2</th>\n      <td>396.5</td>\n      <td>421.445877</td>\n    </tr>\n    <tr>\n      <th>3</th>\n      <td>422.8</td>\n      <td>397.510527</td>\n    </tr>\n    <tr>\n      <th>4</th>\n      <td>280.2</td>\n      <td>319.264292</td>\n    </tr>\n    <tr>\n      <th>5</th>\n      <td>304.2</td>\n      <td>296.041490</td>\n    </tr>\n    <tr>\n      <th>6</th>\n      <td>394.6</td>\n      <td>409.521402</td>\n    </tr>\n    <tr>\n      <th>7</th>\n      <td>378.5</td>\n      <td>409.087500</td>\n    </tr>\n  </tbody>\n</table>\n</div>"
          },
          "metadata": {}
        },
        {
          "output_type": "stream",
          "name": "stdout",
          "text": [
            "\nflexural_strength: 30 Nodes\n"
          ]
        },
        {
          "output_type": "display_data",
          "data": {
            "text/plain": "   Expected   Predicted\n0     218.4  209.631538\n1     238.4  262.690107\n2     336.8  377.449379\n3     230.0  276.033216\n4     196.0  216.959857\n5     260.0  206.517235\n6     345.0  349.899959\n7     394.4  366.694479",
            "text/html": "<div>\n<style scoped>\n    .dataframe tbody tr th:only-of-type {\n        vertical-align: middle;\n    }\n\n    .dataframe tbody tr th {\n        vertical-align: top;\n    }\n\n    .dataframe thead th {\n        text-align: right;\n    }\n</style>\n<table border=\"1\" class=\"dataframe\">\n  <thead>\n    <tr style=\"text-align: right;\">\n      <th></th>\n      <th>Expected</th>\n      <th>Predicted</th>\n    </tr>\n  </thead>\n  <tbody>\n    <tr>\n      <th>0</th>\n      <td>218.4</td>\n      <td>209.631538</td>\n    </tr>\n    <tr>\n      <th>1</th>\n      <td>238.4</td>\n      <td>262.690107</td>\n    </tr>\n    <tr>\n      <th>2</th>\n      <td>336.8</td>\n      <td>377.449379</td>\n    </tr>\n    <tr>\n      <th>3</th>\n      <td>230.0</td>\n      <td>276.033216</td>\n    </tr>\n    <tr>\n      <th>4</th>\n      <td>196.0</td>\n      <td>216.959857</td>\n    </tr>\n    <tr>\n      <th>5</th>\n      <td>260.0</td>\n      <td>206.517235</td>\n    </tr>\n    <tr>\n      <th>6</th>\n      <td>345.0</td>\n      <td>349.899959</td>\n    </tr>\n    <tr>\n      <th>7</th>\n      <td>394.4</td>\n      <td>366.694479</td>\n    </tr>\n  </tbody>\n</table>\n</div>"
          },
          "metadata": {}
        },
        {
          "output_type": "stream",
          "name": "stdout",
          "text": [
            "\nhardness_value: 30 Nodes\n"
          ]
        },
        {
          "output_type": "display_data",
          "data": {
            "text/plain": "   Expected   Predicted\n0     132.5  117.263596\n1     116.2  167.429246\n2      90.6  116.296369\n3     105.0   98.792757\n4     142.2  115.486229\n5     110.0  116.259270\n6      80.5  107.824850\n7      65.0   85.061705",
            "text/html": "<div>\n<style scoped>\n    .dataframe tbody tr th:only-of-type {\n        vertical-align: middle;\n    }\n\n    .dataframe tbody tr th {\n        vertical-align: top;\n    }\n\n    .dataframe thead th {\n        text-align: right;\n    }\n</style>\n<table border=\"1\" class=\"dataframe\">\n  <thead>\n    <tr style=\"text-align: right;\">\n      <th></th>\n      <th>Expected</th>\n      <th>Predicted</th>\n    </tr>\n  </thead>\n  <tbody>\n    <tr>\n      <th>0</th>\n      <td>132.5</td>\n      <td>117.263596</td>\n    </tr>\n    <tr>\n      <th>1</th>\n      <td>116.2</td>\n      <td>167.429246</td>\n    </tr>\n    <tr>\n      <th>2</th>\n      <td>90.6</td>\n      <td>116.296369</td>\n    </tr>\n    <tr>\n      <th>3</th>\n      <td>105.0</td>\n      <td>98.792757</td>\n    </tr>\n    <tr>\n      <th>4</th>\n      <td>142.2</td>\n      <td>115.486229</td>\n    </tr>\n    <tr>\n      <th>5</th>\n      <td>110.0</td>\n      <td>116.259270</td>\n    </tr>\n    <tr>\n      <th>6</th>\n      <td>80.5</td>\n      <td>107.824850</td>\n    </tr>\n    <tr>\n      <th>7</th>\n      <td>65.0</td>\n      <td>85.061705</td>\n    </tr>\n  </tbody>\n</table>\n</div>"
          },
          "metadata": {}
        },
        {
          "output_type": "display_data",
          "data": {
            "text/plain": "             Variable  Nodes        R2           MSE        RMSE         MAD  \\\n0          heat_input      5  0.866119  23419.162020  153.033206  132.772543   \n1    tensile_strength      5 -0.387129   4665.562049   68.304920   64.487039   \n2   flexural_strength      5  0.189111   3891.868344   62.384841   55.612855   \n3      hardness_value      5  0.012210    574.307909   23.964722   21.976441   \n4          heat_input     10  0.978074   4339.585321   65.875529   54.237029   \n5    tensile_strength     10  0.521435   1746.363739   41.789517   36.951984   \n6   flexural_strength     10  0.682065   1822.611988   42.692060   34.469013   \n7      hardness_value     10 -0.249931   1142.616597   33.802612   27.738273   \n8          heat_input     15  0.921825  13601.209048  116.624222  102.356847   \n9    tensile_strength     15 -0.602981   6573.026631   81.074204   67.665888   \n10  flexural_strength     15  0.538507   2429.302935   49.287959   45.199403   \n11     hardness_value     15  0.211109    573.376711   23.945286   21.069603   \n12         heat_input     20  0.870149  31720.955008  178.103776  150.394840   \n13   tensile_strength     20  0.721009   1254.826989   35.423537   27.702533   \n14  flexural_strength     20  0.519360   2331.718633   48.287873   42.244325   \n15     hardness_value     20  0.027883    760.938790   27.585119   23.181378   \n16         heat_input     25  0.972600   4898.108856   69.986491   57.346785   \n17   tensile_strength     25 -0.046062   3483.651419   59.022465   50.950958   \n18  flexural_strength     25  0.593354   1957.066684   44.238746   33.955421   \n19     hardness_value     25  0.294126    362.527283   19.040149   15.352806   \n20         heat_input     30  0.942758   8438.983717   91.863941   70.268506   \n21   tensile_strength     30  0.354267   1216.244711   34.874700   30.570883   \n22  flexural_strength     30  0.766026   1066.206436   32.652817   28.348658   \n23     hardness_value     30 -0.376213    682.167545   26.118337   22.341107   \n\n         MAPE        TS      Time  \n0   12.406672 -6.591421  2.324795  \n1   17.816970  3.283911  1.391096  \n2   20.226037 -0.313528  1.320866  \n3   21.374712 -1.194076  0.086536  \n4    5.478807  2.741821  0.354603  \n5   10.421916  1.076606  0.438115  \n6   13.402632  1.724553  0.268351  \n7   25.983096 -0.000993  0.285460  \n8    8.824864  0.392617  0.283333  \n9   17.357950  4.456963  0.401534  \n10  16.153413  4.145944  0.321520  \n11  19.625567  0.484011  0.755854  \n12  14.051258 -2.974453  0.136633  \n13   7.571628  1.853902  0.248454  \n14  15.887723 -1.328792  0.479185  \n15  22.563853 -2.257943  1.585200  \n16   4.774581 -1.585913  0.498987  \n17  13.513904  0.975007  0.472899  \n18  11.962965 -1.210722  0.135404  \n19  15.653613 -4.150977  0.201807  \n20   5.223227  2.321546  0.314478  \n21   8.364244 -1.397554  0.260884  \n22  10.749563 -1.653545  0.147220  \n23  22.393097 -3.688896  0.273077  ",
            "text/html": "<div>\n<style scoped>\n    .dataframe tbody tr th:only-of-type {\n        vertical-align: middle;\n    }\n\n    .dataframe tbody tr th {\n        vertical-align: top;\n    }\n\n    .dataframe thead th {\n        text-align: right;\n    }\n</style>\n<table border=\"1\" class=\"dataframe\">\n  <thead>\n    <tr style=\"text-align: right;\">\n      <th></th>\n      <th>Variable</th>\n      <th>Nodes</th>\n      <th>R2</th>\n      <th>MSE</th>\n      <th>RMSE</th>\n      <th>MAD</th>\n      <th>MAPE</th>\n      <th>TS</th>\n      <th>Time</th>\n    </tr>\n  </thead>\n  <tbody>\n    <tr>\n      <th>0</th>\n      <td>heat_input</td>\n      <td>5</td>\n      <td>0.866119</td>\n      <td>23419.162020</td>\n      <td>153.033206</td>\n      <td>132.772543</td>\n      <td>12.406672</td>\n      <td>-6.591421</td>\n      <td>2.324795</td>\n    </tr>\n    <tr>\n      <th>1</th>\n      <td>tensile_strength</td>\n      <td>5</td>\n      <td>-0.387129</td>\n      <td>4665.562049</td>\n      <td>68.304920</td>\n      <td>64.487039</td>\n      <td>17.816970</td>\n      <td>3.283911</td>\n      <td>1.391096</td>\n    </tr>\n    <tr>\n      <th>2</th>\n      <td>flexural_strength</td>\n      <td>5</td>\n      <td>0.189111</td>\n      <td>3891.868344</td>\n      <td>62.384841</td>\n      <td>55.612855</td>\n      <td>20.226037</td>\n      <td>-0.313528</td>\n      <td>1.320866</td>\n    </tr>\n    <tr>\n      <th>3</th>\n      <td>hardness_value</td>\n      <td>5</td>\n      <td>0.012210</td>\n      <td>574.307909</td>\n      <td>23.964722</td>\n      <td>21.976441</td>\n      <td>21.374712</td>\n      <td>-1.194076</td>\n      <td>0.086536</td>\n    </tr>\n    <tr>\n      <th>4</th>\n      <td>heat_input</td>\n      <td>10</td>\n      <td>0.978074</td>\n      <td>4339.585321</td>\n      <td>65.875529</td>\n      <td>54.237029</td>\n      <td>5.478807</td>\n      <td>2.741821</td>\n      <td>0.354603</td>\n    </tr>\n    <tr>\n      <th>5</th>\n      <td>tensile_strength</td>\n      <td>10</td>\n      <td>0.521435</td>\n      <td>1746.363739</td>\n      <td>41.789517</td>\n      <td>36.951984</td>\n      <td>10.421916</td>\n      <td>1.076606</td>\n      <td>0.438115</td>\n    </tr>\n    <tr>\n      <th>6</th>\n      <td>flexural_strength</td>\n      <td>10</td>\n      <td>0.682065</td>\n      <td>1822.611988</td>\n      <td>42.692060</td>\n      <td>34.469013</td>\n      <td>13.402632</td>\n      <td>1.724553</td>\n      <td>0.268351</td>\n    </tr>\n    <tr>\n      <th>7</th>\n      <td>hardness_value</td>\n      <td>10</td>\n      <td>-0.249931</td>\n      <td>1142.616597</td>\n      <td>33.802612</td>\n      <td>27.738273</td>\n      <td>25.983096</td>\n      <td>-0.000993</td>\n      <td>0.285460</td>\n    </tr>\n    <tr>\n      <th>8</th>\n      <td>heat_input</td>\n      <td>15</td>\n      <td>0.921825</td>\n      <td>13601.209048</td>\n      <td>116.624222</td>\n      <td>102.356847</td>\n      <td>8.824864</td>\n      <td>0.392617</td>\n      <td>0.283333</td>\n    </tr>\n    <tr>\n      <th>9</th>\n      <td>tensile_strength</td>\n      <td>15</td>\n      <td>-0.602981</td>\n      <td>6573.026631</td>\n      <td>81.074204</td>\n      <td>67.665888</td>\n      <td>17.357950</td>\n      <td>4.456963</td>\n      <td>0.401534</td>\n    </tr>\n    <tr>\n      <th>10</th>\n      <td>flexural_strength</td>\n      <td>15</td>\n      <td>0.538507</td>\n      <td>2429.302935</td>\n      <td>49.287959</td>\n      <td>45.199403</td>\n      <td>16.153413</td>\n      <td>4.145944</td>\n      <td>0.321520</td>\n    </tr>\n    <tr>\n      <th>11</th>\n      <td>hardness_value</td>\n      <td>15</td>\n      <td>0.211109</td>\n      <td>573.376711</td>\n      <td>23.945286</td>\n      <td>21.069603</td>\n      <td>19.625567</td>\n      <td>0.484011</td>\n      <td>0.755854</td>\n    </tr>\n    <tr>\n      <th>12</th>\n      <td>heat_input</td>\n      <td>20</td>\n      <td>0.870149</td>\n      <td>31720.955008</td>\n      <td>178.103776</td>\n      <td>150.394840</td>\n      <td>14.051258</td>\n      <td>-2.974453</td>\n      <td>0.136633</td>\n    </tr>\n    <tr>\n      <th>13</th>\n      <td>tensile_strength</td>\n      <td>20</td>\n      <td>0.721009</td>\n      <td>1254.826989</td>\n      <td>35.423537</td>\n      <td>27.702533</td>\n      <td>7.571628</td>\n      <td>1.853902</td>\n      <td>0.248454</td>\n    </tr>\n    <tr>\n      <th>14</th>\n      <td>flexural_strength</td>\n      <td>20</td>\n      <td>0.519360</td>\n      <td>2331.718633</td>\n      <td>48.287873</td>\n      <td>42.244325</td>\n      <td>15.887723</td>\n      <td>-1.328792</td>\n      <td>0.479185</td>\n    </tr>\n    <tr>\n      <th>15</th>\n      <td>hardness_value</td>\n      <td>20</td>\n      <td>0.027883</td>\n      <td>760.938790</td>\n      <td>27.585119</td>\n      <td>23.181378</td>\n      <td>22.563853</td>\n      <td>-2.257943</td>\n      <td>1.585200</td>\n    </tr>\n    <tr>\n      <th>16</th>\n      <td>heat_input</td>\n      <td>25</td>\n      <td>0.972600</td>\n      <td>4898.108856</td>\n      <td>69.986491</td>\n      <td>57.346785</td>\n      <td>4.774581</td>\n      <td>-1.585913</td>\n      <td>0.498987</td>\n    </tr>\n    <tr>\n      <th>17</th>\n      <td>tensile_strength</td>\n      <td>25</td>\n      <td>-0.046062</td>\n      <td>3483.651419</td>\n      <td>59.022465</td>\n      <td>50.950958</td>\n      <td>13.513904</td>\n      <td>0.975007</td>\n      <td>0.472899</td>\n    </tr>\n    <tr>\n      <th>18</th>\n      <td>flexural_strength</td>\n      <td>25</td>\n      <td>0.593354</td>\n      <td>1957.066684</td>\n      <td>44.238746</td>\n      <td>33.955421</td>\n      <td>11.962965</td>\n      <td>-1.210722</td>\n      <td>0.135404</td>\n    </tr>\n    <tr>\n      <th>19</th>\n      <td>hardness_value</td>\n      <td>25</td>\n      <td>0.294126</td>\n      <td>362.527283</td>\n      <td>19.040149</td>\n      <td>15.352806</td>\n      <td>15.653613</td>\n      <td>-4.150977</td>\n      <td>0.201807</td>\n    </tr>\n    <tr>\n      <th>20</th>\n      <td>heat_input</td>\n      <td>30</td>\n      <td>0.942758</td>\n      <td>8438.983717</td>\n      <td>91.863941</td>\n      <td>70.268506</td>\n      <td>5.223227</td>\n      <td>2.321546</td>\n      <td>0.314478</td>\n    </tr>\n    <tr>\n      <th>21</th>\n      <td>tensile_strength</td>\n      <td>30</td>\n      <td>0.354267</td>\n      <td>1216.244711</td>\n      <td>34.874700</td>\n      <td>30.570883</td>\n      <td>8.364244</td>\n      <td>-1.397554</td>\n      <td>0.260884</td>\n    </tr>\n    <tr>\n      <th>22</th>\n      <td>flexural_strength</td>\n      <td>30</td>\n      <td>0.766026</td>\n      <td>1066.206436</td>\n      <td>32.652817</td>\n      <td>28.348658</td>\n      <td>10.749563</td>\n      <td>-1.653545</td>\n      <td>0.147220</td>\n    </tr>\n    <tr>\n      <th>23</th>\n      <td>hardness_value</td>\n      <td>30</td>\n      <td>-0.376213</td>\n      <td>682.167545</td>\n      <td>26.118337</td>\n      <td>22.341107</td>\n      <td>22.393097</td>\n      <td>-3.688896</td>\n      <td>0.273077</td>\n    </tr>\n  </tbody>\n</table>\n</div>"
          },
          "metadata": {}
        }
      ]
    },
    {
      "cell_type": "code",
      "execution_count": null,
      "metadata": {},
      "outputs": [],
      "source": []
    }
  ]
}