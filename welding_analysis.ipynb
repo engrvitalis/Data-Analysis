{
 "metadata": {
  "language_info": {
   "codemirror_mode": {
    "name": "ipython",
    "version": 3
   },
   "file_extension": ".py",
   "mimetype": "text/x-python",
   "name": "python",
   "nbconvert_exporter": "python",
   "pygments_lexer": "ipython3",
   "version": "3.8.5"
  },
  "orig_nbformat": 2,
  "kernelspec": {
   "name": "python385jvsc74a57bd01c72832a108eb0837c5c37e8e00e2391395febd5aef1dcb35f2d105938702949",
   "display_name": "Python 3.8.5 32-bit"
  },
  "metadata": {
   "interpreter": {
    "hash": "1c72832a108eb0837c5c37e8e00e2391395febd5aef1dcb35f2d105938702949"
   }
  }
 },
 "nbformat": 4,
 "nbformat_minor": 2,
 "cells": [
  {
   "source": [
    "Import the required modules"
   ],
   "cell_type": "markdown",
   "metadata": {}
  },
  {
   "cell_type": "code",
   "execution_count": null,
   "metadata": {},
   "outputs": [],
   "source": [
    "\"\"\"Import the required modules\"\"\"\n",
    "from sklearn.neural_network import MLPRegressor\n",
    "from sklearn.model_selection import train_test_split\n",
    "from sklearn.preprocessing import StandardScaler\n",
    "from sklearn.metrics import r2_score, mean_squared_error, mean_absolute_error\n",
    "from scipy.linalg import pinv2\n",
    "import matplotlib.pyplot as plt\n",
    "import pandas as pd\n",
    "import numpy as np"
   ]
  },
  {
   "cell_type": "code",
   "execution_count": null,
   "metadata": {},
   "outputs": [],
   "source": []
  },
  {
   "cell_type": "code",
   "execution_count": null,
   "metadata": {},
   "outputs": [],
   "source": [
    "def get_tables(file1, file2):\n",
    "    \n",
    "  # Reads in files.\n",
    "  dfs = [pd.read_csv(file1), pd.read_csv(file2)]\n",
    "\n",
    "  # Create dummies.\n",
    "  a = 0\n",
    "  for i, df in enumerate(dfs):\n",
    "    dfs[i] = pd.get_dummies(df)\n",
    "    dfs[i] = pd.concat([dfs[i].iloc[:, :4], dfs[i].iloc[:, -5+a:], dfs[i].iloc[:, 4:8+a]], axis=1)\n",
    "    a += 1\n",
    "\n",
    "#   # Rearrange columns.\n",
    "#   dfs[0] = pd.concat([dfs[0].iloc[:, :4], dfs[0].iloc[:, -5:], dfs[0].iloc[:, 4:8]], axis=1)\n",
    "#   dfs[1] = pd.concat([dfs[1].iloc[:, :4], dfs[1].iloc[:, -4:], dfs[1].iloc[:, 4:9]], axis=1)\n",
    "\n",
    "  return tuple(dfs)\n"
   ]
  },
  {
   "cell_type": "code",
   "execution_count": null,
   "metadata": {},
   "outputs": [],
   "source": [
    "file = 'welding_data_by_properties.csv', 'welding_data_by_welding_types.csv'\n",
    "df = get_tables(file[0], file[1])"
   ]
  },
  {
   "cell_type": "code",
   "execution_count": null,
   "metadata": {},
   "outputs": [],
   "source": [
    "df[0].shape"
   ]
  },
  {
   "cell_type": "code",
   "execution_count": null,
   "metadata": {},
   "outputs": [],
   "source": [
    "def explore(df, p_start_cols, p_end_cols, t_start_cols, t_end_cols, n_plots, x):\n",
    "  pos = 1\n",
    "  for i in range(p_start_cols, p_end_cols):\n",
    "    print(f'\\t{df.columns[i].capitalize()} vs Response values')\n",
    "    plt.figure(figsize=[15, 5])\n",
    "    for j in range(t_start_cols, t_end_cols+x):\n",
    "      plt.subplot(1, n_plots, pos)\n",
    "      plt.scatter(df.iloc[:, i], df.iloc[:, j])\n",
    "      plt.ylabel(df.columns[j])\n",
    "      plt.xlabel(df.columns[i])\n",
    "      pos += 1\n",
    "    plt.tight_layout()\n",
    "    plt.show()\n",
    "    print('\\n')\n",
    "    pos = 1"
   ]
  },
  {
   "cell_type": "code",
   "execution_count": null,
   "metadata": {},
   "outputs": [],
   "source": [
    "table = ['Welding Data by Properties', 'Welding Data by Welding types']\n",
    "for x in range(2):\n",
    "    print(table[x])\n",
    "\n",
    "    print('\\nData Statistical Summary')\n",
    "    display(df[x].describe())\n",
    "    print('')\n",
    "\n",
    "    print('\\nExplore data graphically')\n",
    "    explore(df[x], 0, 4, 9-x, 13-x, 4+x, x)"
   ]
  },
  {
   "cell_type": "code",
   "execution_count": 164,
   "metadata": {},
   "outputs": [],
   "source": [
    "def generate_train_test(i):\n",
    "    # pass\n",
    "  X = df[i].iloc[:, :9-i]#.to_numpy()\n",
    "  y = df[i].iloc[:, -4:]#.to_numpy()\n",
    "\n",
    "#   X_train, X_test, y_train, y_test = train_test_split(X, y,random_state=1, test_size=0.2)\n",
    "\n",
    "  return train_test_split(X, y,random_state=1, test_size=0.2)"
   ]
  },
  {
   "cell_type": "code",
   "execution_count": 177,
   "metadata": {},
   "outputs": [],
   "source": [
    "def scale_data(X_train, X_test):\n",
    "    sc_X = StandardScaler()\n",
    "    X_trainscaled=sc_X.fit_transform(X_train)\n",
    "    X_testscaled=sc_X.transform(X_test)\n",
    "\n",
    "    return X_trainscaled, X_testscaled"
   ]
  },
  {
   "cell_type": "code",
   "execution_count": 185,
   "metadata": {},
   "outputs": [],
   "source": [
    "def ann_analysis():\n",
    "    X_trainscaled, X_testscaled = scale_data(X_train, X_test)\n",
    "    reg = MLPRegressor(hidden_layer_sizes=(64, 64, 64), activation='relu', random_state=1, max_iter=5000).fit(X_trainscaled, y_train)\n",
    "\n",
    "    y_pred=reg.predict(X_testscaled)\n",
    "    r2 = r2_score(y_pred, y_test)\n",
    "    rmse = np.sqrt(mean_squared_error(y_test, y_pred))\n",
    "    mae = mean_absolute_error(y_test, y_pred)\n",
    "\n",
    "    return r2, rmse, mae, y_pred, reg"
   ]
  },
  {
   "cell_type": "code",
   "execution_count": 183,
   "metadata": {},
   "outputs": [],
   "source": [
    "def elm_analysis(hidden_size=5000):\n",
    "  input_size = X_train.shape[1]\n",
    "  hidden_size = hidden_size\n",
    "  input_weights = np.random.normal(size=[input_size,hidden_size])\n",
    "  biases = np.random.normal(size=[hidden_size])\n",
    "\n",
    "  def relu(x):\n",
    "    return np.maximum(x, 0, x)\n",
    "\n",
    "  def hidden_nodes(X):\n",
    "      G = np.dot(X, input_weights)\n",
    "      G = G + biases\n",
    "      H = relu(G)\n",
    "      return H\n",
    "\n",
    "  output_weights = np.dot(pinv2(hidden_nodes(X_train)), y_train)\n",
    "\n",
    "  def predict(X):\n",
    "      out = hidden_nodes(X)\n",
    "      out = np.dot(out, output_weights)\n",
    "      return out\n",
    "\n",
    "  y_pred = predict(X_test)\n",
    "  r2 = r2_score(y_test, y_pred)\n",
    "  rmse = np.sqrt(mean_squared_error(y_test, y_pred))\n",
    "  mae = mean_absolute_error(y_test, y_pred)\n",
    "\n",
    "  return r2, rmse, mae, y_pred"
   ]
  },
  {
   "cell_type": "code",
   "execution_count": 184,
   "metadata": {},
   "outputs": [
    {
     "output_type": "stream",
     "name": "stderr",
     "text": [
      "C:\\Users\\NNAMDI\\AppData\\Local\\Programs\\Python\\Python38-32\\lib\\site-packages\\sklearn\\neural_network\\_multilayer_perceptron.py:614: ConvergenceWarning: Stochastic Optimizer: Maximum iterations (5000) reached and the optimization hasn't converged yet.\n  warnings.warn(\n"
     ]
    }
   ],
   "source": [
    "for model in ['ANN', 'ELM']:\n",
    "    for i in range(2):\n",
    "        X_train, X_test, y_train, y_test = generate_train_test(i)\n",
    "\n",
    "        if model == 'ANN':\n",
    "            ann_metrics = ann_analysis()\n",
    "        else:\n",
    "            elm_matrics = elm_analysis()\n",
    "\n",
    "        "
   ]
  },
  {
   "cell_type": "code",
   "execution_count": null,
   "metadata": {},
   "outputs": [],
   "source": []
  }
 ]
}