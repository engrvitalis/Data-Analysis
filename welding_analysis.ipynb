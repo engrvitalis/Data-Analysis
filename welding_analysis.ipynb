{
 "metadata": {
  "language_info": {
   "codemirror_mode": {
    "name": "ipython",
    "version": 3
   },
   "file_extension": ".py",
   "mimetype": "text/x-python",
   "name": "python",
   "nbconvert_exporter": "python",
   "pygments_lexer": "ipython3",
   "version": "3.8.5"
  },
  "orig_nbformat": 2,
  "kernelspec": {
   "name": "python385jvsc74a57bd01c72832a108eb0837c5c37e8e00e2391395febd5aef1dcb35f2d105938702949",
   "display_name": "Python 3.8.5 32-bit"
  },
  "metadata": {
   "interpreter": {
    "hash": "1c72832a108eb0837c5c37e8e00e2391395febd5aef1dcb35f2d105938702949"
   }
  }
 },
 "nbformat": 4,
 "nbformat_minor": 2,
 "cells": [
  {
   "source": [
    "Import the required modules"
   ],
   "cell_type": "markdown",
   "metadata": {}
  },
  {
   "cell_type": "code",
   "execution_count": 1,
   "metadata": {},
   "outputs": [],
   "source": [
    "\"\"\"Import the required modules\"\"\"\n",
    "from sklearn.neural_network import MLPRegressor\n",
    "from sklearn.model_selection import train_test_split\n",
    "from sklearn.preprocessing import StandardScaler\n",
    "from sklearn.metrics import r2_score, mean_squared_error, mean_absolute_error\n",
    "from scipy.linalg import pinv2\n",
    "import matplotlib.pyplot as plt\n",
    "import pandas as pd\n",
    "import numpy as np"
   ]
  },
  {
   "cell_type": "code",
   "execution_count": null,
   "metadata": {},
   "outputs": [],
   "source": [
    "def get_tables(file1, file2):\n",
    "    \n",
    "  # Reads in files.\n",
    "  dfs = [pd.read_csv(file1), pd.read_csv(file2)]\n",
    "\n",
    "  # Create dummies.\n",
    "  for i, df in enumerate(dfs):\n",
    "    dfs[i] = pd.get_dummies(df, drop_first=True)\n",
    "\n",
    "  # Rearrange columns.\n",
    "  dfs[0] = pd.concat([dfs[0].iloc[:, :4], dfs[0].iloc[:, -4:], dfs[0].iloc[:, 4:8]], axis=1)\n",
    "  dfs[1] = pd.concat([dfs[1].iloc[:, :4], dfs[1].iloc[:, -3:], dfs[1].iloc[:, 4:9]], axis=1)\n",
    "\n",
    "  return dfs\n",
    "\n",
    "file1 = 'welding_data_by_properties.csv'\n",
    "file2 = 'welding_data_by_welding_type.csv'\n"
   ]
  }
 ]
}