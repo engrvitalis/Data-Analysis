{
 "metadata": {
  "language_info": {
   "codemirror_mode": {
    "name": "ipython",
    "version": 3
   },
   "file_extension": ".py",
   "mimetype": "text/x-python",
   "name": "python",
   "nbconvert_exporter": "python",
   "pygments_lexer": "ipython3",
   "version": "3.8.5"
  },
  "orig_nbformat": 2,
  "kernelspec": {
   "name": "python385jvsc74a57bd01c72832a108eb0837c5c37e8e00e2391395febd5aef1dcb35f2d105938702949",
   "display_name": "Python 3.8.5 32-bit"
  },
  "metadata": {
   "interpreter": {
    "hash": "1c72832a108eb0837c5c37e8e00e2391395febd5aef1dcb35f2d105938702949"
   }
  }
 },
 "nbformat": 4,
 "nbformat_minor": 2,
 "cells": [
  {
   "source": [
    "Import the required modules"
   ],
   "cell_type": "markdown",
   "metadata": {}
  },
  {
   "cell_type": "code",
   "execution_count": null,
   "metadata": {},
   "outputs": [],
   "source": [
    "\"\"\"Import the required modules\"\"\"\n",
    "from sklearn.neural_network import MLPRegressor\n",
    "from sklearn.model_selection import train_test_split\n",
    "from sklearn.preprocessing import StandardScaler\n",
    "from sklearn.metrics import r2_score, mean_squared_error, mean_absolute_error\n",
    "from scipy.linalg import pinv2\n",
    "import matplotlib.pyplot as plt\n",
    "import pandas as pd\n",
    "import numpy as np\n",
    "import time"
   ]
  },
  {
   "cell_type": "code",
   "execution_count": null,
   "metadata": {},
   "outputs": [],
   "source": [
    "def get_table(file, t_var):\n",
    "    \n",
    "  # Reads in files.\n",
    "  df = pd.read_csv(file)\n",
    "  # Save the target variables.\n",
    "  t = df[t_var]\n",
    "  # Drop target variables from df.\n",
    "  df.drop(t_var, axis=1, inplace=True)\n",
    "  # Create dummy variables.\n",
    "  df = pd.get_dummies(df)\n",
    "  # Join target variables to df\n",
    "  df = pd.concat([df, t], axis=1)\n",
    "\n",
    "  return df\n"
   ]
  },
  {
   "cell_type": "code",
   "execution_count": null,
   "metadata": {},
   "outputs": [],
   "source": [
    "file = 'welding_data_by_properties.csv', 'fibre_data.csv'\n",
    "df = get_table(file[0], ['saw', 'smaw', 'gmaw', 'gtaw']), get_table(file[1], t_var=[])\n",
    "df[0].head()"
   ]
  },
  {
   "cell_type": "code",
   "execution_count": null,
   "metadata": {},
   "outputs": [],
   "source": [
    "# def explore(df, p_start_cols, p_end_cols, t_start_cols, t_end_cols, n_plots, x):\n",
    "#   pos = 1\n",
    "#   for i in range(p_start_cols, p_end_cols):\n",
    "#     print(f'\\t{df.columns[i].capitalize()} vs Response values')\n",
    "#     plt.figure(figsize=[15, 5])\n",
    "#     for j in range(t_start_cols, t_end_cols+x):\n",
    "#       plt.subplot(1, n_plots, pos)\n",
    "#       plt.scatter(df.iloc[:, i], df.iloc[:, j])\n",
    "#       plt.ylabel(df.columns[j])\n",
    "#       plt.xlabel(df.columns[i])\n",
    "#       pos += 1\n",
    "#     plt.tight_layout()\n",
    "#     plt.show()\n",
    "#     print('\\n')\n",
    "#     pos = 1"
   ]
  },
  {
   "cell_type": "code",
   "execution_count": null,
   "metadata": {},
   "outputs": [],
   "source": [
    "# table = ['Welding Data by Properties', 'Welding Data by Welding types']\n",
    "# for x in range(2):\n",
    "#     print(table[x])\n",
    "\n",
    "#     print('\\nData Statistical Summary')\n",
    "#     display(df[x].describe())\n",
    "#     print('')\n",
    "\n",
    "#     print('\\nExplore data graphically')\n",
    "#     explore(df[x], 0, 4, 9-x, 13-x, 4+x, x)"
   ]
  },
  {
   "cell_type": "code",
   "execution_count": null,
   "metadata": {},
   "outputs": [],
   "source": [
    "def generate_train_test(df, p_end_col):\n",
    "  X = df.iloc[:, :p_end_col]\n",
    "  y = df.iloc[:, p_end_col:]\n",
    "\n",
    "  return train_test_split(X, y,random_state=1, test_size=0.2)"
   ]
  },
  {
   "cell_type": "code",
   "execution_count": null,
   "metadata": {},
   "outputs": [],
   "source": [
    "generate_train_test(df[0], -4)"
   ]
  },
  {
   "cell_type": "code",
   "execution_count": null,
   "metadata": {},
   "outputs": [],
   "source": [
    "def scale_data(X_train, X_test):\n",
    "    sc_X = StandardScaler()\n",
    "    X_trainscaled=sc_X.fit_transform(X_train)\n",
    "    X_testscaled=sc_X.transform(X_test)\n",
    "\n",
    "    return X_trainscaled, X_testscaled"
   ]
  },
  {
   "cell_type": "code",
   "execution_count": null,
   "metadata": {},
   "outputs": [],
   "source": [
    "def ann_analysis():\n",
    "    X_trainscaled, X_testscaled = scale_data(X_train, X_test)\n",
    "    reg = MLPRegressor(hidden_layer_sizes=(64, 64, 64), activation='relu', random_state=1, max_iter=5000).fit(X_trainscaled, y_train)\n",
    "\n",
    "    y_pred=reg.predict(X_testscaled)\n",
    "    r2 = r2_score(y_pred, y_test)\n",
    "    rmse = np.sqrt(mean_squared_error(y_test, y_pred))\n",
    "    mae = mean_absolute_error(y_test, y_pred)\n",
    "\n",
    "    return r2, rmse, mae, y_pred, reg"
   ]
  },
  {
   "cell_type": "code",
   "execution_count": null,
   "metadata": {},
   "outputs": [],
   "source": [
    "def elm_analysis(hidden_size=5000):\n",
    "  input_size = X_train.shape[1]\n",
    "  hidden_size = hidden_size\n",
    "  input_weights = np.random.normal(size=[input_size,hidden_size])\n",
    "  biases = np.random.normal(size=[hidden_size])\n",
    "\n",
    "  def relu(x):\n",
    "    return np.maximum(x, 0, x)\n",
    "\n",
    "  def hidden_nodes(X):\n",
    "      G = np.dot(X, input_weights)\n",
    "      G = G + biases\n",
    "      H = relu(G)\n",
    "      return H\n",
    "\n",
    "  output_weights = np.dot(pinv2(hidden_nodes(X_train)), y_train)\n",
    "\n",
    "  def predict(X):\n",
    "      out = hidden_nodes(X)\n",
    "      out = np.dot(out, output_weights)\n",
    "      return out\n",
    "\n",
    "  y_pred = predict(X_test)\n",
    "  r2 = r2_score(y_test, y_pred)\n",
    "  rmse = np.sqrt(mean_squared_error(y_test, y_pred))\n",
    "  mae = mean_absolute_error(y_test, y_pred)\n",
    "\n",
    "  return r2, rmse, mae, y_pred"
   ]
  },
  {
   "cell_type": "code",
   "execution_count": null,
   "metadata": {},
   "outputs": [],
   "source": [
    "def disp_matrics(r2, rmse, mae, title):\n",
    "  print(title)\n",
    "  print('===============================================')\n",
    "  print(f'R^2:\\t{r2}')\n",
    "  print(f'rmse:\\t{rmse}')\n",
    "  print(f'mae:\\t{mae}')\n",
    "  print('\\n')"
   ]
  },
  {
   "cell_type": "code",
   "execution_count": null,
   "metadata": {},
   "outputs": [],
   "source": [
    "def disp_graphs(i, y_test, y_ann_pred, y_elm_pred):\n",
    "  plt.figure(figsize=(10, 5))\n",
    "\n",
    "  plt.subplot(1, 2, 1)\n",
    "  plt.scatter(y_ann_pred, y_test)\n",
    "  plt.plot([y_test.min(), y_test.max()], [y_test.min(), y_test.max()], 'r--', lw=3)\n",
    "  plt.title('ANN')\n",
    "  plt.xlabel('Predicted')\n",
    "  plt.ylabel('Actual')\n",
    "\n",
    "  plt.subplot(1, 2, 2)\n",
    "  plt.scatter(y_elm_pred, y_test)\n",
    "  plt.plot([y_test.min(), y_test.max()], [y_test.min(), y_test.max()], 'r--', lw=3)\n",
    "  plt.title('ELM')\n",
    "  plt.xlabel('Predicted')\n",
    "  plt.ylabel('Actual')\n",
    "\n",
    "  plt.suptitle('Comparing Models Predictive Abilities', x=.506, y=1.03, fontsize=16)\n",
    "  plt.tight_layout()\n",
    "  plt.show()"
   ]
  },
  {
   "cell_type": "code",
   "execution_count": null,
   "metadata": {},
   "outputs": [],
   "source": [
    "def disp_compare_graphs():\n",
    "  plt.figure(figsize = (10, 5))\n",
    "\n",
    "  x = np.arange(3)\n",
    "  ann = [ann_r2*100, ann_rmse, ann_mae]\n",
    "  elm = [elm_r2*100, elm_rmse, elm_mae]\n",
    "  width = 0.40\n",
    "    \n",
    "  # plot data in grouped manner of bar type\n",
    "  plt.bar(x-0.2, ann, width, color='green')\n",
    "  plt.bar(x+0.2, elm, width, color='red')\n",
    "  plt.xticks(x, ['R^2', 'RMSE', 'MAE'])\n",
    "  plt.title(\"Comparing metrics for ANN and ELM\")\n",
    "  plt.xlabel(\"Metrics\")\n",
    "  plt.ylabel(\"Values\")\n",
    "  plt.legend([\"ANN\", \"ELM\"])\n",
    "  plt.show()"
   ]
  },
  {
   "cell_type": "code",
   "execution_count": null,
   "metadata": {},
   "outputs": [],
   "source": [
    "print('MODEL MATRICS.')\n",
    "print('===============================================')\n",
    "\n",
    "# df[0].drop(df[0].iloc[:, 4:5], inplace=True, axis=1)\n",
    "# df[1].drop(df[1].iloc[:, 4:5], inplace=True, axis=1)\n",
    "\n",
    "for i in range(2):\n",
    "    for model in ['ANN', 'ELM']:\n",
    "        print(f'Analysis of table {i+1}: {table[i]}')\n",
    "        X_train, X_test, y_train, y_test = generate_train_test(i, df)\n",
    "\n",
    "        print('Testing data:')\n",
    "        display(X_test)\n",
    "\n",
    "        if model == 'ANN':\n",
    "            print('ANN modeling')\n",
    "            ann_r2, ann_rmse, ann_mae, y_ann_pred, reg = ann_analysis()\n",
    "\n",
    "            print(f'Predicted values using ANN for {table[i]}')\n",
    "            display(y_ann_pred)\n",
    "            disp_matrics(ann_r2, ann_rmse, ann_mae, 'The ANN model performance for testing set')\n",
    "        else:\n",
    "            print('ELM modeling')\n",
    "            elm_r2, elm_rmse, elm_mae, y_elm_pred = elm_analysis()\n",
    "\n",
    "            print(f'Predicted values using ELM for {table[i]}')\n",
    "            display(y_elm_pred)\n",
    "            disp_matrics(elm_r2, elm_rmse, elm_mae, 'The ELM model performance for testing set')\n",
    "\n",
    "    print('\\n')\n",
    "\n",
    "    disp_graphs(i, y_test, y_ann_pred, y_elm_pred)\n",
    "    disp_compare_graphs()"
   ]
  },
  {
   "cell_type": "code",
   "execution_count": null,
   "metadata": {},
   "outputs": [],
   "source": []
  }
 ]
}