{
  "nbformat": 4,
  "nbformat_minor": 2,
  "metadata": {
    "colab": {
      "name": "ELM_Welding Analysis4",
      "provenance": [],
      "collapsed_sections": [],
      "authorship_tag": "ABX9TyOMYE3t5c0bcfzKIJ72lyqm",
      "include_colab_link": true
    },
    "kernelspec": {
      "name": "python3",
      "display_name": "Python 3.8.5 32-bit"
    },
    "language_info": {
      "name": "python",
      "version": "3.8.5",
      "mimetype": "text/x-python",
      "codemirror_mode": {
        "name": "ipython",
        "version": 3
      },
      "pygments_lexer": "ipython3",
      "nbconvert_exporter": "python",
      "file_extension": ".py"
    },
    "interpreter": {
      "hash": "1c72832a108eb0837c5c37e8e00e2391395febd5aef1dcb35f2d105938702949"
    }
  },
  "cells": [
    {
      "cell_type": "code",
      "execution_count": 2,
      "source": [
        "\"\"\"Import the required modules\"\"\"\r\n",
        "from sklearn.neural_network import MLPRegressor\r\n",
        "from sklearn.model_selection import train_test_split\r\n",
        "from sklearn.metrics import r2_score, mean_squared_error, mean_absolute_error\r\n",
        "from sklearn.preprocessing import StandardScaler\r\n",
        "from scipy.linalg import pinv2\r\n",
        "import matplotlib.pyplot as plt\r\n",
        "import pandas as pd\r\n",
        "import numpy as np\r\n",
        "import timeit"
      ],
      "outputs": [],
      "metadata": {
        "id": "Gc3npuPEvizW"
      }
    },
    {
      "cell_type": "markdown",
      "source": [
        "Analyzing welding data by welding types"
      ],
      "metadata": {
        "id": "FbVon2IRHqUR"
      }
    },
    {
      "cell_type": "code",
      "execution_count": 10,
      "source": [
        "df2 = pd.read_csv('saw.csv')\r\n",
        "df2.drop(['welding_type', 'heat_input'], axis=1, inplace=True)\r\n",
        "\r\n",
        "df2.head()"
      ],
      "outputs": [
        {
          "output_type": "execute_result",
          "data": {
            "text/plain": [
              "   current  voltage  welding_speed  plate_thickness  tensile_strength  \\\n",
              "0      100       28            120                8             385.5   \n",
              "1      160       32            120                6             354.6   \n",
              "2      160       28             90               10             343.7   \n",
              "3      160       24            150                8             410.5   \n",
              "4      100       32            150               10             370.2   \n",
              "\n",
              "   flexural_strength  hardness_value  residual_stress  \n",
              "0              276.5           128.4            186.6  \n",
              "1              270.0           108.4            312.8  \n",
              "2              268.2            95.6            325.2  \n",
              "3              302.4           136.6            260.8  \n",
              "4              272.8           116.2            142.0  "
            ],
            "text/html": [
              "<div>\n",
              "<style scoped>\n",
              "    .dataframe tbody tr th:only-of-type {\n",
              "        vertical-align: middle;\n",
              "    }\n",
              "\n",
              "    .dataframe tbody tr th {\n",
              "        vertical-align: top;\n",
              "    }\n",
              "\n",
              "    .dataframe thead th {\n",
              "        text-align: right;\n",
              "    }\n",
              "</style>\n",
              "<table border=\"1\" class=\"dataframe\">\n",
              "  <thead>\n",
              "    <tr style=\"text-align: right;\">\n",
              "      <th></th>\n",
              "      <th>current</th>\n",
              "      <th>voltage</th>\n",
              "      <th>welding_speed</th>\n",
              "      <th>plate_thickness</th>\n",
              "      <th>tensile_strength</th>\n",
              "      <th>flexural_strength</th>\n",
              "      <th>hardness_value</th>\n",
              "      <th>residual_stress</th>\n",
              "    </tr>\n",
              "  </thead>\n",
              "  <tbody>\n",
              "    <tr>\n",
              "      <th>0</th>\n",
              "      <td>100</td>\n",
              "      <td>28</td>\n",
              "      <td>120</td>\n",
              "      <td>8</td>\n",
              "      <td>385.5</td>\n",
              "      <td>276.5</td>\n",
              "      <td>128.4</td>\n",
              "      <td>186.6</td>\n",
              "    </tr>\n",
              "    <tr>\n",
              "      <th>1</th>\n",
              "      <td>160</td>\n",
              "      <td>32</td>\n",
              "      <td>120</td>\n",
              "      <td>6</td>\n",
              "      <td>354.6</td>\n",
              "      <td>270.0</td>\n",
              "      <td>108.4</td>\n",
              "      <td>312.8</td>\n",
              "    </tr>\n",
              "    <tr>\n",
              "      <th>2</th>\n",
              "      <td>160</td>\n",
              "      <td>28</td>\n",
              "      <td>90</td>\n",
              "      <td>10</td>\n",
              "      <td>343.7</td>\n",
              "      <td>268.2</td>\n",
              "      <td>95.6</td>\n",
              "      <td>325.2</td>\n",
              "    </tr>\n",
              "    <tr>\n",
              "      <th>3</th>\n",
              "      <td>160</td>\n",
              "      <td>24</td>\n",
              "      <td>150</td>\n",
              "      <td>8</td>\n",
              "      <td>410.5</td>\n",
              "      <td>302.4</td>\n",
              "      <td>136.6</td>\n",
              "      <td>260.8</td>\n",
              "    </tr>\n",
              "    <tr>\n",
              "      <th>4</th>\n",
              "      <td>100</td>\n",
              "      <td>32</td>\n",
              "      <td>150</td>\n",
              "      <td>10</td>\n",
              "      <td>370.2</td>\n",
              "      <td>272.8</td>\n",
              "      <td>116.2</td>\n",
              "      <td>142.0</td>\n",
              "    </tr>\n",
              "  </tbody>\n",
              "</table>\n",
              "</div>"
            ]
          },
          "metadata": {},
          "execution_count": 10
        }
      ],
      "metadata": {
        "id": "rI_WusHbqMt3",
        "colab": {
          "base_uri": "https://localhost:8080/",
          "height": 224
        },
        "outputId": "ed6f5f16-dbeb-417e-dc80-a01c63377bb3"
      }
    },
    {
      "cell_type": "markdown",
      "source": [
        "Exploratory data analysis"
      ],
      "metadata": {
        "id": "ZAtlsi2eKenn"
      }
    },
    {
      "cell_type": "markdown",
      "source": [
        "Generate the necessary variables for modeling"
      ],
      "metadata": {
        "id": "BhrnuO7_MB2t"
      }
    },
    {
      "cell_type": "code",
      "execution_count": 11,
      "source": [
        "X1 = df2.iloc[:, :-4]\r\n",
        "X = X1.to_numpy()\r\n",
        "y1 = df2.iloc[:, -4:]\r\n",
        "y = y1.to_numpy()"
      ],
      "outputs": [],
      "metadata": {
        "id": "u4vNOq2TL7bI"
      }
    },
    {
      "cell_type": "code",
      "execution_count": 14,
      "source": [
        "def relu(x):\r\n",
        "   return np.maximum(x, 0, x)"
      ],
      "outputs": [],
      "metadata": {
        "id": "jbUSR_NT6N8d"
      }
    },
    {
      "cell_type": "code",
      "execution_count": 15,
      "source": [
        "def hidden_nodes(X):\r\n",
        "    G = np.dot(X, input_weights)\r\n",
        "    G = G + biases\r\n",
        "    H = relu(G)\r\n",
        "    return H"
      ],
      "outputs": [],
      "metadata": {
        "id": "0r5yMnU36RUq"
      }
    },
    {
      "cell_type": "code",
      "execution_count": 16,
      "source": [
        "def predict(X):\r\n",
        "    out = hidden_nodes(X)\r\n",
        "    out = np.dot(out, output_weights)\r\n",
        "    return out"
      ],
      "outputs": [],
      "metadata": {
        "id": "Z11b7skL6Uuk"
      }
    },
    {
      "cell_type": "code",
      "execution_count": 17,
      "source": [
        "def MAD(y, y_pred):\r\n",
        "    '''Calculates the Mean Absolute Deviation of two arrays of numbers\r\n",
        "    Input: y(array), y_pred(array)\r\n",
        "    Output: float\r\n",
        "    '''\r\n",
        "    import numpy as np\r\n",
        "\r\n",
        "    return np.average(np.abs(y - y_pred))"
      ],
      "outputs": [],
      "metadata": {}
    },
    {
      "cell_type": "code",
      "execution_count": 18,
      "source": [
        "def MAPE(y, y_pred):\r\n",
        "    '''\r\n",
        "    Calculates the relationship between the average prediction error\r\n",
        "    and the average expected target error for several consecutive periods.\r\n",
        "\r\n",
        "    Input: y(array), y_pred(array)\r\n",
        "    Output: float\r\n",
        "    '''\r\n",
        "    import numpy as np\r\n",
        "\r\n",
        "    # Calculate prediction error\r\n",
        "    error = y - y_pred\r\n",
        "\r\n",
        "    return np.average((np.abs(error)/y) * 100)"
      ],
      "outputs": [],
      "metadata": {}
    },
    {
      "cell_type": "code",
      "execution_count": 19,
      "source": [
        "def TS(y, y_pred):\r\n",
        "    '''\r\n",
        "    This index is used to track the accuracy of the model\r\n",
        "\r\n",
        "    Input: y(array), y_pred(array)\r\n",
        "    Output: float\r\n",
        "    '''\r\n",
        "    import numpy as np\r\n",
        "\r\n",
        "    def MAD(y, y_pred):\r\n",
        "        '''Calculates the Mean Absolute Deviation of two arrays of numbers\r\n",
        "        Input: y(array), y_pred(array)\r\n",
        "        Output: float\r\n",
        "        '''\r\n",
        "        return np.average(np.abs(y - y_pred))\r\n",
        "\r\n",
        "    return np.sum(y - y_pred) / MAD(y, y_pred)"
      ],
      "outputs": [],
      "metadata": {}
    },
    {
      "cell_type": "code",
      "execution_count": 20,
      "source": [
        "def split_name(name, char='_'):\r\n",
        "    index = name.find(char)\r\n",
        "    return name[:index].capitalize() + ' ' + name[index+1:].capitalize()\r\n"
      ],
      "outputs": [],
      "metadata": {}
    },
    {
      "cell_type": "code",
      "execution_count": 21,
      "source": [
        "# Split data in readiness for training.\r\n",
        "X_train, X_test, y_train, y_test = train_test_split(X, y, random_state=1, test_size=0.2)\r\n",
        "\r\n",
        "# Convert test data to dataframe and print it.\r\n",
        "y_test_df = pd.DataFrame(y_test, columns=['flexural_strength',\t'hardness_value',\t'residual_stress',\t'tensile_strength'])"
      ],
      "outputs": [],
      "metadata": {
        "id": "ZTw51LdTTZoi"
      }
    },
    {
      "cell_type": "markdown",
      "source": [
        "Predicting individual response separately to optimize prediction"
      ],
      "metadata": {}
    },
    {
      "cell_type": "code",
      "execution_count": 28,
      "source": [
        "metrics = []\r\n",
        "for hidden_size in range(10, 35, 10):\r\n",
        "    print(f'\\nELM Analysis for {hidden_size} Node(s)')\r\n",
        "    for i in range(y.shape[1]):\r\n",
        "        metric = [y1.columns[i], int(hidden_size)]\r\n",
        "        cols = y[:, i]\r\n",
        "        X_train, X_test, y_train, y_test = train_test_split(X, cols,random_state=1, test_size=0.5)\r\n",
        "\r\n",
        "        tic = timeit.timeit() #Start timer\r\n",
        "        input_size = X_train.shape[1]\r\n",
        "        input_weights = np.random.normal(size=[input_size,hidden_size])\r\n",
        "        biases = np.random.normal(size=[hidden_size])\r\n",
        "        output_weights = np.dot(pinv2(hidden_nodes(X_train)), y_train)\r\n",
        "        prediction = predict(X_test)\r\n",
        "        toc = timeit.timeit() #Stop timer\r\n",
        "\r\n",
        "        # Display data\r\n",
        "        print(f'\\n{y1.columns[i]}: {int(hidden_size)} Nodes')\r\n",
        "        a = []\r\n",
        "        for j in range(len(y_test)):\r\n",
        "            a.append([y_test[j], prediction[j]])\r\n",
        "\r\n",
        "        a_df = pd.DataFrame(a, columns=['Expected', 'Predicted'])\r\n",
        "\r\n",
        "        # Display output\r\n",
        "        print(a_df)\r\n",
        "        # plt.plot(y_test, prediction, '*', label='Predicted')\r\n",
        "        # plt.plot(y_test, y_test, label='Best fit line')\r\n",
        "        # plt.title(f'{split_name(y1.columns[i])} Prediction with {int(hidden_size/200)} Nodes')\r\n",
        "        # plt.legend()\r\n",
        "        # plt.show()\r\n",
        "        \r\n",
        "        \r\n",
        "\r\n",
        "        # Calculate the necessary metrics\r\n",
        "        r2 = r2_score(prediction, y_test)\r\n",
        "        mse = mean_squared_error(y_test, prediction)\r\n",
        "        rmse = np.sqrt(mse)\r\n",
        "        mad = MAD(y_test, prediction)\r\n",
        "        mape = MAPE(y_test, prediction)\r\n",
        "        ts = TS(y_test, prediction)\r\n",
        "        time = abs(toc - tic)\r\n",
        "\r\n",
        "        metric.extend([r2, mse, rmse, mad, mape, ts, time])   # Update metric\r\n",
        "        metrics.append(metric)  # Undate metrics\r\n",
        "\r\n",
        "\r\n",
        "metrics_df = pd.DataFrame(metrics, columns=['Variable', 'Nodes', 'R2', 'MSE', 'RMSE', 'MAD', 'MAPE', 'TS', 'Time'])\r\n",
        "\r\n",
        "print(metrics_df)"
      ],
      "outputs": [
        {
          "output_type": "stream",
          "name": "stdout",
          "text": [
            "\n",
            "tensile_strength: 10 Nodes\n",
            "   Expected   Predicted\n",
            "0     430.5  416.526510\n",
            "1     343.7  684.802797\n",
            "2     350.8  662.363409\n",
            "3     390.6  390.873490\n",
            "4     354.6  659.149778\n",
            "\n",
            "flexural_strength: 10 Nodes\n",
            "   Expected   Predicted\n",
            "0     312.6  292.507089\n",
            "1     268.2  640.589771\n",
            "2     264.8  570.079082\n",
            "3     293.2  288.028264\n",
            "4     270.0  548.155571\n",
            "\n",
            "hardness_value: 10 Nodes\n",
            "   Expected   Predicted\n",
            "0     152.4  136.282400\n",
            "1      95.6  363.446300\n",
            "2      98.5  320.020154\n",
            "3     130.2  135.295847\n",
            "4     108.4  296.340778\n",
            "\n",
            "residual_stress: 10 Nodes\n",
            "   Expected   Predicted\n",
            "0     265.4  247.988050\n",
            "1     325.2  659.929134\n",
            "2     318.5  526.496351\n",
            "3     220.6  174.769451\n",
            "4     312.8  539.308301\n",
            "\n",
            "tensile_strength: 20 Nodes\n",
            "   Expected   Predicted\n",
            "0     430.5  361.159915\n",
            "1     343.7  706.266773\n",
            "2     350.8  719.810847\n",
            "3     390.6  434.840085\n",
            "4     354.6  737.605463\n",
            "\n",
            "flexural_strength: 20 Nodes\n",
            "   Expected   Predicted\n",
            "0     312.6  282.690514\n",
            "1     268.2  655.699313\n",
            "2     264.8  594.467457\n",
            "3     293.2  295.426526\n",
            "4     270.0  557.219931\n",
            "\n",
            "hardness_value: 20 Nodes\n",
            "   Expected   Predicted\n",
            "0     152.4  159.150824\n",
            "1      95.6  318.967311\n",
            "2      98.5  285.768907\n",
            "3     130.2  105.887530\n",
            "4     108.4  263.218083\n",
            "\n",
            "residual_stress: 20 Nodes\n",
            "   Expected   Predicted\n",
            "0     265.4  393.062958\n",
            "1     325.2  789.898860\n",
            "2     318.5  565.883672\n",
            "3     220.6   54.337042\n",
            "4     312.8  416.872546\n",
            "\n",
            "tensile_strength: 30 Nodes\n",
            "   Expected   Predicted\n",
            "0     430.5  452.293410\n",
            "1     343.7  775.557954\n",
            "2     350.8  709.864777\n",
            "3     390.6  379.332350\n",
            "4     354.6  671.473867\n",
            "\n",
            "flexural_strength: 30 Nodes\n",
            "   Expected   Predicted\n",
            "0     312.6  325.565970\n",
            "1     268.2  528.113875\n",
            "2     264.8  503.853872\n",
            "3     293.2  260.603351\n",
            "4     270.0  479.834653\n",
            "\n",
            "hardness_value: 30 Nodes\n",
            "   Expected   Predicted\n",
            "0     152.4  143.048746\n",
            "1      95.6  290.321296\n",
            "2      98.5  275.672550\n",
            "3     130.2  121.951254\n",
            "4     108.4  269.223804\n",
            "\n",
            "residual_stress: 30 Nodes\n",
            "   Expected   Predicted\n",
            "0     265.4  281.879925\n",
            "1     325.2  580.823013\n",
            "2     318.5  485.210236\n",
            "3     220.6  184.522194\n",
            "4     312.8  464.130311\n",
            "             Variable  Nodes        R2           MSE        RMSE         MAD  \\\n",
            "0    tensile_strength     10 -2.602835  61273.755196  247.535362  194.292593   \n",
            "1   flexural_strength     10 -1.819806  61934.090534  248.865607  196.217814   \n",
            "2      hardness_value     10 -2.399798  31284.059966  176.873005  139.704136   \n",
            "3     residual_stress     10 -0.212404  41803.140179  204.458162  166.495257   \n",
            "4    tensile_strength     20 -2.274869  84216.417382  290.200650  245.632650   \n",
            "5   flexural_strength     20 -1.784805  68446.234695  261.622313  207.304543   \n",
            "6      hardness_value     20 -2.371895  21913.581543  148.032367  119.303519   \n",
            "7     residual_stress     20 -0.145844  66383.201727  257.649378  222.016199   \n",
            "8    tensile_strength     30 -2.514720  83287.953388  288.596524  228.171532   \n",
            "9   flexural_strength     30 -2.001583  33992.643145  184.370939  150.873004   \n",
            "10     hardness_value     30 -2.666037  19065.255861  138.076993  110.063530   \n",
            "11    residual_stress     30 -0.125976  23521.897396  153.368502  125.244258   \n",
            "\n",
            "          MAPE        TS      Time  \n",
            "0    55.452157 -4.856160  0.000479  \n",
            "1    73.069320 -4.742484  0.001451  \n",
            "2   138.586865 -4.769261  0.000312  \n",
            "3    53.596881 -4.240309  0.000092  \n",
            "4    69.224834 -4.435416  0.003217  \n",
            "5    77.136672 -4.711444  0.002783  \n",
            "6   117.938498 -4.592427  0.000721  \n",
            "7    75.461940 -3.502245  0.001105  \n",
            "8    65.062729 -4.901235  0.000212  \n",
            "9    56.033896 -4.567893  0.000022  \n",
            "10  108.877370 -4.680185  0.005626  \n",
            "11   40.378058 -4.423881  0.000019  \n"
          ]
        }
      ],
      "metadata": {}
    },
    {
      "cell_type": "code",
      "execution_count": null,
      "source": [],
      "outputs": [],
      "metadata": {}
    }
  ]
}