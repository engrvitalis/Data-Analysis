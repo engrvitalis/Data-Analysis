{
 "metadata": {
  "language_info": {
   "codemirror_mode": {
    "name": "ipython",
    "version": 3
   },
   "file_extension": ".py",
   "mimetype": "text/x-python",
   "name": "python",
   "nbconvert_exporter": "python",
   "pygments_lexer": "ipython3",
   "version": "3.8.5"
  },
  "orig_nbformat": 2,
  "kernelspec": {
   "name": "python385jvsc74a57bd01c72832a108eb0837c5c37e8e00e2391395febd5aef1dcb35f2d105938702949",
   "display_name": "Python 3.8.5 32-bit"
  },
  "metadata": {
   "interpreter": {
    "hash": "1c72832a108eb0837c5c37e8e00e2391395febd5aef1dcb35f2d105938702949"
   }
  }
 },
 "nbformat": 4,
 "nbformat_minor": 2,
 "cells": [
  {
   "cell_type": "code",
   "execution_count": null,
   "metadata": {},
   "outputs": [],
   "source": [
    "\"\"\"Import the required modules\"\"\"\n",
    "from sklearn.linear_model import LinearRegression, Ridge\n",
    "from sklearn.model_selection import train_test_split\n",
    "from sklearn.preprocessing import StandardScaler\n",
    "from sklearn.metrics import r2_score, mean_squared_error, mean_absolute_error\n",
    "import matplotlib.pyplot as plt\n",
    "import pandas as pd\n",
    "import numpy as np"
   ]
  },
  {
   "cell_type": "code",
   "execution_count": null,
   "metadata": {},
   "outputs": [],
   "source": [
    "def get_tables(file1, file2):\n",
    "    \n",
    "  # Reads in files.\n",
    "  dfs = [pd.read_csv(file1), pd.read_csv(file2)]\n",
    "\n",
    "  # Create dummies.\n",
    "  a = 0\n",
    "  for i, df in enumerate(dfs):\n",
    "    dfs[i] = pd.get_dummies(df)\n",
    "    dfs[i] = pd.concat([dfs[i].iloc[:, :4], dfs[i].iloc[:, -5+a:], dfs[i].iloc[:, 4:8+a]], axis=1)\n",
    "    a += 1\n",
    "\n",
    "  return dfs"
   ]
  },
  {
   "cell_type": "code",
   "execution_count": null,
   "metadata": {},
   "outputs": [],
   "source": [
    "df = pd.read_csv('fibre_data.csv')"
   ]
  },
  {
   "cell_type": "code",
   "execution_count": 111,
   "metadata": {},
   "outputs": [],
   "source": [
    "def generate_train_test(df):\n",
    "  X = df.iloc[:, :-1]\n",
    "  y = df.iloc[:, -1]\n",
    "\n",
    "  return train_test_split(X, y,random_state=1, test_size=0.2)"
   ]
  },
  {
   "cell_type": "code",
   "execution_count": 116,
   "metadata": {},
   "outputs": [
    {
     "output_type": "stream",
     "name": "stdout",
     "text": [
      "\nOutputs for welding_data_by_properties.csv\n\nCoefficients:\n[-0.01646411  0.0286987   0.03570584  0.06901638]\n\nIntercepts:\n3.791434258166393\n\nR2: -1.710888479575234\n\nRegression Equations:\n"
     ]
    }
   ],
   "source": [
    "for i in range(1):\n",
    "    X_train, X_test, y_train, y_test = generate_train_test(df)\n",
    "\n",
    "    reg = LinearRegression()\n",
    "    reg.fit(X_train, y_train)\n",
    "    y_pred = reg.predict(X_test)\n",
    "\n",
    "    print(f'\\nOutputs for {file[i]}')\n",
    "    print(f'\\nCoefficients:')\n",
    "    coefficients = reg.coef_\n",
    "    print(coefficients)\n",
    "\n",
    "    print(f'\\nIntercepts:')\n",
    "    intercepts = reg.intercept_\n",
    "    print(intercepts)\n",
    "\n",
    "    print(f'\\nR2: {reg.score(X_test, y_test)}\\n')\n",
    "\n",
    "    print('Regression Equations:')\n",
    "    equation = ''\n",
    "    # for idx, j in enumerate(coefficients):\n",
    "    #     for idy, k in enumerate(j):\n",
    "    #         equation += f'{round(k, 2)}*X{idy} + '\n",
    "    #     print(f'({idx+1}). {round(intercepts[idx], 2)} + {equation[:-3]}')\n",
    "    #     equation = ''"
   ]
  },
  {
   "cell_type": "code",
   "execution_count": null,
   "metadata": {},
   "outputs": [],
   "source": []
  }
 ]
}