{
 "metadata": {
  "language_info": {
   "codemirror_mode": {
    "name": "ipython",
    "version": 3
   },
   "file_extension": ".py",
   "mimetype": "text/x-python",
   "name": "python",
   "nbconvert_exporter": "python",
   "pygments_lexer": "ipython3",
   "version": "3.8.5"
  },
  "orig_nbformat": 2,
  "kernelspec": {
   "name": "python385jvsc74a57bd01c72832a108eb0837c5c37e8e00e2391395febd5aef1dcb35f2d105938702949",
   "display_name": "Python 3.8.5 32-bit"
  },
  "metadata": {
   "interpreter": {
    "hash": "1c72832a108eb0837c5c37e8e00e2391395febd5aef1dcb35f2d105938702949"
   }
  }
 },
 "nbformat": 4,
 "nbformat_minor": 2,
 "cells": [
  {
   "cell_type": "code",
   "execution_count": 1,
   "metadata": {},
   "outputs": [],
   "source": [
    "# from google.colab import files\n",
    "\n",
    "# uploaded = files.upload()"
   ]
  },
  {
   "cell_type": "code",
   "execution_count": 2,
   "metadata": {},
   "outputs": [],
   "source": [
    "\"\"\"Import the required modules\"\"\"\n",
    "from sklearn.linear_model import LinearRegression, Ridge\n",
    "from sklearn.model_selection import train_test_split\n",
    "from sklearn.preprocessing import StandardScaler\n",
    "from sklearn.metrics import r2_score, mean_squared_error, mean_absolute_error\n",
    "import matplotlib.pyplot as plt\n",
    "import pandas as pd\n",
    "import numpy as np"
   ]
  },
  {
   "cell_type": "code",
   "execution_count": 3,
   "metadata": {},
   "outputs": [],
   "source": [
    "def get_tables(file1, file2):\n",
    "    \n",
    "  # Reads in files.\n",
    "  dfs = [pd.read_csv(file1), pd.read_csv(file2)]\n",
    "\n",
    "  # Create dummies.\n",
    "  a = 0\n",
    "  for i, df in enumerate(dfs):\n",
    "    dfs[i] = pd.get_dummies(df)\n",
    "    dfs[i] = pd.concat([dfs[i].iloc[:, :4], dfs[i].iloc[:, -5+a:], dfs[i].iloc[:, 4:8+a]], axis=1)\n",
    "    a += 1\n",
    "\n",
    "  return dfs"
   ]
  },
  {
   "cell_type": "code",
   "execution_count": 10,
   "metadata": {},
   "outputs": [],
   "source": [
    "file = ('welding_data_by_properties.csv', 'welding_data_by_welding_types.csv')\n",
    "df = get_tables(file[0], file[1])"
   ]
  },
  {
   "cell_type": "code",
   "execution_count": 5,
   "metadata": {},
   "outputs": [],
   "source": [
    "def generate_train_test(i, df):\n",
    "  X = df[i].iloc[:, :9-i]\n",
    "  y = df[i].iloc[:, -4:]\n",
    "\n",
    "  return train_test_split(X, y,random_state=1, test_size=0.2)"
   ]
  },
  {
   "cell_type": "code",
   "execution_count": 19,
   "metadata": {},
   "outputs": [
    {
     "output_type": "stream",
     "name": "stdout",
     "text": [
      "\nOutputs for welding_data_by_properties.csv\n\nCoefficients:\n[[   2.83711357   12.70901154   -3.36367979    8.49278845 -278.93728344\n  -431.7242221  1387.49747265 -302.31442829 -126.90519944]\n [   2.42230596   11.0859444    -2.9693308     9.15282651 -225.34088724\n  -343.3535095  1094.65481676 -243.27490126  -84.2041348 ]\n [   2.49878684   11.59157222   -2.97708262    8.99801773 -226.62844667\n  -350.66762408 1087.91226086 -236.7758715   -74.84495495]\n [   1.39377031   10.90689045   -1.92253069    5.30224167  -79.14520433\n  -299.98038831  782.4953942  -262.94817182   16.52973491]]\n\nIntercepts:\n[190.92327644 135.56600145 120.18078236 103.81323488]\n\nR2: 0.7310102043140464\n\nRegression Equations:\nsaw = 190.92 + 2.84*current + 12.71*voltage + -3.36*welding_speed + 8.49*plate_thickness + -278.94*flexural_strength + -431.72*hardness + 1387.5*heat_input + -302.31*residual_stress + -126.91*tensile_strength\nsmaw = 135.57 + 2.42*current + 11.09*voltage + -2.97*welding_speed + 9.15*plate_thickness + -225.34*flexural_strength + -343.35*hardness + 1094.65*heat_input + -243.27*residual_stress + -84.2*tensile_strength\ngmaw = 120.18 + 2.5*current + 11.59*voltage + -2.98*welding_speed + 9.0*plate_thickness + -226.63*flexural_strength + -350.67*hardness + 1087.91*heat_input + -236.78*residual_stress + -74.84*tensile_strength\ngtaw = 103.81 + 1.39*current + 10.91*voltage + -1.92*welding_speed + 5.3*plate_thickness + -79.15*flexural_strength + -299.98*hardness + 782.5*heat_input + -262.95*residual_stress + 16.53*tensile_strength\n\nOutputs for welding_data_by_welding_types.csv\n\nCoefficients:\n[[-7.77353434e-02 -8.85660250e+00 -1.77121339e-01 -3.37587716e+00\n  -6.55984473e+00  3.14873471e+01  9.63724275e+00 -3.19654414e+01]\n [-4.00760380e-02 -1.75621266e+00 -3.01244157e-01 -1.17441286e+00\n  -2.48932565e+01  4.83200802e+01  1.42801891e+01 -3.04227312e+01]\n [-2.95203832e-01 -1.77559533e+00  1.32028801e-01 -9.50211278e-01\n   3.31440248e+00 -2.60284594e+01  1.15024937e+01  3.75789407e+00]\n [ 1.15139002e+00  1.01412522e+00 -1.32619384e+00 -1.85811111e+00\n   1.88495087e+01 -8.79693016e+01  3.93750684e+01  2.78342113e+00]]\n\nIntercepts:\n[681.77195529 371.41257259 193.15727047 209.91832638]\n\nR2: 0.5611060545468548\n\nRegression Equations:\ntensile_strength = 681.77 + -0.08*current + -8.86*voltage + -0.18*welding_speed + -3.38*plate_thickness + -6.56*GMAW + 31.49*GTAW + 9.64*SAW + -31.97*SMAW\nflexural_strength = 371.41 + -0.04*current + -1.76*voltage + -0.3*welding_speed + -1.17*plate_thickness + -24.89*GMAW + 48.32*GTAW + 14.28*SAW + -30.42*SMAW\nhardness_value = 193.16 + -0.3*current + -1.78*voltage + 0.13*welding_speed + -0.95*plate_thickness + 3.31*GMAW + -26.03*GTAW + 11.5*SAW + 3.76*SMAW\nresidual_stress = 209.92 + 1.15*current + 1.01*voltage + -1.33*welding_speed + -1.86*plate_thickness + 18.85*GMAW + -87.97*GTAW + 39.38*SAW + 2.78*SMAW\n"
     ]
    }
   ],
   "source": [
    "for i in range(2):\n",
    "    X_train, X_test, y_train, y_test = generate_train_test(i, df)\n",
    "\n",
    "    reg = Ridge(alpha=0.1, normalize=True)\n",
    "    reg.fit(X_train, y_train)\n",
    "    y_pred = reg.predict(X_test)\n",
    "\n",
    "    print(f'\\nOutputs for {file[i]}')\n",
    "    print(f'\\nCoefficients:')\n",
    "    coefficients = reg.coef_\n",
    "    print(coefficients)\n",
    "\n",
    "    print(f'\\nIntercepts:')\n",
    "    intercepts = reg.intercept_\n",
    "    print(intercepts)\n",
    "\n",
    "    print(f'\\nR2: {reg.score(X_test, y_test)}\\n')\n",
    "\n",
    "    print('Regression Equations:')\n",
    "    col_names = [name for name in df[i].columns]\n",
    "\n",
    "    df_col = []\n",
    "    for name in df[i].columns:\n",
    "        if 'property' in name:\n",
    "            df_col.append(name[len('property')+1:])\n",
    "        elif 'welding_type' in name:\n",
    "            df_col.append(name[len('welding_type')+1:])\n",
    "        else:\n",
    "            df_col.append(name)\n",
    "\n",
    "    equation = ''\n",
    "    for idx, j in enumerate(coefficients):\n",
    "        for idy, k in enumerate(j):\n",
    "            equation += f'{round(k, 2)}*{df_col[idy]} + '\n",
    "        print(f'{y_train.columns[idx]} = {round(intercepts[idx], 2)} + {equation[:-3]}')\n",
    "        equation = ''"
   ]
  },
  {
   "cell_type": "code",
   "execution_count": null,
   "metadata": {},
   "outputs": [],
   "source": []
  }
 ]
}