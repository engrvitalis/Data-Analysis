{
  "nbformat": 4,
  "nbformat_minor": 0,
  "metadata": {
    "colab": {
      "name": "Copy of ANN/ELM_Welding Analysis1",
      "provenance": [],
      "collapsed_sections": [],
      "mount_file_id": "141WMz80xJim0BlbDLOj8q-Koc5FXLHY5",
      "authorship_tag": "ABX9TyOhCUBHSYGuxnLixMNJttfW",
      "include_colab_link": true
    },
    "kernelspec": {
      "name": "python3",
      "display_name": "Python 3"
    },
    "language_info": {
      "name": "python"
    }
  },
  "cells": [
    {
      "cell_type": "markdown",
      "metadata": {
        "id": "view-in-github",
        "colab_type": "text"
      },
      "source": [
        "<a href=\"https://colab.research.google.com/github/engrvitalis/NAU/blob/main/Copy_of_ANN_ELM_Welding_Analysis1.ipynb\" target=\"_parent\"><img src=\"https://colab.research.google.com/assets/colab-badge.svg\" alt=\"Open In Colab\"/></a>"
      ]
    },
    {
      "cell_type": "markdown",
      "metadata": {
        "id": "drEFLDdZfAmD"
      },
      "source": [
        "Import relevant packages."
      ]
    },
    {
      "cell_type": "code",
      "metadata": {
        "id": "Gc3npuPEvizW"
      },
      "source": [
        "\"\"\"Import the required modules\"\"\"\n",
        "from sklearn.neural_network import MLPRegressor\n",
        "from sklearn.model_selection import train_test_split\n",
        "from sklearn.preprocessing import StandardScaler\n",
        "from sklearn.metrics import r2_score, mean_squared_error, mean_absolute_error\n",
        "from scipy.linalg import pinv2\n",
        "import matplotlib.pyplot as plt\n",
        "import pandas as pd\n",
        "import numpy as np\n",
        "\n",
        "# pd.set_option('display.max_rows', 500)\n",
        "# pd.set_option('display.max_columns', 500)\n",
        "# pd.set_option('display.width', 150)"
      ],
      "execution_count": 11,
      "outputs": []
    },
    {
      "cell_type": "markdown",
      "metadata": {
        "id": "7DE8SbIqMLhB"
      },
      "source": [
        "Initialize relevant functions."
      ]
    },
    {
      "cell_type": "code",
      "metadata": {
        "id": "ekw9cGl29j9n"
      },
      "source": [
        "def get_data(file1, file2):\n",
        "  return pd.read_csv(file1), pd.read_csv(file2)"
      ],
      "execution_count": 22,
      "outputs": []
    },
    {
      "cell_type": "code",
      "metadata": {
        "id": "uvQ-osYl-mWI"
      },
      "source": [
        "file1 = '/content/drive/MyDrive/Analysis jobs/Achike/Data/welding_data_by_properties.csv'\n",
        "file2 = '/content/drive/MyDrive/Analysis jobs/Achike/Data/welding_data_by_welding_types.csv'\n",
        "\n",
        "df1, df2 = get_data(file1, file2)"
      ],
      "execution_count": 27,
      "outputs": []
    },
    {
      "cell_type": "code",
      "metadata": {
        "id": "t_n3GGEl7HkN"
      },
      "source": [
        "def format_table(name, drop_column, columns):\n",
        "  df = pd.read_csv(name)\n",
        "  df = pd.get_dummies(df).drop(drop_column, axis=1)\n",
        "  df = df[columns]\n",
        "  return df"
      ],
      "execution_count": 12,
      "outputs": []
    },
    {
      "cell_type": "code",
      "metadata": {
        "id": "Il0ZaytU9k7k"
      },
      "source": [
        ""
      ],
      "execution_count": null,
      "outputs": []
    },
    {
      "cell_type": "code",
      "metadata": {
        "id": "nW8knTWd_2Ea"
      },
      "source": [
        "def explore(df):\n",
        "  pos = 1\n",
        "  for i in range(4):\n",
        "    print(f'\\t{df.columns[i].capitalize()} vs Response values')\n",
        "    plt.figure(figsize=[10, 5])\n",
        "    for j in range(8, 12):\n",
        "      plt.subplot(1, 4, pos)\n",
        "      plt.scatter(df.iloc[:, i], df.iloc[:, j])\n",
        "      plt.ylabel(df.columns[j])\n",
        "      plt.xlabel(df.columns[i])\n",
        "      pos += 1\n",
        "    plt.tight_layout()\n",
        "    plt.show()\n",
        "    print('\\n')\n",
        "    pos = 1"
      ],
      "execution_count": 13,
      "outputs": []
    },
    {
      "cell_type": "code",
      "metadata": {
        "id": "wLBLP2oIulI_"
      },
      "source": [
        "def generate_train_test(df, n_cols):\n",
        "  X = df.iloc[:, :n_cols].to_numpy()\n",
        "  y = df.iloc[:, -4:].to_numpy()\n",
        "\n",
        "  return train_test_split(X, y,random_state=1, test_size=0.2)"
      ],
      "execution_count": 14,
      "outputs": []
    },
    {
      "cell_type": "code",
      "metadata": {
        "id": "XABABVGZJKM4"
      },
      "source": [
        "def ann_analysis(df, n_cols):\n",
        "  X = df.iloc[:, :n_cols].to_numpy()\n",
        "  y = df.iloc[:, -4:].to_numpy()\n",
        "\n",
        "  X_train, X_test, y_train, y_test = train_test_split(X, y,random_state=1, test_size=0.2)\n",
        "\n",
        "  sc_X = StandardScaler()\n",
        "  X_trainscaled=sc_X.fit_transform(X_train)\n",
        "  X_testscaled=sc_X.transform(X_test)\n",
        "\n",
        "  reg = MLPRegressor(hidden_layer_sizes=(64, 64, 64), activation='relu', random_state=1, max_iter=5000).fit(X_trainscaled, y_train)\n",
        "\n",
        "  y_ann_pred=reg.predict(X_testscaled)\n",
        "  ann_r2 = r2_score(y_ann_pred, y_test)\n",
        "  ann_rmse = np.sqrt(mean_squared_error(y_test, y_ann_pred))\n",
        "  ann_mae = mean_absolute_error(y_test, y_ann_pred)\n",
        "\n",
        "  return reg, ann_r2, ann_rmse, ann_mae, X_train, y_train, X_test, y_test, y_ann_pred"
      ],
      "execution_count": 15,
      "outputs": []
    },
    {
      "cell_type": "code",
      "metadata": {
        "id": "t1WI8hjOL-fj"
      },
      "source": [
        "def elm_analysis(hidden_size=5000):\n",
        "  input_size = X_train.shape[1]\n",
        "  hidden_size = hidden_size\n",
        "  input_weights = np.random.normal(size=[input_size,hidden_size])\n",
        "  biases = np.random.normal(size=[hidden_size])\n",
        "\n",
        "  def relu(x):\n",
        "    return np.maximum(x, 0, x)\n",
        "\n",
        "  def hidden_nodes(X):\n",
        "      G = np.dot(X, input_weights)\n",
        "      G = G + biases\n",
        "      H = relu(G)\n",
        "      return H\n",
        "\n",
        "  output_weights = np.dot(pinv2(hidden_nodes(X_train)), y_train)\n",
        "\n",
        "  def predict(X):\n",
        "      out = hidden_nodes(X)\n",
        "      out = np.dot(out, output_weights)\n",
        "      return out\n",
        "\n",
        "  y_elm_pred = predict(X_test)\n",
        "  elm_r2 = r2_score(y_test, y_elm_pred)\n",
        "  elm_rmse = np.sqrt(mean_squared_error(y_test, y_elm_pred))\n",
        "  elm_mae = mean_absolute_error(y_test, y_elm_pred)\n",
        "\n",
        "  return elm_r2, elm_rmse, elm_mae, X_train, y_train, X_test, y_test, y_elm_pred"
      ],
      "execution_count": 16,
      "outputs": []
    },
    {
      "cell_type": "code",
      "metadata": {
        "id": "RsPqGe2ezU4J"
      },
      "source": [
        "def disp_matrics(r2, rmse, mae, title):\n",
        "  print(title)\n",
        "  print('===============================================')\n",
        "  print(f'R^2:\\t{r2}')\n",
        "  print(f'rmse:\\t{rmse}')\n",
        "  print(f'mae:\\t{mae}')\n",
        "  print('\\n')"
      ],
      "execution_count": 17,
      "outputs": []
    },
    {
      "cell_type": "code",
      "metadata": {
        "id": "XP1mNVerWL5v"
      },
      "source": [
        "def disp_graphs():\n",
        "  plt.figure(figsize=(10, 5))\n",
        "\n",
        "  plt.subplot(1, 2, 1)\n",
        "  plt.scatter(y_ann_pred, y_test)\n",
        "  plt.plot([y_test.min(), y_test.max()], [y_test.min(), y_test.max()], 'r--', lw=3)\n",
        "  plt.title('ANN')\n",
        "  plt.xlabel('Predicted')\n",
        "  plt.ylabel('Actual')\n",
        "\n",
        "  plt.subplot(1, 2, 2)\n",
        "  plt.scatter(y_elm_pred, y_test)\n",
        "  plt.plot([y_test.min(), y_test.max()], [y_test.min(), y_test.max()], 'r--', lw=3)\n",
        "  plt.title('ELM')\n",
        "  plt.xlabel('Predicted')\n",
        "  plt.ylabel('Actual')\n",
        "\n",
        "  plt.suptitle('Comparing Models Predictive Abilities', x=.506, y=1.03, fontsize=16)\n",
        "\n",
        "  plt.tight_layout()\n",
        "\n",
        "  plt.show()"
      ],
      "execution_count": 18,
      "outputs": []
    },
    {
      "cell_type": "code",
      "metadata": {
        "id": "fg5Jg8cShKzQ"
      },
      "source": [
        "def disp_compare_graphs():\n",
        "  plt.figure(figsize = (10, 5))\n",
        "\n",
        "  x = np.arange(3)\n",
        "  ann = [ann_r2*100, ann_rmse, ann_mae]\n",
        "  elm = [elm_r2*100, elm_rmse, elm_mae]\n",
        "  width = 0.40\n",
        "    \n",
        "  # plot data in grouped manner of bar type\n",
        "  plt.bar(x-0.2, ann, width, color='green')\n",
        "  plt.bar(x+0.2, elm, width, color='red')\n",
        "  plt.xticks(x, ['R^2', 'RMSE', 'MAE'])\n",
        "  plt.title(\"Comparing metrics for ANN and ELM\")\n",
        "  plt.xlabel(\"Metrics\")\n",
        "  plt.ylabel(\"Values\")\n",
        "  plt.legend([\"ANN\", \"ELM\"])\n",
        "  plt.show()"
      ],
      "execution_count": 19,
      "outputs": []
    },
    {
      "cell_type": "code",
      "metadata": {
        "colab": {
          "base_uri": "https://localhost:8080/",
          "height": 224
        },
        "id": "XJ5bouZ-EgIY",
        "outputId": "31b99143-bd4f-45b5-9574-47144f35ac96"
      },
      "source": [
        "# Initialize variables and return a dataframe formatted as per specification.\n",
        "name = '/content/drive/MyDrive/Analysis jobs/Achike/Data/welding_data_by_properties.csv'\n",
        "drop_column = 'property_flexural_strength'\n",
        "columns = ['current',\t'voltage',\t'welding_speed',\t'plate_thickness',\t'property_hardness',\n",
        "            'property_heat_input',\t'property_residual_stress',\t'property_tensile_strength',\n",
        "           'saw',\t'smaw',\t'gmaw',\t'gtaw']\n",
        "df = format_table(name, drop_column, columns)\n",
        "\n",
        "# Explore available data.\n",
        "df.head()"
      ],
      "execution_count": 20,
      "outputs": [
        {
          "output_type": "execute_result",
          "data": {
            "text/html": [
              "<div>\n",
              "<style scoped>\n",
              "    .dataframe tbody tr th:only-of-type {\n",
              "        vertical-align: middle;\n",
              "    }\n",
              "\n",
              "    .dataframe tbody tr th {\n",
              "        vertical-align: top;\n",
              "    }\n",
              "\n",
              "    .dataframe thead th {\n",
              "        text-align: right;\n",
              "    }\n",
              "</style>\n",
              "<table border=\"1\" class=\"dataframe\">\n",
              "  <thead>\n",
              "    <tr style=\"text-align: right;\">\n",
              "      <th></th>\n",
              "      <th>current</th>\n",
              "      <th>voltage</th>\n",
              "      <th>welding_speed</th>\n",
              "      <th>plate_thickness</th>\n",
              "      <th>property_hardness</th>\n",
              "      <th>property_heat_input</th>\n",
              "      <th>property_residual_stress</th>\n",
              "      <th>property_tensile_strength</th>\n",
              "      <th>saw</th>\n",
              "      <th>smaw</th>\n",
              "      <th>gmaw</th>\n",
              "      <th>gtaw</th>\n",
              "    </tr>\n",
              "  </thead>\n",
              "  <tbody>\n",
              "    <tr>\n",
              "      <th>0</th>\n",
              "      <td>100</td>\n",
              "      <td>24</td>\n",
              "      <td>90</td>\n",
              "      <td>6</td>\n",
              "      <td>0</td>\n",
              "      <td>1</td>\n",
              "      <td>0</td>\n",
              "      <td>0</td>\n",
              "      <td>1600.0</td>\n",
              "      <td>1280.0</td>\n",
              "      <td>1280.0</td>\n",
              "      <td>960.0</td>\n",
              "    </tr>\n",
              "    <tr>\n",
              "      <th>1</th>\n",
              "      <td>100</td>\n",
              "      <td>28</td>\n",
              "      <td>120</td>\n",
              "      <td>8</td>\n",
              "      <td>0</td>\n",
              "      <td>1</td>\n",
              "      <td>0</td>\n",
              "      <td>0</td>\n",
              "      <td>1400.0</td>\n",
              "      <td>1120.0</td>\n",
              "      <td>1120.0</td>\n",
              "      <td>840.0</td>\n",
              "    </tr>\n",
              "    <tr>\n",
              "      <th>2</th>\n",
              "      <td>100</td>\n",
              "      <td>32</td>\n",
              "      <td>150</td>\n",
              "      <td>10</td>\n",
              "      <td>0</td>\n",
              "      <td>1</td>\n",
              "      <td>0</td>\n",
              "      <td>0</td>\n",
              "      <td>1280.0</td>\n",
              "      <td>1024.0</td>\n",
              "      <td>1024.0</td>\n",
              "      <td>768.0</td>\n",
              "    </tr>\n",
              "    <tr>\n",
              "      <th>3</th>\n",
              "      <td>130</td>\n",
              "      <td>24</td>\n",
              "      <td>120</td>\n",
              "      <td>10</td>\n",
              "      <td>0</td>\n",
              "      <td>1</td>\n",
              "      <td>0</td>\n",
              "      <td>0</td>\n",
              "      <td>1560.0</td>\n",
              "      <td>1248.0</td>\n",
              "      <td>1248.0</td>\n",
              "      <td>936.0</td>\n",
              "    </tr>\n",
              "    <tr>\n",
              "      <th>4</th>\n",
              "      <td>130</td>\n",
              "      <td>28</td>\n",
              "      <td>150</td>\n",
              "      <td>6</td>\n",
              "      <td>0</td>\n",
              "      <td>1</td>\n",
              "      <td>0</td>\n",
              "      <td>0</td>\n",
              "      <td>1456.0</td>\n",
              "      <td>1165.0</td>\n",
              "      <td>1165.0</td>\n",
              "      <td>874.0</td>\n",
              "    </tr>\n",
              "  </tbody>\n",
              "</table>\n",
              "</div>"
            ],
            "text/plain": [
              "   current  voltage  welding_speed  ...    smaw    gmaw   gtaw\n",
              "0      100       24             90  ...  1280.0  1280.0  960.0\n",
              "1      100       28            120  ...  1120.0  1120.0  840.0\n",
              "2      100       32            150  ...  1024.0  1024.0  768.0\n",
              "3      130       24            120  ...  1248.0  1248.0  936.0\n",
              "4      130       28            150  ...  1165.0  1165.0  874.0\n",
              "\n",
              "[5 rows x 12 columns]"
            ]
          },
          "metadata": {
            "tags": []
          },
          "execution_count": 20
        }
      ]
    },
    {
      "cell_type": "code",
      "metadata": {
        "colab": {
          "base_uri": "https://localhost:8080/",
          "height": 1000
        },
        "id": "td1CR9fpGUcZ",
        "outputId": "9fa681c9-91cd-479c-a229-d59ea94421c9"
      },
      "source": [
        "# display(df.describe())\n",
        "# print('')\n",
        "# explore(df)\n",
        "\n",
        "# Build models, train and predict.\n",
        "print('MODEL MATRICS.')\n",
        "print('===============================================')\n",
        "print('')\n",
        "reg, ann_r2, ann_rmse, ann_mae, X_train, y_train, X_test, y_test, y_ann_pred = ann_analysis(df, 8)\n",
        "elm_r2, elm_rmse, elm_mae, X_train, y_train, X_test, y_test, y_elm_pred = elm_analysis()\n",
        "\n",
        "# Initialize variables.\n",
        "ann_params = ['The ANN model performance for testing set', ann_r2, ann_rmse, ann_mae]\n",
        "elm_params = ['The ELM model performance for testing set', elm_r2, elm_rmse, elm_mae]\n",
        "\n",
        "# Display metrics.\n",
        "for param in [ann_params, elm_params]:\n",
        "  disp_matrics(param[1], param[2], param[3], param[0])\n",
        "\n",
        "data = [['R^2', elm_r2, ann_r2], \n",
        "        ['rmse', elm_rmse, ann_rmse], \n",
        "        ['mae', elm_mae, ann_mae]]\n",
        "metric_table = pd.DataFrame(data, columns=['Score', 'ELM', 'ANN'])\n",
        "print(metric_table, '\\n\\n')\n",
        "\n",
        "# Display graphics.\n",
        "disp_graphs()\n",
        "\n",
        "disp_compare_graphs()"
      ],
      "execution_count": 21,
      "outputs": [
        {
          "output_type": "stream",
          "text": [
            "MODEL MATRICS.\n",
            "===============================================\n",
            "\n"
          ],
          "name": "stdout"
        },
        {
          "output_type": "stream",
          "text": [
            "/usr/local/lib/python3.7/dist-packages/sklearn/neural_network/_multilayer_perceptron.py:571: ConvergenceWarning: Stochastic Optimizer: Maximum iterations (5000) reached and the optimization hasn't converged yet.\n",
            "  % self.max_iter, ConvergenceWarning)\n"
          ],
          "name": "stderr"
        },
        {
          "output_type": "stream",
          "text": [
            "The ANN model performance for testing set\n",
            "===============================================\n",
            "R^2:\t0.9645866112223535\n",
            "rmse:\t80.72969178440474\n",
            "mae:\t64.74600109874886\n",
            "\n",
            "\n",
            "The ELM model performance for testing set\n",
            "===============================================\n",
            "R^2:\t0.9896101319128716\n",
            "rmse:\t33.9819568153939\n",
            "mae:\t27.50035602971603\n",
            "\n",
            "\n",
            "  Score        ELM        ANN\n",
            "0   R^2   0.989610   0.964587\n",
            "1  rmse  33.981957  80.729692\n",
            "2   mae  27.500356  64.746001 \n",
            "\n",
            "\n"
          ],
          "name": "stdout"
        },
        {
          "output_type": "display_data",
          "data": {
            "image/png": "[encoded data removed]",
            "text/plain": [
              "<Figure size 720x360 with 2 Axes>"
            ]
          },
          "metadata": {
            "tags": [],
            "needs_background": "light"
          }
        },
        {
          "output_type": "display_data",
          "data": {
            "image/png": "[encoded data removed]",
            "text/plain": [
              "<Figure size 720x360 with 1 Axes>"
            ]
          },
          "metadata": {
            "tags": [],
            "needs_background": "light"
          }
        }
      ]
    }
  ]
}